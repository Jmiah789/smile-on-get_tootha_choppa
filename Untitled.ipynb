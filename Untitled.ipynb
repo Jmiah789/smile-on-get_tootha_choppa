{
 "cells": [
  {
   "cell_type": "code",
   "execution_count": 9,
   "id": "e270b5dd",
   "metadata": {},
   "outputs": [],
   "source": [
    "import pandas as pd\n"
   ]
  },
  {
   "cell_type": "code",
   "execution_count": 14,
   "id": "3799eebb",
   "metadata": {},
   "outputs": [
    {
     "name": "stderr",
     "output_type": "stream",
     "text": [
      "C:\\Users\\jojuk\\Anaconda3\\lib\\site-packages\\IPython\\core\\interactiveshell.py:3165: DtypeWarning: Columns (0,2,5,6,7,8,9,10,11,12,13,14,15,20,21,22,23,24,26,27,28,29,30,31,32,33,35,36,37,38,39,40,41,42,43,44,45,46,47,49,52,53,55,56,57,58,59,62,63,64,65,66,67,68,69,70,71,72,73,74,75,76,77,78,79,80,81,82,83,84,85,86,87,88,89,90,91,92,93,94,95,96,97,98,99,100,101,102,103,104,105,106,107,108,109,110,111,112,113,114,115,116,117,118,119,120,121,122,123,124,125,126,127,128,129,141,144,156,157,158,159,165,166) have mixed types.Specify dtype option on import or set low_memory=False.\n",
      "  has_raised = await self.run_ast_nodes(code_ast.body, cell_name,\n"
     ]
    }
   ],
   "source": [
    "data = pd.read_csv(r\"C:\\Users\\jojuk\\Documents\\git\\projects\\smile-on-get_tootha_choppa\\data\\Smileon.csv\")"
   ]
  },
  {
   "cell_type": "code",
   "execution_count": 17,
   "id": "37343884",
   "metadata": {},
   "outputs": [
    {
     "name": "stdout",
     "output_type": "stream",
     "text": [
      "<class 'pandas.core.frame.DataFrame'>\n",
      "RangeIndex: 57862 entries, 0 to 57861\n",
      "Columns: 184 entries, FamilyandChildrensService - CallReports export requested on Monday October 11 2021 at 8:30 PM. to Unnamed: 183\n",
      "dtypes: object(184)\n",
      "memory usage: 81.2+ MB\n"
     ]
    }
   ],
   "source": [
    "data.info()"
   ]
  },
  {
   "cell_type": "code",
   "execution_count": 21,
   "id": "e58e9ffe",
   "metadata": {},
   "outputs": [
    {
     "data": {
      "text/html": [
       "<div>\n",
       "<style scoped>\n",
       "    .dataframe tbody tr th:only-of-type {\n",
       "        vertical-align: middle;\n",
       "    }\n",
       "\n",
       "    .dataframe tbody tr th {\n",
       "        vertical-align: top;\n",
       "    }\n",
       "\n",
       "    .dataframe thead th {\n",
       "        text-align: right;\n",
       "    }\n",
       "</style>\n",
       "<table border=\"1\" class=\"dataframe\">\n",
       "  <thead>\n",
       "    <tr style=\"text-align: right;\">\n",
       "      <th></th>\n",
       "      <th>FamilyandChildrensService - CallReports export requested on Monday October 11 2021 at 8:30 PM.</th>\n",
       "      <th>Unnamed: 1</th>\n",
       "      <th>Unnamed: 2</th>\n",
       "      <th>Unnamed: 3</th>\n",
       "      <th>Unnamed: 4</th>\n",
       "      <th>Unnamed: 5</th>\n",
       "      <th>Unnamed: 6</th>\n",
       "      <th>Unnamed: 7</th>\n",
       "      <th>Unnamed: 8</th>\n",
       "      <th>Unnamed: 9</th>\n",
       "      <th>...</th>\n",
       "      <th>Unnamed: 174</th>\n",
       "      <th>Unnamed: 175</th>\n",
       "      <th>Unnamed: 176</th>\n",
       "      <th>Unnamed: 177</th>\n",
       "      <th>Unnamed: 178</th>\n",
       "      <th>Unnamed: 179</th>\n",
       "      <th>Unnamed: 180</th>\n",
       "      <th>Unnamed: 181</th>\n",
       "      <th>Unnamed: 182</th>\n",
       "      <th>Unnamed: 183</th>\n",
       "    </tr>\n",
       "  </thead>\n",
       "  <tbody>\n",
       "    <tr>\n",
       "      <th>0</th>\n",
       "      <td></td>\n",
       "      <td>NaN</td>\n",
       "      <td>NaN</td>\n",
       "      <td>NaN</td>\n",
       "      <td>NaN</td>\n",
       "      <td>NaN</td>\n",
       "      <td>NaN</td>\n",
       "      <td>NaN</td>\n",
       "      <td>NaN</td>\n",
       "      <td>NaN</td>\n",
       "      <td>...</td>\n",
       "      <td>NaN</td>\n",
       "      <td>NaN</td>\n",
       "      <td>NaN</td>\n",
       "      <td>NaN</td>\n",
       "      <td>NaN</td>\n",
       "      <td>NaN</td>\n",
       "      <td>NaN</td>\n",
       "      <td>NaN</td>\n",
       "      <td>NaN</td>\n",
       "      <td>NaN</td>\n",
       "    </tr>\n",
       "    <tr>\n",
       "      <th>1</th>\n",
       "      <td>CallReportNum</td>\n",
       "      <td>ReportVersion</td>\n",
       "      <td>LinkedToCallReportNum</td>\n",
       "      <td>CallDateAndTimeStart</td>\n",
       "      <td>CallDateAndTimeEnd</td>\n",
       "      <td>CallLength</td>\n",
       "      <td>CallerNum</td>\n",
       "      <td>PhoneWorkerNum</td>\n",
       "      <td>WasRealCall</td>\n",
       "      <td>WasHangup</td>\n",
       "      <td>...</td>\n",
       "      <td>SMILE ON 60+ Screening - Treatment Urgency</td>\n",
       "      <td>SMILE ON 60+ Screening - Untreated Decay</td>\n",
       "      <td>SMILE ON 60+ Site Information - Enroller ID</td>\n",
       "      <td>SMILE ON 60+ Site Information - Enroller Location</td>\n",
       "      <td>SMILE ON 60+ Treatment Plan - Action: Upload A...</td>\n",
       "      <td>SMILE ON 60+ Treatment Plan - Is the treatment...</td>\n",
       "      <td>SMILE ON 60+ Treatment Plan - Was a treatment ...</td>\n",
       "      <td>SMILE ON 60+ Treatment Plan - Was the enrollee...</td>\n",
       "      <td>SMILE ON 60+ Verification of Eligibility - Tra...</td>\n",
       "      <td>SMILE ON 60+ Verification of Eligibility - Ver...</td>\n",
       "    </tr>\n",
       "  </tbody>\n",
       "</table>\n",
       "<p>2 rows × 184 columns</p>\n",
       "</div>"
      ],
      "text/plain": [
       "  FamilyandChildrensService - CallReports export requested on Monday October 11 2021 at 8:30 PM.  \\\n",
       "0                                                                                                  \n",
       "1                                      CallReportNum                                               \n",
       "\n",
       "      Unnamed: 1             Unnamed: 2            Unnamed: 3  \\\n",
       "0            NaN                    NaN                   NaN   \n",
       "1  ReportVersion  LinkedToCallReportNum  CallDateAndTimeStart   \n",
       "\n",
       "           Unnamed: 4  Unnamed: 5 Unnamed: 6      Unnamed: 7   Unnamed: 8  \\\n",
       "0                 NaN         NaN        NaN             NaN          NaN   \n",
       "1  CallDateAndTimeEnd  CallLength  CallerNum  PhoneWorkerNum  WasRealCall   \n",
       "\n",
       "  Unnamed: 9  ...                                Unnamed: 174  \\\n",
       "0        NaN  ...                                         NaN   \n",
       "1  WasHangup  ...  SMILE ON 60+ Screening - Treatment Urgency   \n",
       "\n",
       "                               Unnamed: 175  \\\n",
       "0                                       NaN   \n",
       "1  SMILE ON 60+ Screening - Untreated Decay   \n",
       "\n",
       "                                  Unnamed: 176  \\\n",
       "0                                          NaN   \n",
       "1  SMILE ON 60+ Site Information - Enroller ID   \n",
       "\n",
       "                                        Unnamed: 177  \\\n",
       "0                                                NaN   \n",
       "1  SMILE ON 60+ Site Information - Enroller Location   \n",
       "\n",
       "                                        Unnamed: 178  \\\n",
       "0                                                NaN   \n",
       "1  SMILE ON 60+ Treatment Plan - Action: Upload A...   \n",
       "\n",
       "                                        Unnamed: 179  \\\n",
       "0                                                NaN   \n",
       "1  SMILE ON 60+ Treatment Plan - Is the treatment...   \n",
       "\n",
       "                                        Unnamed: 180  \\\n",
       "0                                                NaN   \n",
       "1  SMILE ON 60+ Treatment Plan - Was a treatment ...   \n",
       "\n",
       "                                        Unnamed: 181  \\\n",
       "0                                                NaN   \n",
       "1  SMILE ON 60+ Treatment Plan - Was the enrollee...   \n",
       "\n",
       "                                        Unnamed: 182  \\\n",
       "0                                                NaN   \n",
       "1  SMILE ON 60+ Verification of Eligibility - Tra...   \n",
       "\n",
       "                                        Unnamed: 183  \n",
       "0                                                NaN  \n",
       "1  SMILE ON 60+ Verification of Eligibility - Ver...  \n",
       "\n",
       "[2 rows x 184 columns]"
      ]
     },
     "execution_count": 21,
     "metadata": {},
     "output_type": "execute_result"
    }
   ],
   "source": [
    "data.head(2)"
   ]
  },
  {
   "cell_type": "code",
   "execution_count": null,
   "id": "957272ac",
   "metadata": {},
   "outputs": [],
   "source": []
  },
  {
   "cell_type": "code",
   "execution_count": null,
   "id": "6c6fe1a0",
   "metadata": {},
   "outputs": [],
   "source": []
  }
 ],
 "metadata": {
  "kernelspec": {
   "display_name": "Python 3",
   "language": "python",
   "name": "python3"
  },
  "language_info": {
   "codemirror_mode": {
    "name": "ipython",
    "version": 3
   },
   "file_extension": ".py",
   "mimetype": "text/x-python",
   "name": "python",
   "nbconvert_exporter": "python",
   "pygments_lexer": "ipython3",
   "version": "3.8.8"
  }
 },
 "nbformat": 4,
 "nbformat_minor": 5
}
