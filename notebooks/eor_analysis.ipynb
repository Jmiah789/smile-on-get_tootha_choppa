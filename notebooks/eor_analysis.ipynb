{
 "cells": [
  {
   "cell_type": "code",
   "execution_count": 1,
   "id": "eb3b06ac",
   "metadata": {},
   "outputs": [],
   "source": [
    "import pandas as pd\n",
    "import numpy as np\n",
    "import matplotlib.pyplot as plt\n",
    "import seaborn as sns"
   ]
  },
  {
   "cell_type": "markdown",
   "id": "31c30b63",
   "metadata": {},
   "source": [
    "Clinic info"
   ]
  },
  {
   "cell_type": "code",
   "execution_count": null,
   "id": "53d61ed2",
   "metadata": {},
   "outputs": [],
   "source": [
    "#unique clinics providing care - 32\n",
    "unique_clinics = smile_on['si_enroller_id'].unique()\n",
    "unique_clinics"
   ]
  },
  {
   "cell_type": "code",
   "execution_count": null,
   "id": "fb2efb9d",
   "metadata": {},
   "outputs": [],
   "source": [
    "#total patients seen per clinic\n",
    "smile_on[\"si_enroller_id\"].value_counts()"
   ]
  },
  {
   "cell_type": "code",
   "execution_count": null,
   "id": "3679bae0",
   "metadata": {},
   "outputs": [],
   "source": [
    "#total patients seen at all clinics\n",
    "smile_on[\"si_enroller_id\"].value_counts().sum()"
   ]
  },
  {
   "cell_type": "code",
   "execution_count": 2,
   "id": "eca3041c",
   "metadata": {},
   "outputs": [],
   "source": [
    "# Exploring the transportation question"
   ]
  },
  {
   "cell_type": "code",
   "execution_count": null,
   "id": "5c08f31a",
   "metadata": {},
   "outputs": [],
   "source": [
    "smile_on[\"cmi_transport_barriers\"].value_counts()"
   ]
  },
  {
   "cell_type": "code",
   "execution_count": null,
   "id": "1d2660b9",
   "metadata": {},
   "outputs": [],
   "source": [
    "transport = smile_on[[\"patient_id\"] == \"3212379\"]\n",
    "patient_3212379"
   ]
  },
  {
   "cell_type": "code",
   "execution_count": null,
   "id": "4e69a196",
   "metadata": {},
   "outputs": [],
   "source": [
    "smile_on[\"patient_id\"].value_counts()"
   ]
  },
  {
   "cell_type": "code",
   "execution_count": null,
   "id": "a7afcf5c",
   "metadata": {},
   "outputs": [],
   "source": [
    "patient_3212379 = smile_on[smile_on[\"patient_id\"] == \"3212379\"]\n",
    "patient_3212379"
   ]
  }
 ],
 "metadata": {
  "kernelspec": {
   "display_name": "Python 3",
   "language": "python",
   "name": "python3"
  },
  "language_info": {
   "codemirror_mode": {
    "name": "ipython",
    "version": 3
   },
   "file_extension": ".py",
   "mimetype": "text/x-python",
   "name": "python",
   "nbconvert_exporter": "python",
   "pygments_lexer": "ipython3",
   "version": "3.8.8"
  }
 },
 "nbformat": 4,
 "nbformat_minor": 5
}
