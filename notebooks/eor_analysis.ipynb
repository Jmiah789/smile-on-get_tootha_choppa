{
 "cells": [
  {
   "cell_type": "code",
   "execution_count": 11,
   "id": "eb3b06ac",
   "metadata": {},
   "outputs": [],
   "source": [
    "import pandas as pd\n",
    "import numpy as np\n",
    "import datetime"
   ]
  },
  {
   "cell_type": "markdown",
   "id": "31c30b63",
   "metadata": {},
   "source": [
    "Clinic info"
   ]
  },
  {
   "cell_type": "code",
   "execution_count": 12,
   "id": "7a4894d7",
   "metadata": {},
   "outputs": [
    {
     "name": "stderr",
     "output_type": "stream",
     "text": [
      "C:\\Users\\Erin\\anaconda3\\lib\\site-packages\\IPython\\core\\interactiveshell.py:3165: DtypeWarning: Columns (3,75) have mixed types.Specify dtype option on import or set low_memory=False.\n",
      "  has_raised = await self.run_ast_nodes(code_ast.body, cell_name,\n"
     ]
    }
   ],
   "source": [
    "smile_on = pd.read_csv('../data/smile_on_clean.csv', parse_dates = ['call_start'])"
   ]
  },
  {
   "cell_type": "code",
   "execution_count": 15,
   "id": "eab8bf04",
   "metadata": {
    "scrolled": true
   },
   "outputs": [
    {
     "data": {
      "text/plain": [
       "(57486, 112)"
      ]
     },
     "execution_count": 15,
     "metadata": {},
     "output_type": "execute_result"
    }
   ],
   "source": [
    "smile_on.shape"
   ]
  },
  {
   "cell_type": "code",
   "execution_count": 17,
   "id": "f08b2628",
   "metadata": {},
   "outputs": [
    {
     "data": {
      "text/html": [
       "<div>\n",
       "<style scoped>\n",
       "    .dataframe tbody tr th:only-of-type {\n",
       "        vertical-align: middle;\n",
       "    }\n",
       "\n",
       "    .dataframe tbody tr th {\n",
       "        vertical-align: top;\n",
       "    }\n",
       "\n",
       "    .dataframe thead th {\n",
       "        text-align: right;\n",
       "    }\n",
       "</style>\n",
       "<table border=\"1\" class=\"dataframe\">\n",
       "  <thead>\n",
       "    <tr style=\"text-align: right;\">\n",
       "      <th></th>\n",
       "      <th>Unnamed: 0</th>\n",
       "      <th>report_num</th>\n",
       "      <th>reg_or_appt</th>\n",
       "      <th>related_reports</th>\n",
       "      <th>call_start</th>\n",
       "      <th>call_end</th>\n",
       "      <th>call_length</th>\n",
       "      <th>patient_id</th>\n",
       "      <th>city</th>\n",
       "      <th>county</th>\n",
       "      <th>...</th>\n",
       "      <th>si_enroller_location</th>\n",
       "      <th>tp_completed</th>\n",
       "      <th>tp_developed</th>\n",
       "      <th>tp_yay</th>\n",
       "      <th>ve_transport</th>\n",
       "      <th>ve_eligibility_verified</th>\n",
       "      <th>bocq_next_step</th>\n",
       "      <th>di_language</th>\n",
       "      <th>referred</th>\n",
       "      <th>pe_next_step</th>\n",
       "    </tr>\n",
       "  </thead>\n",
       "  <tbody>\n",
       "    <tr>\n",
       "      <th>0</th>\n",
       "      <td>0</td>\n",
       "      <td>93115324</td>\n",
       "      <td>SMILE ON 60+ Registration</td>\n",
       "      <td>NaN</td>\n",
       "      <td>2021-09-30 16:56:00</td>\n",
       "      <td>2021-09-30 16:57:00</td>\n",
       "      <td>1</td>\n",
       "      <td>3638169</td>\n",
       "      <td>Smyrna</td>\n",
       "      <td>Rutherford</td>\n",
       "      <td>...</td>\n",
       "      <td>NaN</td>\n",
       "      <td>NaN</td>\n",
       "      <td>NaN</td>\n",
       "      <td>NaN</td>\n",
       "      <td>NaN</td>\n",
       "      <td>NaN</td>\n",
       "      <td>Referred to dental clinic</td>\n",
       "      <td>English</td>\n",
       "      <td>NaN</td>\n",
       "      <td>Continued with Navigation</td>\n",
       "    </tr>\n",
       "    <tr>\n",
       "      <th>1</th>\n",
       "      <td>1</td>\n",
       "      <td>93115188</td>\n",
       "      <td>SMILE ON 60+ Registration</td>\n",
       "      <td>NaN</td>\n",
       "      <td>2021-09-30 16:53:00</td>\n",
       "      <td>2021-09-30 16:53:00</td>\n",
       "      <td>0</td>\n",
       "      <td>4431194</td>\n",
       "      <td>Nashville</td>\n",
       "      <td>Davidson</td>\n",
       "      <td>...</td>\n",
       "      <td>Referral Follow-Up</td>\n",
       "      <td>NaN</td>\n",
       "      <td>NaN</td>\n",
       "      <td>NaN</td>\n",
       "      <td>NaN</td>\n",
       "      <td>NaN</td>\n",
       "      <td>Referred to dental clinic</td>\n",
       "      <td>English</td>\n",
       "      <td>NaN</td>\n",
       "      <td>Continued with Navigation</td>\n",
       "    </tr>\n",
       "    <tr>\n",
       "      <th>2</th>\n",
       "      <td>2</td>\n",
       "      <td>93115081</td>\n",
       "      <td>SMILE ON 60+ Clinical</td>\n",
       "      <td>NaN</td>\n",
       "      <td>2021-09-30 16:50:00</td>\n",
       "      <td>2021-09-30 16:51:00</td>\n",
       "      <td>1</td>\n",
       "      <td>2941341</td>\n",
       "      <td>Memphis</td>\n",
       "      <td>Shelby</td>\n",
       "      <td>...</td>\n",
       "      <td>Provider Site</td>\n",
       "      <td>No</td>\n",
       "      <td>Yes</td>\n",
       "      <td>No</td>\n",
       "      <td>NaN</td>\n",
       "      <td>NaN</td>\n",
       "      <td>Referred to dental clinic</td>\n",
       "      <td>NaN</td>\n",
       "      <td>NaN</td>\n",
       "      <td>Continued with Navigation</td>\n",
       "    </tr>\n",
       "    <tr>\n",
       "      <th>3</th>\n",
       "      <td>3</td>\n",
       "      <td>93115032</td>\n",
       "      <td>SMILE ON 60+ Clinical</td>\n",
       "      <td>NaN</td>\n",
       "      <td>2021-09-30 16:48:00</td>\n",
       "      <td>2021-09-30 16:49:00</td>\n",
       "      <td>1</td>\n",
       "      <td>3823933</td>\n",
       "      <td>Memphis</td>\n",
       "      <td>Shelby</td>\n",
       "      <td>...</td>\n",
       "      <td>Provider Site</td>\n",
       "      <td>No</td>\n",
       "      <td>Yes</td>\n",
       "      <td>No</td>\n",
       "      <td>NaN</td>\n",
       "      <td>NaN</td>\n",
       "      <td>NaN</td>\n",
       "      <td>NaN</td>\n",
       "      <td>NaN</td>\n",
       "      <td>Continued with Navigation</td>\n",
       "    </tr>\n",
       "    <tr>\n",
       "      <th>4</th>\n",
       "      <td>4</td>\n",
       "      <td>93114968</td>\n",
       "      <td>SMILE ON 60+ Clinical</td>\n",
       "      <td>NaN</td>\n",
       "      <td>2021-09-30 16:46:00</td>\n",
       "      <td>2021-09-30 16:48:00</td>\n",
       "      <td>2</td>\n",
       "      <td>3348256</td>\n",
       "      <td>Memphis</td>\n",
       "      <td>Shelby</td>\n",
       "      <td>...</td>\n",
       "      <td>Provider Site</td>\n",
       "      <td>No</td>\n",
       "      <td>Yes</td>\n",
       "      <td>No</td>\n",
       "      <td>NaN</td>\n",
       "      <td>NaN</td>\n",
       "      <td>NaN</td>\n",
       "      <td>NaN</td>\n",
       "      <td>NaN</td>\n",
       "      <td>Continued with Navigation</td>\n",
       "    </tr>\n",
       "  </tbody>\n",
       "</table>\n",
       "<p>5 rows × 112 columns</p>\n",
       "</div>"
      ],
      "text/plain": [
       "   Unnamed: 0  report_num                reg_or_appt related_reports  \\\n",
       "0           0    93115324  SMILE ON 60+ Registration             NaN   \n",
       "1           1    93115188  SMILE ON 60+ Registration             NaN   \n",
       "2           2    93115081      SMILE ON 60+ Clinical             NaN   \n",
       "3           3    93115032      SMILE ON 60+ Clinical             NaN   \n",
       "4           4    93114968      SMILE ON 60+ Clinical             NaN   \n",
       "\n",
       "           call_start             call_end  call_length  patient_id  \\\n",
       "0 2021-09-30 16:56:00  2021-09-30 16:57:00            1     3638169   \n",
       "1 2021-09-30 16:53:00  2021-09-30 16:53:00            0     4431194   \n",
       "2 2021-09-30 16:50:00  2021-09-30 16:51:00            1     2941341   \n",
       "3 2021-09-30 16:48:00  2021-09-30 16:49:00            1     3823933   \n",
       "4 2021-09-30 16:46:00  2021-09-30 16:48:00            2     3348256   \n",
       "\n",
       "        city      county  ... si_enroller_location  tp_completed  \\\n",
       "0     Smyrna  Rutherford  ...                  NaN           NaN   \n",
       "1  Nashville    Davidson  ...   Referral Follow-Up           NaN   \n",
       "2    Memphis      Shelby  ...        Provider Site            No   \n",
       "3    Memphis      Shelby  ...        Provider Site            No   \n",
       "4    Memphis      Shelby  ...        Provider Site            No   \n",
       "\n",
       "   tp_developed tp_yay  ve_transport  ve_eligibility_verified  \\\n",
       "0           NaN    NaN           NaN                      NaN   \n",
       "1           NaN    NaN           NaN                      NaN   \n",
       "2           Yes     No           NaN                      NaN   \n",
       "3           Yes     No           NaN                      NaN   \n",
       "4           Yes     No           NaN                      NaN   \n",
       "\n",
       "              bocq_next_step  di_language  referred               pe_next_step  \n",
       "0  Referred to dental clinic      English       NaN  Continued with Navigation  \n",
       "1  Referred to dental clinic      English       NaN  Continued with Navigation  \n",
       "2  Referred to dental clinic          NaN       NaN  Continued with Navigation  \n",
       "3                        NaN          NaN       NaN  Continued with Navigation  \n",
       "4                        NaN          NaN       NaN  Continued with Navigation  \n",
       "\n",
       "[5 rows x 112 columns]"
      ]
     },
     "execution_count": 17,
     "metadata": {},
     "output_type": "execute_result"
    }
   ],
   "source": [
    "smile_on.head()"
   ]
  },
  {
   "cell_type": "code",
   "execution_count": 13,
   "id": "53d61ed2",
   "metadata": {},
   "outputs": [
    {
     "data": {
      "text/plain": [
       "array([nan, 'Christ Community Health Services- Broad Avenue',\n",
       "       'Christ Community Health Services- Raleigh',\n",
       "       'Neighborhood Health - Cleveland Park/ Nashville',\n",
       "       'Neighborhood Health - Lebanon',\n",
       "       'Interfaith Dental Clinic - Murfreesboro',\n",
       "       'Christ Community Health Services- Frayser',\n",
       "       'Healing Hands Health Center - Bristol',\n",
       "       'Karis Dental Clinic - Cleveland',\n",
       "       'Interfaith Dental Clinic - Nashville',\n",
       "       'Northeast Tennessee Community Health Centers Inc. - Johnson City',\n",
       "       'Matthew Walker Comprehensive Health Center Inc. - Nashville',\n",
       "       'Christ Community Health Services- Hickory Hill',\n",
       "       'Keystone Dental Care Inc. - Johnson City',\n",
       "       'Friends in Need Health Center - Kingsport',\n",
       "       'Interfaith Health Clinic of Knoxville - Knoxville',\n",
       "       'Meharry Mobile Dental Clinic', 'Matthew Walker - Clarksville',\n",
       "       'Mountain Hope Good Shepherd Clinic', 'TDH - Maury Co',\n",
       "       'Reelfoot Ministries - Obion', 'Church Health Center - Memphis',\n",
       "       'Trinity Health Ministries ',\n",
       "       'Smiles Inc. - South Pittsburg - serving Marion Grundy Franklin and Hamilton Counties',\n",
       "       'Neighborhood Health - Napier/Nashville',\n",
       "       'Christ Community Health Services- Third Street',\n",
       "       'Fifty Forward - Nashville', 'TDH - Lawrence Co',\n",
       "       'Knox County CAC/Office on Aging - Knoxville',\n",
       "       'Neighborhood Health - Eastside/Nashville',\n",
       "       'Neighborhood Health - Mission/Nashville',\n",
       "       'Appalachian Miles for Smiles - Mobile'], dtype=object)"
      ]
     },
     "execution_count": 13,
     "metadata": {},
     "output_type": "execute_result"
    }
   ],
   "source": [
    "#unique clinics providing care - 32\n",
    "unique_clinics = smile_on['si_enroller_id'].unique()\n",
    "unique_clinics"
   ]
  },
  {
   "cell_type": "code",
   "execution_count": 5,
   "id": "3679bae0",
   "metadata": {},
   "outputs": [
    {
     "data": {
      "text/plain": [
       "46961"
      ]
     },
     "execution_count": 5,
     "metadata": {},
     "output_type": "execute_result"
    }
   ],
   "source": [
    "#total patients seen at all clinics\n",
    "smile_on[\"si_enroller_id\"].value_counts().sum()"
   ]
  },
  {
   "cell_type": "code",
   "execution_count": 18,
   "id": "fb2efb9d",
   "metadata": {},
   "outputs": [
    {
     "data": {
      "text/html": [
       "<div>\n",
       "<style scoped>\n",
       "    .dataframe tbody tr th:only-of-type {\n",
       "        vertical-align: middle;\n",
       "    }\n",
       "\n",
       "    .dataframe tbody tr th {\n",
       "        vertical-align: top;\n",
       "    }\n",
       "\n",
       "    .dataframe thead th {\n",
       "        text-align: right;\n",
       "    }\n",
       "</style>\n",
       "<table border=\"1\" class=\"dataframe\">\n",
       "  <thead>\n",
       "    <tr style=\"text-align: right;\">\n",
       "      <th></th>\n",
       "      <th>Unnamed: 0</th>\n",
       "      <th>report_num</th>\n",
       "      <th>reg_or_appt</th>\n",
       "      <th>related_reports</th>\n",
       "      <th>call_start</th>\n",
       "      <th>call_end</th>\n",
       "      <th>call_length</th>\n",
       "      <th>patient_id</th>\n",
       "      <th>city</th>\n",
       "      <th>county</th>\n",
       "      <th>...</th>\n",
       "      <th>si_enroller_location</th>\n",
       "      <th>tp_completed</th>\n",
       "      <th>tp_developed</th>\n",
       "      <th>tp_yay</th>\n",
       "      <th>ve_transport</th>\n",
       "      <th>ve_eligibility_verified</th>\n",
       "      <th>bocq_next_step</th>\n",
       "      <th>di_language</th>\n",
       "      <th>referred</th>\n",
       "      <th>pe_next_step</th>\n",
       "    </tr>\n",
       "  </thead>\n",
       "  <tbody>\n",
       "  </tbody>\n",
       "</table>\n",
       "<p>0 rows × 112 columns</p>\n",
       "</div>"
      ],
      "text/plain": [
       "Empty DataFrame\n",
       "Columns: [Unnamed: 0, report_num, reg_or_appt, related_reports, call_start, call_end, call_length, patient_id, city, county, state, zip_code, EnteredByWorkerNum, date_entered, di_household_size, birth_year, oec_1351, oec_1354, oec_2140, oec_2150, oec_2160, oec_2161, oec_230, oec_2330, oec_2331, oec_2332, oec_2335, oec_2390, oec_2391, oec_2392, oec_2393, oec_2394, oec_2915, oec_2920, oec_2933, oec_2940, oec_2950, oec_2954, oec_2980, oec_3220, oec_4341, oec_4342, oec_6930, oec_6980, oec_7111, oec_7140, oec_7210, oec_7220, oec_7230, oec_7240, oec_7241, oec_7250, oec_7261, oec_7286, oec_7310, oec_7311, oec_7320, oec_7321, oec_7410, oec_7411, oec_7471, oec_7510, oec_7971, oec_7972, oec_9110, oec_9951, scrn_date_of_last, ve_verified_date, bocq_eat_limited, bocq_dental_clinic, bocq_client_commit, bocq_help_other, bocq_need_help, bocq_appearance, bocq_condition, cmi_clinic, cmi_transport_barriers, cmi_barriers_to_care, ci_Is patient of record date if yes last seen?, ci_Was initial appointment made?, ci_Was initial transportation assistance or referral provided?, di_gender, di_hh_income, di_referred_by, di_race_eth, di_other_programs, di_last_dentist_visit, oec_care_provided, pe_insurance, pe_prequalify, scrn_lower_teeth, scrn_upper_teeth, scrn_has_dentures, scrn_eats_w_dentures, scrn_problems_12m, scrn_tooth_brushing, scrn_periodontal, scrn_root_fragments, scrn_lesions, scrn_urgency, ...]\n",
       "Index: []\n",
       "\n",
       "[0 rows x 112 columns]"
      ]
     },
     "execution_count": 18,
     "metadata": {},
     "output_type": "execute_result"
    }
   ],
   "source": [
    "#total patients seen per clinic\n",
    "smile_on[\"si_enroller_id\"].value_counts()\n",
    "smile_on.loc[smile_on.index.isin(['SMILE ON 60+ Clinical'])]"
   ]
  },
  {
   "cell_type": "code",
   "execution_count": 6,
   "id": "eca3041c",
   "metadata": {},
   "outputs": [],
   "source": [
    "# Exploring the transportation question"
   ]
  },
  {
   "cell_type": "code",
   "execution_count": 7,
   "id": "5c08f31a",
   "metadata": {},
   "outputs": [
    {
     "data": {
      "text/plain": [
       "Cost; Availability - no car/access to transportation    1618\n",
       "Availability - no car/access to transportation          1275\n",
       "Cost                                                     817\n",
       "Name: cmi_transport_barriers, dtype: int64"
      ]
     },
     "execution_count": 7,
     "metadata": {},
     "output_type": "execute_result"
    }
   ],
   "source": [
    "smile_on[\"cmi_transport_barriers\"].value_counts()"
   ]
  },
  {
   "cell_type": "code",
   "execution_count": 9,
   "id": "1d2660b9",
   "metadata": {},
   "outputs": [
    {
     "ename": "KeyError",
     "evalue": "False",
     "output_type": "error",
     "traceback": [
      "\u001b[1;31m---------------------------------------------------------------------------\u001b[0m",
      "\u001b[1;31mKeyError\u001b[0m                                  Traceback (most recent call last)",
      "\u001b[1;32m~\\anaconda3\\lib\\site-packages\\pandas\\core\\indexes\\base.py\u001b[0m in \u001b[0;36mget_loc\u001b[1;34m(self, key, method, tolerance)\u001b[0m\n\u001b[0;32m   3079\u001b[0m             \u001b[1;32mtry\u001b[0m\u001b[1;33m:\u001b[0m\u001b[1;33m\u001b[0m\u001b[1;33m\u001b[0m\u001b[0m\n\u001b[1;32m-> 3080\u001b[1;33m                 \u001b[1;32mreturn\u001b[0m \u001b[0mself\u001b[0m\u001b[1;33m.\u001b[0m\u001b[0m_engine\u001b[0m\u001b[1;33m.\u001b[0m\u001b[0mget_loc\u001b[0m\u001b[1;33m(\u001b[0m\u001b[0mcasted_key\u001b[0m\u001b[1;33m)\u001b[0m\u001b[1;33m\u001b[0m\u001b[1;33m\u001b[0m\u001b[0m\n\u001b[0m\u001b[0;32m   3081\u001b[0m             \u001b[1;32mexcept\u001b[0m \u001b[0mKeyError\u001b[0m \u001b[1;32mas\u001b[0m \u001b[0merr\u001b[0m\u001b[1;33m:\u001b[0m\u001b[1;33m\u001b[0m\u001b[1;33m\u001b[0m\u001b[0m\n",
      "\u001b[1;32mpandas\\_libs\\index.pyx\u001b[0m in \u001b[0;36mpandas._libs.index.IndexEngine.get_loc\u001b[1;34m()\u001b[0m\n",
      "\u001b[1;32mpandas\\_libs\\index.pyx\u001b[0m in \u001b[0;36mpandas._libs.index.IndexEngine.get_loc\u001b[1;34m()\u001b[0m\n",
      "\u001b[1;32mpandas\\_libs\\hashtable_class_helper.pxi\u001b[0m in \u001b[0;36mpandas._libs.hashtable.PyObjectHashTable.get_item\u001b[1;34m()\u001b[0m\n",
      "\u001b[1;32mpandas\\_libs\\hashtable_class_helper.pxi\u001b[0m in \u001b[0;36mpandas._libs.hashtable.PyObjectHashTable.get_item\u001b[1;34m()\u001b[0m\n",
      "\u001b[1;31mKeyError\u001b[0m: False",
      "\nThe above exception was the direct cause of the following exception:\n",
      "\u001b[1;31mKeyError\u001b[0m                                  Traceback (most recent call last)",
      "\u001b[1;32m<ipython-input-9-8c61a232b63e>\u001b[0m in \u001b[0;36m<module>\u001b[1;34m\u001b[0m\n\u001b[1;32m----> 1\u001b[1;33m \u001b[0mpatient_3212379\u001b[0m \u001b[1;33m=\u001b[0m \u001b[0msmile_on\u001b[0m\u001b[1;33m[\u001b[0m\u001b[1;33m[\u001b[0m\u001b[1;34m\"patient_id\"\u001b[0m\u001b[1;33m]\u001b[0m \u001b[1;33m==\u001b[0m \u001b[1;34m\"3212379\"\u001b[0m\u001b[1;33m]\u001b[0m\u001b[1;33m\u001b[0m\u001b[1;33m\u001b[0m\u001b[0m\n\u001b[0m\u001b[0;32m      2\u001b[0m \u001b[0mpatient_3212379\u001b[0m\u001b[1;33m\u001b[0m\u001b[1;33m\u001b[0m\u001b[0m\n",
      "\u001b[1;32m~\\anaconda3\\lib\\site-packages\\pandas\\core\\frame.py\u001b[0m in \u001b[0;36m__getitem__\u001b[1;34m(self, key)\u001b[0m\n\u001b[0;32m   3022\u001b[0m             \u001b[1;32mif\u001b[0m \u001b[0mself\u001b[0m\u001b[1;33m.\u001b[0m\u001b[0mcolumns\u001b[0m\u001b[1;33m.\u001b[0m\u001b[0mnlevels\u001b[0m \u001b[1;33m>\u001b[0m \u001b[1;36m1\u001b[0m\u001b[1;33m:\u001b[0m\u001b[1;33m\u001b[0m\u001b[1;33m\u001b[0m\u001b[0m\n\u001b[0;32m   3023\u001b[0m                 \u001b[1;32mreturn\u001b[0m \u001b[0mself\u001b[0m\u001b[1;33m.\u001b[0m\u001b[0m_getitem_multilevel\u001b[0m\u001b[1;33m(\u001b[0m\u001b[0mkey\u001b[0m\u001b[1;33m)\u001b[0m\u001b[1;33m\u001b[0m\u001b[1;33m\u001b[0m\u001b[0m\n\u001b[1;32m-> 3024\u001b[1;33m             \u001b[0mindexer\u001b[0m \u001b[1;33m=\u001b[0m \u001b[0mself\u001b[0m\u001b[1;33m.\u001b[0m\u001b[0mcolumns\u001b[0m\u001b[1;33m.\u001b[0m\u001b[0mget_loc\u001b[0m\u001b[1;33m(\u001b[0m\u001b[0mkey\u001b[0m\u001b[1;33m)\u001b[0m\u001b[1;33m\u001b[0m\u001b[1;33m\u001b[0m\u001b[0m\n\u001b[0m\u001b[0;32m   3025\u001b[0m             \u001b[1;32mif\u001b[0m \u001b[0mis_integer\u001b[0m\u001b[1;33m(\u001b[0m\u001b[0mindexer\u001b[0m\u001b[1;33m)\u001b[0m\u001b[1;33m:\u001b[0m\u001b[1;33m\u001b[0m\u001b[1;33m\u001b[0m\u001b[0m\n\u001b[0;32m   3026\u001b[0m                 \u001b[0mindexer\u001b[0m \u001b[1;33m=\u001b[0m \u001b[1;33m[\u001b[0m\u001b[0mindexer\u001b[0m\u001b[1;33m]\u001b[0m\u001b[1;33m\u001b[0m\u001b[1;33m\u001b[0m\u001b[0m\n",
      "\u001b[1;32m~\\anaconda3\\lib\\site-packages\\pandas\\core\\indexes\\base.py\u001b[0m in \u001b[0;36mget_loc\u001b[1;34m(self, key, method, tolerance)\u001b[0m\n\u001b[0;32m   3080\u001b[0m                 \u001b[1;32mreturn\u001b[0m \u001b[0mself\u001b[0m\u001b[1;33m.\u001b[0m\u001b[0m_engine\u001b[0m\u001b[1;33m.\u001b[0m\u001b[0mget_loc\u001b[0m\u001b[1;33m(\u001b[0m\u001b[0mcasted_key\u001b[0m\u001b[1;33m)\u001b[0m\u001b[1;33m\u001b[0m\u001b[1;33m\u001b[0m\u001b[0m\n\u001b[0;32m   3081\u001b[0m             \u001b[1;32mexcept\u001b[0m \u001b[0mKeyError\u001b[0m \u001b[1;32mas\u001b[0m \u001b[0merr\u001b[0m\u001b[1;33m:\u001b[0m\u001b[1;33m\u001b[0m\u001b[1;33m\u001b[0m\u001b[0m\n\u001b[1;32m-> 3082\u001b[1;33m                 \u001b[1;32mraise\u001b[0m \u001b[0mKeyError\u001b[0m\u001b[1;33m(\u001b[0m\u001b[0mkey\u001b[0m\u001b[1;33m)\u001b[0m \u001b[1;32mfrom\u001b[0m \u001b[0merr\u001b[0m\u001b[1;33m\u001b[0m\u001b[1;33m\u001b[0m\u001b[0m\n\u001b[0m\u001b[0;32m   3083\u001b[0m \u001b[1;33m\u001b[0m\u001b[0m\n\u001b[0;32m   3084\u001b[0m         \u001b[1;32mif\u001b[0m \u001b[0mtolerance\u001b[0m \u001b[1;32mis\u001b[0m \u001b[1;32mnot\u001b[0m \u001b[1;32mNone\u001b[0m\u001b[1;33m:\u001b[0m\u001b[1;33m\u001b[0m\u001b[1;33m\u001b[0m\u001b[0m\n",
      "\u001b[1;31mKeyError\u001b[0m: False"
     ]
    }
   ],
   "source": [
    "patient_3212379 = smile_on[[\"patient_id\"] == \"3212379\"]\n",
    "patient_3212379"
   ]
  },
  {
   "cell_type": "code",
   "execution_count": null,
   "id": "4e69a196",
   "metadata": {},
   "outputs": [],
   "source": [
    "smile_on[\"patient_id\"].value_counts()"
   ]
  },
  {
   "cell_type": "code",
   "execution_count": 10,
   "id": "a7afcf5c",
   "metadata": {},
   "outputs": [
    {
     "data": {
      "text/html": [
       "<div>\n",
       "<style scoped>\n",
       "    .dataframe tbody tr th:only-of-type {\n",
       "        vertical-align: middle;\n",
       "    }\n",
       "\n",
       "    .dataframe tbody tr th {\n",
       "        vertical-align: top;\n",
       "    }\n",
       "\n",
       "    .dataframe thead th {\n",
       "        text-align: right;\n",
       "    }\n",
       "</style>\n",
       "<table border=\"1\" class=\"dataframe\">\n",
       "  <thead>\n",
       "    <tr style=\"text-align: right;\">\n",
       "      <th></th>\n",
       "      <th>Unnamed: 0</th>\n",
       "      <th>report_num</th>\n",
       "      <th>reg_or_appt</th>\n",
       "      <th>related_reports</th>\n",
       "      <th>call_start</th>\n",
       "      <th>call_end</th>\n",
       "      <th>call_length</th>\n",
       "      <th>patient_id</th>\n",
       "      <th>city</th>\n",
       "      <th>county</th>\n",
       "      <th>...</th>\n",
       "      <th>si_enroller_location</th>\n",
       "      <th>tp_completed</th>\n",
       "      <th>tp_developed</th>\n",
       "      <th>tp_yay</th>\n",
       "      <th>ve_transport</th>\n",
       "      <th>ve_eligibility_verified</th>\n",
       "      <th>bocq_next_step</th>\n",
       "      <th>di_language</th>\n",
       "      <th>referred</th>\n",
       "      <th>pe_next_step</th>\n",
       "    </tr>\n",
       "  </thead>\n",
       "  <tbody>\n",
       "  </tbody>\n",
       "</table>\n",
       "<p>0 rows × 112 columns</p>\n",
       "</div>"
      ],
      "text/plain": [
       "Empty DataFrame\n",
       "Columns: [Unnamed: 0, report_num, reg_or_appt, related_reports, call_start, call_end, call_length, patient_id, city, county, state, zip_code, EnteredByWorkerNum, date_entered, di_household_size, birth_year, oec_1351, oec_1354, oec_2140, oec_2150, oec_2160, oec_2161, oec_230, oec_2330, oec_2331, oec_2332, oec_2335, oec_2390, oec_2391, oec_2392, oec_2393, oec_2394, oec_2915, oec_2920, oec_2933, oec_2940, oec_2950, oec_2954, oec_2980, oec_3220, oec_4341, oec_4342, oec_6930, oec_6980, oec_7111, oec_7140, oec_7210, oec_7220, oec_7230, oec_7240, oec_7241, oec_7250, oec_7261, oec_7286, oec_7310, oec_7311, oec_7320, oec_7321, oec_7410, oec_7411, oec_7471, oec_7510, oec_7971, oec_7972, oec_9110, oec_9951, scrn_date_of_last, ve_verified_date, bocq_eat_limited, bocq_dental_clinic, bocq_client_commit, bocq_help_other, bocq_need_help, bocq_appearance, bocq_condition, cmi_clinic, cmi_transport_barriers, cmi_barriers_to_care, ci_Is patient of record date if yes last seen?, ci_Was initial appointment made?, ci_Was initial transportation assistance or referral provided?, di_gender, di_hh_income, di_referred_by, di_race_eth, di_other_programs, di_last_dentist_visit, oec_care_provided, pe_insurance, pe_prequalify, scrn_lower_teeth, scrn_upper_teeth, scrn_has_dentures, scrn_eats_w_dentures, scrn_problems_12m, scrn_tooth_brushing, scrn_periodontal, scrn_root_fragments, scrn_lesions, scrn_urgency, ...]\n",
       "Index: []\n",
       "\n",
       "[0 rows x 112 columns]"
      ]
     },
     "execution_count": 10,
     "metadata": {},
     "output_type": "execute_result"
    }
   ],
   "source": [
    "patient_3212379 = smile_on[smile_on[\"patient_id\"] == \"3212379\"]\n",
    "patient_3212379"
   ]
  },
  {
   "cell_type": "code",
   "execution_count": null,
   "id": "e37fd566",
   "metadata": {},
   "outputs": [],
   "source": []
  }
 ],
 "metadata": {
  "kernelspec": {
   "display_name": "Python 3",
   "language": "python",
   "name": "python3"
  },
  "language_info": {
   "codemirror_mode": {
    "name": "ipython",
    "version": 3
   },
   "file_extension": ".py",
   "mimetype": "text/x-python",
   "name": "python",
   "nbconvert_exporter": "python",
   "pygments_lexer": "ipython3",
   "version": "3.8.8"
  }
 },
 "nbformat": 4,
 "nbformat_minor": 5
}
