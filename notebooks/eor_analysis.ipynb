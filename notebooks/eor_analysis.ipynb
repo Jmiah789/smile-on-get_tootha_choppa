{
 "cells": [
  {
   "cell_type": "code",
   "execution_count": 40,
   "id": "eb3b06ac",
   "metadata": {},
   "outputs": [],
   "source": [
    "import pandas as pd\n",
    "import numpy as np\n",
    "import datetime\n",
    "import matplotlib.pyplot as plt"
   ]
  },
  {
   "cell_type": "markdown",
   "id": "31c30b63",
   "metadata": {},
   "source": [
    "Clinic info"
   ]
  },
  {
   "cell_type": "code",
   "execution_count": 2,
   "id": "7a4894d7",
   "metadata": {},
   "outputs": [
    {
     "name": "stderr",
     "output_type": "stream",
     "text": [
      "C:\\Users\\Erin\\anaconda3\\lib\\site-packages\\IPython\\core\\interactiveshell.py:3165: DtypeWarning: Columns (3,75) have mixed types.Specify dtype option on import or set low_memory=False.\n",
      "  has_raised = await self.run_ast_nodes(code_ast.body, cell_name,\n"
     ]
    }
   ],
   "source": [
    "smile_on = pd.read_csv('../data/smile_on_clean.csv', parse_dates = ['call_start'])"
   ]
  },
  {
   "cell_type": "code",
   "execution_count": 3,
   "id": "eab8bf04",
   "metadata": {
    "scrolled": true
   },
   "outputs": [
    {
     "data": {
      "text/plain": [
       "(57486, 112)"
      ]
     },
     "execution_count": 3,
     "metadata": {},
     "output_type": "execute_result"
    }
   ],
   "source": [
    "smile_on.shape"
   ]
  },
  {
   "cell_type": "code",
   "execution_count": 4,
   "id": "f08b2628",
   "metadata": {},
   "outputs": [
    {
     "data": {
      "text/html": [
       "<div>\n",
       "<style scoped>\n",
       "    .dataframe tbody tr th:only-of-type {\n",
       "        vertical-align: middle;\n",
       "    }\n",
       "\n",
       "    .dataframe tbody tr th {\n",
       "        vertical-align: top;\n",
       "    }\n",
       "\n",
       "    .dataframe thead th {\n",
       "        text-align: right;\n",
       "    }\n",
       "</style>\n",
       "<table border=\"1\" class=\"dataframe\">\n",
       "  <thead>\n",
       "    <tr style=\"text-align: right;\">\n",
       "      <th></th>\n",
       "      <th>Unnamed: 0</th>\n",
       "      <th>report_num</th>\n",
       "      <th>reg_or_appt</th>\n",
       "      <th>related_reports</th>\n",
       "      <th>call_start</th>\n",
       "      <th>call_end</th>\n",
       "      <th>call_length</th>\n",
       "      <th>patient_id</th>\n",
       "      <th>city</th>\n",
       "      <th>county</th>\n",
       "      <th>...</th>\n",
       "      <th>si_enroller_location</th>\n",
       "      <th>tp_completed</th>\n",
       "      <th>tp_developed</th>\n",
       "      <th>tp_yay</th>\n",
       "      <th>ve_transport</th>\n",
       "      <th>ve_eligibility_verified</th>\n",
       "      <th>bocq_next_step</th>\n",
       "      <th>di_language</th>\n",
       "      <th>referred</th>\n",
       "      <th>pe_next_step</th>\n",
       "    </tr>\n",
       "  </thead>\n",
       "  <tbody>\n",
       "    <tr>\n",
       "      <th>0</th>\n",
       "      <td>0</td>\n",
       "      <td>93115324</td>\n",
       "      <td>SMILE ON 60+ Registration</td>\n",
       "      <td>NaN</td>\n",
       "      <td>2021-09-30 16:56:00</td>\n",
       "      <td>2021-09-30 16:57:00</td>\n",
       "      <td>1</td>\n",
       "      <td>3638169</td>\n",
       "      <td>Smyrna</td>\n",
       "      <td>Rutherford</td>\n",
       "      <td>...</td>\n",
       "      <td>NaN</td>\n",
       "      <td>NaN</td>\n",
       "      <td>NaN</td>\n",
       "      <td>NaN</td>\n",
       "      <td>NaN</td>\n",
       "      <td>NaN</td>\n",
       "      <td>Referred to dental clinic</td>\n",
       "      <td>English</td>\n",
       "      <td>NaN</td>\n",
       "      <td>Continued with Navigation</td>\n",
       "    </tr>\n",
       "    <tr>\n",
       "      <th>1</th>\n",
       "      <td>1</td>\n",
       "      <td>93115188</td>\n",
       "      <td>SMILE ON 60+ Registration</td>\n",
       "      <td>NaN</td>\n",
       "      <td>2021-09-30 16:53:00</td>\n",
       "      <td>2021-09-30 16:53:00</td>\n",
       "      <td>0</td>\n",
       "      <td>4431194</td>\n",
       "      <td>Nashville</td>\n",
       "      <td>Davidson</td>\n",
       "      <td>...</td>\n",
       "      <td>Referral Follow-Up</td>\n",
       "      <td>NaN</td>\n",
       "      <td>NaN</td>\n",
       "      <td>NaN</td>\n",
       "      <td>NaN</td>\n",
       "      <td>NaN</td>\n",
       "      <td>Referred to dental clinic</td>\n",
       "      <td>English</td>\n",
       "      <td>NaN</td>\n",
       "      <td>Continued with Navigation</td>\n",
       "    </tr>\n",
       "    <tr>\n",
       "      <th>2</th>\n",
       "      <td>2</td>\n",
       "      <td>93115081</td>\n",
       "      <td>SMILE ON 60+ Clinical</td>\n",
       "      <td>NaN</td>\n",
       "      <td>2021-09-30 16:50:00</td>\n",
       "      <td>2021-09-30 16:51:00</td>\n",
       "      <td>1</td>\n",
       "      <td>2941341</td>\n",
       "      <td>Memphis</td>\n",
       "      <td>Shelby</td>\n",
       "      <td>...</td>\n",
       "      <td>Provider Site</td>\n",
       "      <td>No</td>\n",
       "      <td>Yes</td>\n",
       "      <td>No</td>\n",
       "      <td>NaN</td>\n",
       "      <td>NaN</td>\n",
       "      <td>Referred to dental clinic</td>\n",
       "      <td>NaN</td>\n",
       "      <td>NaN</td>\n",
       "      <td>Continued with Navigation</td>\n",
       "    </tr>\n",
       "    <tr>\n",
       "      <th>3</th>\n",
       "      <td>3</td>\n",
       "      <td>93115032</td>\n",
       "      <td>SMILE ON 60+ Clinical</td>\n",
       "      <td>NaN</td>\n",
       "      <td>2021-09-30 16:48:00</td>\n",
       "      <td>2021-09-30 16:49:00</td>\n",
       "      <td>1</td>\n",
       "      <td>3823933</td>\n",
       "      <td>Memphis</td>\n",
       "      <td>Shelby</td>\n",
       "      <td>...</td>\n",
       "      <td>Provider Site</td>\n",
       "      <td>No</td>\n",
       "      <td>Yes</td>\n",
       "      <td>No</td>\n",
       "      <td>NaN</td>\n",
       "      <td>NaN</td>\n",
       "      <td>NaN</td>\n",
       "      <td>NaN</td>\n",
       "      <td>NaN</td>\n",
       "      <td>Continued with Navigation</td>\n",
       "    </tr>\n",
       "    <tr>\n",
       "      <th>4</th>\n",
       "      <td>4</td>\n",
       "      <td>93114968</td>\n",
       "      <td>SMILE ON 60+ Clinical</td>\n",
       "      <td>NaN</td>\n",
       "      <td>2021-09-30 16:46:00</td>\n",
       "      <td>2021-09-30 16:48:00</td>\n",
       "      <td>2</td>\n",
       "      <td>3348256</td>\n",
       "      <td>Memphis</td>\n",
       "      <td>Shelby</td>\n",
       "      <td>...</td>\n",
       "      <td>Provider Site</td>\n",
       "      <td>No</td>\n",
       "      <td>Yes</td>\n",
       "      <td>No</td>\n",
       "      <td>NaN</td>\n",
       "      <td>NaN</td>\n",
       "      <td>NaN</td>\n",
       "      <td>NaN</td>\n",
       "      <td>NaN</td>\n",
       "      <td>Continued with Navigation</td>\n",
       "    </tr>\n",
       "  </tbody>\n",
       "</table>\n",
       "<p>5 rows × 112 columns</p>\n",
       "</div>"
      ],
      "text/plain": [
       "   Unnamed: 0  report_num                reg_or_appt related_reports  \\\n",
       "0           0    93115324  SMILE ON 60+ Registration             NaN   \n",
       "1           1    93115188  SMILE ON 60+ Registration             NaN   \n",
       "2           2    93115081      SMILE ON 60+ Clinical             NaN   \n",
       "3           3    93115032      SMILE ON 60+ Clinical             NaN   \n",
       "4           4    93114968      SMILE ON 60+ Clinical             NaN   \n",
       "\n",
       "           call_start             call_end  call_length  patient_id  \\\n",
       "0 2021-09-30 16:56:00  2021-09-30 16:57:00            1     3638169   \n",
       "1 2021-09-30 16:53:00  2021-09-30 16:53:00            0     4431194   \n",
       "2 2021-09-30 16:50:00  2021-09-30 16:51:00            1     2941341   \n",
       "3 2021-09-30 16:48:00  2021-09-30 16:49:00            1     3823933   \n",
       "4 2021-09-30 16:46:00  2021-09-30 16:48:00            2     3348256   \n",
       "\n",
       "        city      county  ... si_enroller_location  tp_completed  \\\n",
       "0     Smyrna  Rutherford  ...                  NaN           NaN   \n",
       "1  Nashville    Davidson  ...   Referral Follow-Up           NaN   \n",
       "2    Memphis      Shelby  ...        Provider Site            No   \n",
       "3    Memphis      Shelby  ...        Provider Site            No   \n",
       "4    Memphis      Shelby  ...        Provider Site            No   \n",
       "\n",
       "   tp_developed tp_yay  ve_transport  ve_eligibility_verified  \\\n",
       "0           NaN    NaN           NaN                      NaN   \n",
       "1           NaN    NaN           NaN                      NaN   \n",
       "2           Yes     No           NaN                      NaN   \n",
       "3           Yes     No           NaN                      NaN   \n",
       "4           Yes     No           NaN                      NaN   \n",
       "\n",
       "              bocq_next_step  di_language  referred               pe_next_step  \n",
       "0  Referred to dental clinic      English       NaN  Continued with Navigation  \n",
       "1  Referred to dental clinic      English       NaN  Continued with Navigation  \n",
       "2  Referred to dental clinic          NaN       NaN  Continued with Navigation  \n",
       "3                        NaN          NaN       NaN  Continued with Navigation  \n",
       "4                        NaN          NaN       NaN  Continued with Navigation  \n",
       "\n",
       "[5 rows x 112 columns]"
      ]
     },
     "execution_count": 4,
     "metadata": {},
     "output_type": "execute_result"
    }
   ],
   "source": [
    "smile_on.head()"
   ]
  },
  {
   "cell_type": "code",
   "execution_count": 5,
   "id": "53d61ed2",
   "metadata": {},
   "outputs": [
    {
     "data": {
      "text/plain": [
       "array([nan, 'Christ Community Health Services- Broad Avenue',\n",
       "       'Christ Community Health Services- Raleigh',\n",
       "       'Neighborhood Health - Cleveland Park/ Nashville',\n",
       "       'Neighborhood Health - Lebanon',\n",
       "       'Interfaith Dental Clinic - Murfreesboro',\n",
       "       'Christ Community Health Services- Frayser',\n",
       "       'Healing Hands Health Center - Bristol',\n",
       "       'Karis Dental Clinic - Cleveland',\n",
       "       'Interfaith Dental Clinic - Nashville',\n",
       "       'Northeast Tennessee Community Health Centers Inc. - Johnson City',\n",
       "       'Matthew Walker Comprehensive Health Center Inc. - Nashville',\n",
       "       'Christ Community Health Services- Hickory Hill',\n",
       "       'Keystone Dental Care Inc. - Johnson City',\n",
       "       'Friends in Need Health Center - Kingsport',\n",
       "       'Interfaith Health Clinic of Knoxville - Knoxville',\n",
       "       'Meharry Mobile Dental Clinic', 'Matthew Walker - Clarksville',\n",
       "       'Mountain Hope Good Shepherd Clinic', 'TDH - Maury Co',\n",
       "       'Reelfoot Ministries - Obion', 'Church Health Center - Memphis',\n",
       "       'Trinity Health Ministries ',\n",
       "       'Smiles Inc. - South Pittsburg - serving Marion Grundy Franklin and Hamilton Counties',\n",
       "       'Neighborhood Health - Napier/Nashville',\n",
       "       'Christ Community Health Services- Third Street',\n",
       "       'Fifty Forward - Nashville', 'TDH - Lawrence Co',\n",
       "       'Knox County CAC/Office on Aging - Knoxville',\n",
       "       'Neighborhood Health - Eastside/Nashville',\n",
       "       'Neighborhood Health - Mission/Nashville',\n",
       "       'Appalachian Miles for Smiles - Mobile'], dtype=object)"
      ]
     },
     "execution_count": 5,
     "metadata": {},
     "output_type": "execute_result"
    }
   ],
   "source": [
    "#unique clinics providing care - 32\n",
    "unique_clinics = smile_on['si_enroller_id'].unique()\n",
    "unique_clinics"
   ]
  },
  {
   "cell_type": "code",
   "execution_count": 6,
   "id": "3679bae0",
   "metadata": {},
   "outputs": [
    {
     "data": {
      "text/plain": [
       "46961"
      ]
     },
     "execution_count": 6,
     "metadata": {},
     "output_type": "execute_result"
    }
   ],
   "source": [
    "#total appointments at all clinics\n",
    "smile_on[\"si_enroller_id\"].value_counts().sum()"
   ]
  },
  {
   "cell_type": "code",
   "execution_count": 7,
   "id": "fb2efb9d",
   "metadata": {},
   "outputs": [
    {
     "data": {
      "text/html": [
       "<div>\n",
       "<style scoped>\n",
       "    .dataframe tbody tr th:only-of-type {\n",
       "        vertical-align: middle;\n",
       "    }\n",
       "\n",
       "    .dataframe tbody tr th {\n",
       "        vertical-align: top;\n",
       "    }\n",
       "\n",
       "    .dataframe thead th {\n",
       "        text-align: right;\n",
       "    }\n",
       "</style>\n",
       "<table border=\"1\" class=\"dataframe\">\n",
       "  <thead>\n",
       "    <tr style=\"text-align: right;\">\n",
       "      <th></th>\n",
       "      <th>Unnamed: 0</th>\n",
       "      <th>report_num</th>\n",
       "      <th>reg_or_appt</th>\n",
       "      <th>related_reports</th>\n",
       "      <th>call_start</th>\n",
       "      <th>call_end</th>\n",
       "      <th>call_length</th>\n",
       "      <th>patient_id</th>\n",
       "      <th>city</th>\n",
       "      <th>county</th>\n",
       "      <th>...</th>\n",
       "      <th>si_enroller_location</th>\n",
       "      <th>tp_completed</th>\n",
       "      <th>tp_developed</th>\n",
       "      <th>tp_yay</th>\n",
       "      <th>ve_transport</th>\n",
       "      <th>ve_eligibility_verified</th>\n",
       "      <th>bocq_next_step</th>\n",
       "      <th>di_language</th>\n",
       "      <th>referred</th>\n",
       "      <th>pe_next_step</th>\n",
       "    </tr>\n",
       "  </thead>\n",
       "  <tbody>\n",
       "  </tbody>\n",
       "</table>\n",
       "<p>0 rows × 112 columns</p>\n",
       "</div>"
      ],
      "text/plain": [
       "Empty DataFrame\n",
       "Columns: [Unnamed: 0, report_num, reg_or_appt, related_reports, call_start, call_end, call_length, patient_id, city, county, state, zip_code, EnteredByWorkerNum, date_entered, di_household_size, birth_year, oec_1351, oec_1354, oec_2140, oec_2150, oec_2160, oec_2161, oec_230, oec_2330, oec_2331, oec_2332, oec_2335, oec_2390, oec_2391, oec_2392, oec_2393, oec_2394, oec_2915, oec_2920, oec_2933, oec_2940, oec_2950, oec_2954, oec_2980, oec_3220, oec_4341, oec_4342, oec_6930, oec_6980, oec_7111, oec_7140, oec_7210, oec_7220, oec_7230, oec_7240, oec_7241, oec_7250, oec_7261, oec_7286, oec_7310, oec_7311, oec_7320, oec_7321, oec_7410, oec_7411, oec_7471, oec_7510, oec_7971, oec_7972, oec_9110, oec_9951, scrn_date_of_last, ve_verified_date, bocq_eat_limited, bocq_dental_clinic, bocq_client_commit, bocq_help_other, bocq_need_help, bocq_appearance, bocq_condition, cmi_clinic, cmi_transport_barriers, cmi_barriers_to_care, ci_Is patient of record date if yes last seen?, ci_Was initial appointment made?, ci_Was initial transportation assistance or referral provided?, di_gender, di_hh_income, di_referred_by, di_race_eth, di_other_programs, di_last_dentist_visit, oec_care_provided, pe_insurance, pe_prequalify, scrn_lower_teeth, scrn_upper_teeth, scrn_has_dentures, scrn_eats_w_dentures, scrn_problems_12m, scrn_tooth_brushing, scrn_periodontal, scrn_root_fragments, scrn_lesions, scrn_urgency, ...]\n",
       "Index: []\n",
       "\n",
       "[0 rows x 112 columns]"
      ]
     },
     "execution_count": 7,
     "metadata": {},
     "output_type": "execute_result"
    }
   ],
   "source": [
    "#total patients seen per clinic\n",
    "smile_on[\"si_enroller_id\"].value_counts()\n",
    "smile_on.loc[smile_on.index.isin(['SMILE ON 60+ Clinical'])]"
   ]
  },
  {
   "cell_type": "code",
   "execution_count": 21,
   "id": "684dd0bf",
   "metadata": {},
   "outputs": [
    {
     "name": "stdout",
     "output_type": "stream",
     "text": [
      "['Unnamed: 0', 'report_num', 'reg_or_appt', 'related_reports', 'call_start', 'call_end', 'call_length', 'patient_id', 'city', 'county', 'state', 'zip_code', 'EnteredByWorkerNum', 'date_entered', 'di_household_size', 'birth_year', 'oec_1351', 'oec_1354', 'oec_2140', 'oec_2150', 'oec_2160', 'oec_2161', 'oec_230', 'oec_2330', 'oec_2331', 'oec_2332', 'oec_2335', 'oec_2390', 'oec_2391', 'oec_2392', 'oec_2393', 'oec_2394', 'oec_2915', 'oec_2920', 'oec_2933', 'oec_2940', 'oec_2950', 'oec_2954', 'oec_2980', 'oec_3220', 'oec_4341', 'oec_4342', 'oec_6930', 'oec_6980', 'oec_7111', 'oec_7140', 'oec_7210', 'oec_7220', 'oec_7230', 'oec_7240', 'oec_7241', 'oec_7250', 'oec_7261', 'oec_7286', 'oec_7310', 'oec_7311', 'oec_7320', 'oec_7321', 'oec_7410', 'oec_7411', 'oec_7471', 'oec_7510', 'oec_7971', 'oec_7972', 'oec_9110', 'oec_9951', 'scrn_date_of_last', 've_verified_date', 'bocq_eat_limited', 'bocq_dental_clinic', 'bocq_client_commit', 'bocq_help_other', 'bocq_need_help', 'bocq_appearance', 'bocq_condition', 'cmi_clinic', 'cmi_transport_barriers', 'cmi_barriers_to_care', 'ci_Is patient of record date if yes last seen?', 'ci_Was initial appointment made?', 'ci_Was initial transportation assistance or referral provided?', 'di_gender', 'di_hh_income', 'di_referred_by', 'di_race_eth', 'di_other_programs', 'di_last_dentist_visit', 'oec_care_provided', 'pe_insurance', 'pe_prequalify', 'scrn_lower_teeth', 'scrn_upper_teeth', 'scrn_has_dentures', 'scrn_eats_w_dentures', 'scrn_problems_12m', 'scrn_tooth_brushing', 'scrn_periodontal', 'scrn_root_fragments', 'scrn_lesions', 'scrn_urgency', 'scrn_decay', 'si_enroller_id', 'si_enroller_location', 'tp_completed', 'tp_developed', 'tp_yay', 've_transport', 've_eligibility_verified', 'bocq_next_step', 'di_language', 'referred', 'pe_next_step']\n"
     ]
    }
   ],
   "source": [
    "print(smile_on.columns.tolist())"
   ]
  },
  {
   "cell_type": "markdown",
   "id": "63979704",
   "metadata": {},
   "source": [
    "# Exploring the transportation question"
   ]
  },
  {
   "cell_type": "code",
   "execution_count": 8,
   "id": "5c08f31a",
   "metadata": {},
   "outputs": [
    {
     "data": {
      "text/plain": [
       "Cost; Availability - no car/access to transportation    1618\n",
       "Availability - no car/access to transportation          1275\n",
       "Cost                                                     817\n",
       "Name: cmi_transport_barriers, dtype: int64"
      ]
     },
     "execution_count": 8,
     "metadata": {},
     "output_type": "execute_result"
    }
   ],
   "source": [
    "smile_on[\"cmi_transport_barriers\"].value_counts()"
   ]
  },
  {
   "cell_type": "code",
   "execution_count": 9,
   "id": "8d571ac9",
   "metadata": {},
   "outputs": [],
   "source": [
    "smile_on[\"cmi_transport_barriers\"] = smile_on[\"cmi_transport_barriers\"].replace({\"Availability - no car/access to transportation\": \"Availability\",\n",
    "                                                       \"Cost; Availability - no car/access to transportation\": \"Both\"},)"
   ]
  },
  {
   "cell_type": "code",
   "execution_count": 10,
   "id": "80cb9c94",
   "metadata": {},
   "outputs": [
    {
     "data": {
      "text/plain": [
       "Both            1618\n",
       "Availability    1275\n",
       "Cost             817\n",
       "Name: cmi_transport_barriers, dtype: int64"
      ]
     },
     "execution_count": 10,
     "metadata": {},
     "output_type": "execute_result"
    }
   ],
   "source": [
    "smile_on[\"cmi_transport_barriers\"].value_counts()"
   ]
  },
  {
   "cell_type": "code",
   "execution_count": 35,
   "id": "50a23288",
   "metadata": {
    "scrolled": true
   },
   "outputs": [
    {
     "data": {
      "text/plain": [
       "(1618, 4)"
      ]
     },
     "execution_count": 35,
     "metadata": {},
     "output_type": "execute_result"
    }
   ],
   "source": [
    "#create dataframes based on tranportation barriers\n",
    "smile_on1 = smile_on[['patient_id','reg_or_appt',\"cmi_transport_barriers\",\"ve_transport\"]]\n",
    "both = smile_on1.loc[smile_on[\"cmi_transport_barriers\"].isin(['Both'])]\n",
    "availability = smile_on1.loc[smile_on[\"cmi_transport_barriers\"].isin(['Availability'])]\n",
    "cost = smile_on1.loc[smile_on[\"cmi_transport_barriers\"].isin(['Cost'])]\n",
    "both.shape"
   ]
  },
  {
   "cell_type": "code",
   "execution_count": 33,
   "id": "79e1765f",
   "metadata": {},
   "outputs": [
    {
     "data": {
      "text/plain": [
       "No     109\n",
       "Yes     55\n",
       "Name: ve_transport, dtype: int64"
      ]
     },
     "execution_count": 33,
     "metadata": {},
     "output_type": "execute_result"
    }
   ],
   "source": [
    "both[\"ve_transport\"].value_counts()"
   ]
  },
  {
   "cell_type": "code",
   "execution_count": 43,
   "id": "7ecffedf",
   "metadata": {},
   "outputs": [
    {
     "ename": "ValueError",
     "evalue": "x and y must have same first dimension, but have shapes (1618,) and (2,)",
     "output_type": "error",
     "traceback": [
      "\u001b[1;31m---------------------------------------------------------------------------\u001b[0m",
      "\u001b[1;31mValueError\u001b[0m                                Traceback (most recent call last)",
      "\u001b[1;32m<ipython-input-43-d0d1939f7070>\u001b[0m in \u001b[0;36m<module>\u001b[1;34m\u001b[0m\n\u001b[0;32m      1\u001b[0m \u001b[0mfig\u001b[0m\u001b[1;33m,\u001b[0m \u001b[0max\u001b[0m \u001b[1;33m=\u001b[0m \u001b[0mplt\u001b[0m\u001b[1;33m.\u001b[0m\u001b[0msubplots\u001b[0m\u001b[1;33m(\u001b[0m\u001b[1;33m)\u001b[0m\u001b[1;33m\u001b[0m\u001b[1;33m\u001b[0m\u001b[0m\n\u001b[1;32m----> 2\u001b[1;33m \u001b[0max\u001b[0m\u001b[1;33m.\u001b[0m\u001b[0mplot\u001b[0m\u001b[1;33m(\u001b[0m\u001b[0mboth\u001b[0m\u001b[1;33m[\u001b[0m\u001b[1;34m\"reg_or_appt\"\u001b[0m\u001b[1;33m]\u001b[0m\u001b[1;33m,\u001b[0m \u001b[0mboth\u001b[0m\u001b[1;33m[\u001b[0m\u001b[1;34m\"ve_transport\"\u001b[0m\u001b[1;33m]\u001b[0m\u001b[1;33m.\u001b[0m\u001b[0mvalue_counts\u001b[0m\u001b[1;33m(\u001b[0m\u001b[1;33m)\u001b[0m\u001b[1;33m)\u001b[0m\u001b[1;33m\u001b[0m\u001b[1;33m\u001b[0m\u001b[0m\n\u001b[0m\u001b[0;32m      3\u001b[0m \u001b[1;33m\u001b[0m\u001b[0m\n\u001b[0;32m      4\u001b[0m \u001b[1;31m# Customize the x-axis label\u001b[0m\u001b[1;33m\u001b[0m\u001b[1;33m\u001b[0m\u001b[1;33m\u001b[0m\u001b[0m\n\u001b[0;32m      5\u001b[0m \u001b[0max\u001b[0m\u001b[1;33m.\u001b[0m\u001b[0mset_xlabel\u001b[0m\u001b[1;33m(\u001b[0m\u001b[1;34m\"Time (months)\"\u001b[0m\u001b[1;33m)\u001b[0m\u001b[1;33m\u001b[0m\u001b[1;33m\u001b[0m\u001b[0m\n",
      "\u001b[1;32m~\\anaconda3\\lib\\site-packages\\matplotlib\\axes\\_axes.py\u001b[0m in \u001b[0;36mplot\u001b[1;34m(self, scalex, scaley, data, *args, **kwargs)\u001b[0m\n\u001b[0;32m   1741\u001b[0m         \"\"\"\n\u001b[0;32m   1742\u001b[0m         \u001b[0mkwargs\u001b[0m \u001b[1;33m=\u001b[0m \u001b[0mcbook\u001b[0m\u001b[1;33m.\u001b[0m\u001b[0mnormalize_kwargs\u001b[0m\u001b[1;33m(\u001b[0m\u001b[0mkwargs\u001b[0m\u001b[1;33m,\u001b[0m \u001b[0mmlines\u001b[0m\u001b[1;33m.\u001b[0m\u001b[0mLine2D\u001b[0m\u001b[1;33m)\u001b[0m\u001b[1;33m\u001b[0m\u001b[1;33m\u001b[0m\u001b[0m\n\u001b[1;32m-> 1743\u001b[1;33m         \u001b[0mlines\u001b[0m \u001b[1;33m=\u001b[0m \u001b[1;33m[\u001b[0m\u001b[1;33m*\u001b[0m\u001b[0mself\u001b[0m\u001b[1;33m.\u001b[0m\u001b[0m_get_lines\u001b[0m\u001b[1;33m(\u001b[0m\u001b[1;33m*\u001b[0m\u001b[0margs\u001b[0m\u001b[1;33m,\u001b[0m \u001b[0mdata\u001b[0m\u001b[1;33m=\u001b[0m\u001b[0mdata\u001b[0m\u001b[1;33m,\u001b[0m \u001b[1;33m**\u001b[0m\u001b[0mkwargs\u001b[0m\u001b[1;33m)\u001b[0m\u001b[1;33m]\u001b[0m\u001b[1;33m\u001b[0m\u001b[1;33m\u001b[0m\u001b[0m\n\u001b[0m\u001b[0;32m   1744\u001b[0m         \u001b[1;32mfor\u001b[0m \u001b[0mline\u001b[0m \u001b[1;32min\u001b[0m \u001b[0mlines\u001b[0m\u001b[1;33m:\u001b[0m\u001b[1;33m\u001b[0m\u001b[1;33m\u001b[0m\u001b[0m\n\u001b[0;32m   1745\u001b[0m             \u001b[0mself\u001b[0m\u001b[1;33m.\u001b[0m\u001b[0madd_line\u001b[0m\u001b[1;33m(\u001b[0m\u001b[0mline\u001b[0m\u001b[1;33m)\u001b[0m\u001b[1;33m\u001b[0m\u001b[1;33m\u001b[0m\u001b[0m\n",
      "\u001b[1;32m~\\anaconda3\\lib\\site-packages\\matplotlib\\axes\\_base.py\u001b[0m in \u001b[0;36m__call__\u001b[1;34m(self, data, *args, **kwargs)\u001b[0m\n\u001b[0;32m    271\u001b[0m                 \u001b[0mthis\u001b[0m \u001b[1;33m+=\u001b[0m \u001b[0margs\u001b[0m\u001b[1;33m[\u001b[0m\u001b[1;36m0\u001b[0m\u001b[1;33m]\u001b[0m\u001b[1;33m,\u001b[0m\u001b[1;33m\u001b[0m\u001b[1;33m\u001b[0m\u001b[0m\n\u001b[0;32m    272\u001b[0m                 \u001b[0margs\u001b[0m \u001b[1;33m=\u001b[0m \u001b[0margs\u001b[0m\u001b[1;33m[\u001b[0m\u001b[1;36m1\u001b[0m\u001b[1;33m:\u001b[0m\u001b[1;33m]\u001b[0m\u001b[1;33m\u001b[0m\u001b[1;33m\u001b[0m\u001b[0m\n\u001b[1;32m--> 273\u001b[1;33m             \u001b[1;32myield\u001b[0m \u001b[1;32mfrom\u001b[0m \u001b[0mself\u001b[0m\u001b[1;33m.\u001b[0m\u001b[0m_plot_args\u001b[0m\u001b[1;33m(\u001b[0m\u001b[0mthis\u001b[0m\u001b[1;33m,\u001b[0m \u001b[0mkwargs\u001b[0m\u001b[1;33m)\u001b[0m\u001b[1;33m\u001b[0m\u001b[1;33m\u001b[0m\u001b[0m\n\u001b[0m\u001b[0;32m    274\u001b[0m \u001b[1;33m\u001b[0m\u001b[0m\n\u001b[0;32m    275\u001b[0m     \u001b[1;32mdef\u001b[0m \u001b[0mget_next_color\u001b[0m\u001b[1;33m(\u001b[0m\u001b[0mself\u001b[0m\u001b[1;33m)\u001b[0m\u001b[1;33m:\u001b[0m\u001b[1;33m\u001b[0m\u001b[1;33m\u001b[0m\u001b[0m\n",
      "\u001b[1;32m~\\anaconda3\\lib\\site-packages\\matplotlib\\axes\\_base.py\u001b[0m in \u001b[0;36m_plot_args\u001b[1;34m(self, tup, kwargs)\u001b[0m\n\u001b[0;32m    397\u001b[0m \u001b[1;33m\u001b[0m\u001b[0m\n\u001b[0;32m    398\u001b[0m         \u001b[1;32mif\u001b[0m \u001b[0mx\u001b[0m\u001b[1;33m.\u001b[0m\u001b[0mshape\u001b[0m\u001b[1;33m[\u001b[0m\u001b[1;36m0\u001b[0m\u001b[1;33m]\u001b[0m \u001b[1;33m!=\u001b[0m \u001b[0my\u001b[0m\u001b[1;33m.\u001b[0m\u001b[0mshape\u001b[0m\u001b[1;33m[\u001b[0m\u001b[1;36m0\u001b[0m\u001b[1;33m]\u001b[0m\u001b[1;33m:\u001b[0m\u001b[1;33m\u001b[0m\u001b[1;33m\u001b[0m\u001b[0m\n\u001b[1;32m--> 399\u001b[1;33m             raise ValueError(f\"x and y must have same first dimension, but \"\n\u001b[0m\u001b[0;32m    400\u001b[0m                              f\"have shapes {x.shape} and {y.shape}\")\n\u001b[0;32m    401\u001b[0m         \u001b[1;32mif\u001b[0m \u001b[0mx\u001b[0m\u001b[1;33m.\u001b[0m\u001b[0mndim\u001b[0m \u001b[1;33m>\u001b[0m \u001b[1;36m2\u001b[0m \u001b[1;32mor\u001b[0m \u001b[0my\u001b[0m\u001b[1;33m.\u001b[0m\u001b[0mndim\u001b[0m \u001b[1;33m>\u001b[0m \u001b[1;36m2\u001b[0m\u001b[1;33m:\u001b[0m\u001b[1;33m\u001b[0m\u001b[1;33m\u001b[0m\u001b[0m\n",
      "\u001b[1;31mValueError\u001b[0m: x and y must have same first dimension, but have shapes (1618,) and (2,)"
     ]
    },
    {
     "data": {
      "image/png": "[encoded data removed]",
      "text/plain": [
       "<Figure size 432x288 with 1 Axes>"
      ]
     },
     "metadata": {
      "needs_background": "light"
     },
     "output_type": "display_data"
    }
   ],
   "source": [
    "fig, ax = plt.subplots()\n",
    "ax.plot(both[\"reg_or_appt\"], both[\"ve_transport\"].value_counts())\n",
    "\n",
    "# Customize the x-axis label\n",
    "ax.set_xlabel(\"Time (months)\")\n",
    "\n",
    "# Customize the y-axis label\n",
    "ax.set_ylabel(\"Precipitation (inches)\")\n",
    "\n",
    "# Add the title\n",
    "ax.set_title(\"Weather patterns in Austin and Seattle\")\n",
    "\n",
    "# Display the figure\n",
    "plt.show()"
   ]
  },
  {
   "cell_type": "code",
   "execution_count": 37,
   "id": "d43327b6",
   "metadata": {},
   "outputs": [
    {
     "data": {
      "text/plain": [
       "patient_id\n",
       "2392454     8\n",
       "2399825     7\n",
       "2399840     9\n",
       "2404190    24\n",
       "2408029    23\n",
       "           ..\n",
       "4439826     5\n",
       "4440903     1\n",
       "4473724     1\n",
       "4517573     5\n",
       "4522294     2\n",
       "Length: 313, dtype: int64"
      ]
     },
     "execution_count": 37,
     "metadata": {},
     "output_type": "execute_result"
    }
   ],
   "source": [
    "both.groupby('patient_id').size()"
   ]
  },
  {
   "cell_type": "code",
   "execution_count": 28,
   "id": "8e15deaa",
   "metadata": {
    "scrolled": true
   },
   "outputs": [
    {
     "data": {
      "text/plain": [
       "3212379    54\n",
       "2758373    42\n",
       "2390065    25\n",
       "2511808    25\n",
       "2404190    24\n",
       "           ..\n",
       "2612122     1\n",
       "2628508     1\n",
       "4433602     1\n",
       "2413503     1\n",
       "3041273     1\n",
       "Name: patient_id, Length: 664, dtype: int64"
      ]
     },
     "execution_count": 28,
     "metadata": {},
     "output_type": "execute_result"
    }
   ],
   "source": [
    "transport[\"patient_id\"].value_counts()"
   ]
  },
  {
   "cell_type": "code",
   "execution_count": 31,
   "id": "4f59b8f4",
   "metadata": {},
   "outputs": [
    {
     "data": {
      "text/html": [
       "<div>\n",
       "<style scoped>\n",
       "    .dataframe tbody tr th:only-of-type {\n",
       "        vertical-align: middle;\n",
       "    }\n",
       "\n",
       "    .dataframe tbody tr th {\n",
       "        vertical-align: top;\n",
       "    }\n",
       "\n",
       "    .dataframe thead th {\n",
       "        text-align: right;\n",
       "    }\n",
       "</style>\n",
       "<table border=\"1\" class=\"dataframe\">\n",
       "  <thead>\n",
       "    <tr style=\"text-align: right;\">\n",
       "      <th></th>\n",
       "      <th>patient_id</th>\n",
       "      <th>reg_or_appt</th>\n",
       "      <th>cmi_transport_barriers</th>\n",
       "      <th>ve_transport</th>\n",
       "    </tr>\n",
       "  </thead>\n",
       "  <tbody>\n",
       "  </tbody>\n",
       "</table>\n",
       "</div>"
      ],
      "text/plain": [
       "Empty DataFrame\n",
       "Columns: [patient_id, reg_or_appt, cmi_transport_barriers, ve_transport]\n",
       "Index: []"
      ]
     },
     "execution_count": 31,
     "metadata": {},
     "output_type": "execute_result"
    }
   ],
   "source": [
    "patient_3212379 = transport[transport[\"patient_id\"] == \"3820972\"]\n",
    "patient_3212379"
   ]
  },
  {
   "cell_type": "code",
   "execution_count": null,
   "id": "7b67f0e6",
   "metadata": {},
   "outputs": [],
   "source": [
    "# y-axis in bold\n",
    "plt('font', weight='bold')\n",
    " \n",
    "# Values of each group\n",
    "bars1 = [12, 28, 1, 8, 22]\n",
    "bars2 = [28, 7, 16, 4, 10]\n",
    "bars3 = [25, 3, 23, 25, 17]\n",
    " \n",
    "# Heights of bars1 + bars2\n",
    "bars = np.add(bars1, bars2).tolist()\n",
    " \n",
    "# The position of the bars on the x-axis\n",
    "r = [0,1,2,3,4]\n",
    " \n",
    "# Names of group and bar width\n",
    "names = ['A','B','C','D','E']\n",
    "barWidth = 1\n",
    " \n",
    "# Create brown bars\n",
    "plt.bar(r, bars1, color='#7f6d5f', edgecolor='white', width=barWidth)\n",
    "# Create green bars (middle), on top of the first ones\n",
    "plt.bar(r, bars2, bottom=bars1, color='#557f2d', edgecolor='white', width=barWidth)\n",
    "# Create green bars (top)\n",
    "plt.bar(r, bars3, bottom=bars, color='#2d7f5e', edgecolor='white', width=barWidth)\n",
    " \n",
    "# Custom X axis\n",
    "plt.xticks(r, names, fontweight='bold')\n",
    "plt.xlabel(\"group\")\n",
    " \n",
    "# Show graphic\n",
    "plt.show()"
   ]
  },
  {
   "cell_type": "code",
   "execution_count": 11,
   "id": "4e69a196",
   "metadata": {},
   "outputs": [
    {
     "data": {
      "text/plain": [
       "-1          63\n",
       " 3212379    54\n",
       " 2441776    43\n",
       " 2758373    42\n",
       " 2431132    37\n",
       "            ..\n",
       " 2493042     1\n",
       " 2797406     1\n",
       " 2499719     1\n",
       " 2599558     1\n",
       " 2649056     1\n",
       "Name: patient_id, Length: 10424, dtype: int64"
      ]
     },
     "execution_count": 11,
     "metadata": {},
     "output_type": "execute_result"
    }
   ],
   "source": []
  },
  {
   "cell_type": "code",
   "execution_count": 12,
   "id": "a7afcf5c",
   "metadata": {},
   "outputs": [
    {
     "data": {
      "text/html": [
       "<div>\n",
       "<style scoped>\n",
       "    .dataframe tbody tr th:only-of-type {\n",
       "        vertical-align: middle;\n",
       "    }\n",
       "\n",
       "    .dataframe tbody tr th {\n",
       "        vertical-align: top;\n",
       "    }\n",
       "\n",
       "    .dataframe thead th {\n",
       "        text-align: right;\n",
       "    }\n",
       "</style>\n",
       "<table border=\"1\" class=\"dataframe\">\n",
       "  <thead>\n",
       "    <tr style=\"text-align: right;\">\n",
       "      <th></th>\n",
       "      <th>Unnamed: 0</th>\n",
       "      <th>report_num</th>\n",
       "      <th>reg_or_appt</th>\n",
       "      <th>related_reports</th>\n",
       "      <th>call_start</th>\n",
       "      <th>call_end</th>\n",
       "      <th>call_length</th>\n",
       "      <th>patient_id</th>\n",
       "      <th>city</th>\n",
       "      <th>county</th>\n",
       "      <th>...</th>\n",
       "      <th>si_enroller_location</th>\n",
       "      <th>tp_completed</th>\n",
       "      <th>tp_developed</th>\n",
       "      <th>tp_yay</th>\n",
       "      <th>ve_transport</th>\n",
       "      <th>ve_eligibility_verified</th>\n",
       "      <th>bocq_next_step</th>\n",
       "      <th>di_language</th>\n",
       "      <th>referred</th>\n",
       "      <th>pe_next_step</th>\n",
       "    </tr>\n",
       "  </thead>\n",
       "  <tbody>\n",
       "  </tbody>\n",
       "</table>\n",
       "<p>0 rows × 112 columns</p>\n",
       "</div>"
      ],
      "text/plain": [
       "Empty DataFrame\n",
       "Columns: [Unnamed: 0, report_num, reg_or_appt, related_reports, call_start, call_end, call_length, patient_id, city, county, state, zip_code, EnteredByWorkerNum, date_entered, di_household_size, birth_year, oec_1351, oec_1354, oec_2140, oec_2150, oec_2160, oec_2161, oec_230, oec_2330, oec_2331, oec_2332, oec_2335, oec_2390, oec_2391, oec_2392, oec_2393, oec_2394, oec_2915, oec_2920, oec_2933, oec_2940, oec_2950, oec_2954, oec_2980, oec_3220, oec_4341, oec_4342, oec_6930, oec_6980, oec_7111, oec_7140, oec_7210, oec_7220, oec_7230, oec_7240, oec_7241, oec_7250, oec_7261, oec_7286, oec_7310, oec_7311, oec_7320, oec_7321, oec_7410, oec_7411, oec_7471, oec_7510, oec_7971, oec_7972, oec_9110, oec_9951, scrn_date_of_last, ve_verified_date, bocq_eat_limited, bocq_dental_clinic, bocq_client_commit, bocq_help_other, bocq_need_help, bocq_appearance, bocq_condition, cmi_clinic, cmi_transport_barriers, cmi_barriers_to_care, ci_Is patient of record date if yes last seen?, ci_Was initial appointment made?, ci_Was initial transportation assistance or referral provided?, di_gender, di_hh_income, di_referred_by, di_race_eth, di_other_programs, di_last_dentist_visit, oec_care_provided, pe_insurance, pe_prequalify, scrn_lower_teeth, scrn_upper_teeth, scrn_has_dentures, scrn_eats_w_dentures, scrn_problems_12m, scrn_tooth_brushing, scrn_periodontal, scrn_root_fragments, scrn_lesions, scrn_urgency, ...]\n",
       "Index: []\n",
       "\n",
       "[0 rows x 112 columns]"
      ]
     },
     "execution_count": 12,
     "metadata": {},
     "output_type": "execute_result"
    }
   ],
   "source": []
  },
  {
   "cell_type": "code",
   "execution_count": 22,
   "id": "e37fd566",
   "metadata": {},
   "outputs": [
    {
     "data": {
      "text/html": [
       "<div>\n",
       "<style scoped>\n",
       "    .dataframe tbody tr th:only-of-type {\n",
       "        vertical-align: middle;\n",
       "    }\n",
       "\n",
       "    .dataframe tbody tr th {\n",
       "        vertical-align: top;\n",
       "    }\n",
       "\n",
       "    .dataframe thead th {\n",
       "        text-align: right;\n",
       "    }\n",
       "</style>\n",
       "<table border=\"1\" class=\"dataframe\">\n",
       "  <thead>\n",
       "    <tr style=\"text-align: right;\">\n",
       "      <th></th>\n",
       "      <th>0</th>\n",
       "      <th>1</th>\n",
       "      <th>2</th>\n",
       "      <th>3</th>\n",
       "      <th>4</th>\n",
       "      <th>5</th>\n",
       "    </tr>\n",
       "  </thead>\n",
       "  <tbody>\n",
       "    <tr>\n",
       "      <th>0</th>\n",
       "      <td>No insurance</td>\n",
       "      <td>None</td>\n",
       "      <td>None</td>\n",
       "      <td>None</td>\n",
       "      <td>None</td>\n",
       "      <td>None</td>\n",
       "    </tr>\n",
       "    <tr>\n",
       "      <th>1</th>\n",
       "      <td>Dental cost</td>\n",
       "      <td>No insurance</td>\n",
       "      <td>None</td>\n",
       "      <td>None</td>\n",
       "      <td>None</td>\n",
       "      <td>None</td>\n",
       "    </tr>\n",
       "    <tr>\n",
       "      <th>2</th>\n",
       "      <td>Dental cost</td>\n",
       "      <td>No insurance</td>\n",
       "      <td>None</td>\n",
       "      <td>None</td>\n",
       "      <td>None</td>\n",
       "      <td>None</td>\n",
       "    </tr>\n",
       "    <tr>\n",
       "      <th>3</th>\n",
       "      <td>Dental cost</td>\n",
       "      <td>No insurance</td>\n",
       "      <td>Fear</td>\n",
       "      <td>None</td>\n",
       "      <td>None</td>\n",
       "      <td>None</td>\n",
       "    </tr>\n",
       "    <tr>\n",
       "      <th>4</th>\n",
       "      <td>Transportation</td>\n",
       "      <td>Dental cost</td>\n",
       "      <td>No insurance</td>\n",
       "      <td>None</td>\n",
       "      <td>None</td>\n",
       "      <td>None</td>\n",
       "    </tr>\n",
       "    <tr>\n",
       "      <th>...</th>\n",
       "      <td>...</td>\n",
       "      <td>...</td>\n",
       "      <td>...</td>\n",
       "      <td>...</td>\n",
       "      <td>...</td>\n",
       "      <td>...</td>\n",
       "    </tr>\n",
       "    <tr>\n",
       "      <th>57481</th>\n",
       "      <td>Dental cost</td>\n",
       "      <td>No insurance</td>\n",
       "      <td>None</td>\n",
       "      <td>None</td>\n",
       "      <td>None</td>\n",
       "      <td>None</td>\n",
       "    </tr>\n",
       "    <tr>\n",
       "      <th>57482</th>\n",
       "      <td>No insurance</td>\n",
       "      <td>None</td>\n",
       "      <td>None</td>\n",
       "      <td>None</td>\n",
       "      <td>None</td>\n",
       "      <td>None</td>\n",
       "    </tr>\n",
       "    <tr>\n",
       "      <th>57483</th>\n",
       "      <td>NaN</td>\n",
       "      <td>NaN</td>\n",
       "      <td>NaN</td>\n",
       "      <td>NaN</td>\n",
       "      <td>NaN</td>\n",
       "      <td>NaN</td>\n",
       "    </tr>\n",
       "    <tr>\n",
       "      <th>57484</th>\n",
       "      <td>Dental cost</td>\n",
       "      <td>No insurance</td>\n",
       "      <td>None</td>\n",
       "      <td>None</td>\n",
       "      <td>None</td>\n",
       "      <td>None</td>\n",
       "    </tr>\n",
       "    <tr>\n",
       "      <th>57485</th>\n",
       "      <td>No insurance</td>\n",
       "      <td>None</td>\n",
       "      <td>None</td>\n",
       "      <td>None</td>\n",
       "      <td>None</td>\n",
       "      <td>None</td>\n",
       "    </tr>\n",
       "  </tbody>\n",
       "</table>\n",
       "<p>57486 rows × 6 columns</p>\n",
       "</div>"
      ],
      "text/plain": [
       "                    0              1              2     3     4     5\n",
       "0        No insurance           None           None  None  None  None\n",
       "1         Dental cost   No insurance           None  None  None  None\n",
       "2         Dental cost   No insurance           None  None  None  None\n",
       "3         Dental cost   No insurance           Fear  None  None  None\n",
       "4      Transportation    Dental cost   No insurance  None  None  None\n",
       "...               ...            ...            ...   ...   ...   ...\n",
       "57481     Dental cost   No insurance           None  None  None  None\n",
       "57482    No insurance           None           None  None  None  None\n",
       "57483             NaN            NaN            NaN   NaN   NaN   NaN\n",
       "57484     Dental cost   No insurance           None  None  None  None\n",
       "57485    No insurance           None           None  None  None  None\n",
       "\n",
       "[57486 rows x 6 columns]"
      ]
     },
     "execution_count": 22,
     "metadata": {},
     "output_type": "execute_result"
    }
   ],
   "source": [
    "# split column into multiple columns by delimiter \n",
    "smile_on['cmi_barriers_to_care'].str.split(';', expand=True)"
   ]
  },
  {
   "cell_type": "code",
   "execution_count": null,
   "id": "2436c699",
   "metadata": {},
   "outputs": [],
   "source": []
  }
 ],
 "metadata": {
  "kernelspec": {
   "display_name": "Python 3",
   "language": "python",
   "name": "python3"
  },
  "language_info": {
   "codemirror_mode": {
    "name": "ipython",
    "version": 3
   },
   "file_extension": ".py",
   "mimetype": "text/x-python",
   "name": "python",
   "nbconvert_exporter": "python",
   "pygments_lexer": "ipython3",
   "version": "3.8.8"
  }
 },
 "nbformat": 4,
 "nbformat_minor": 5
}
