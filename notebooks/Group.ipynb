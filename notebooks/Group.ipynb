{
 "cells": [
  {
   "cell_type": "code",
   "execution_count": 1,
   "id": "364eb4aa",
   "metadata": {},
   "outputs": [],
   "source": [
    "import pandas as pd\n",
    "import numpy as np\n",
    "import pickle\n",
    "pd.set_option('display.max_columns', None)"
   ]
  },
  {
   "cell_type": "code",
   "execution_count": 2,
   "id": "c297e2a2",
   "metadata": {},
   "outputs": [
    {
     "name": "stdout",
     "output_type": "stream",
     "text": [
      "Wall time: 273 ms\n"
     ]
    }
   ],
   "source": [
    "%%time\n",
    "smileon = pd.read_pickle(\"../data/smileon.pkl\")"
   ]
  },
  {
   "cell_type": "code",
   "execution_count": 3,
   "id": "774f480e",
   "metadata": {},
   "outputs": [
    {
     "data": {
      "text/html": [
       "<div>\n",
       "<style scoped>\n",
       "    .dataframe tbody tr th:only-of-type {\n",
       "        vertical-align: middle;\n",
       "    }\n",
       "\n",
       "    .dataframe tbody tr th {\n",
       "        vertical-align: top;\n",
       "    }\n",
       "\n",
       "    .dataframe thead th {\n",
       "        text-align: right;\n",
       "    }\n",
       "</style>\n",
       "<table border=\"1\" class=\"dataframe\">\n",
       "  <thead>\n",
       "    <tr style=\"text-align: right;\">\n",
       "      <th></th>\n",
       "      <th>CallReportNum</th>\n",
       "      <th>ReportVersion</th>\n",
       "      <th>LinkedToCallReportNum</th>\n",
       "      <th>CallDateAndTimeStart</th>\n",
       "      <th>CallDateAndTimeEnd</th>\n",
       "      <th>CallLength</th>\n",
       "      <th>CallerNum</th>\n",
       "      <th>PhoneWorkerNum</th>\n",
       "      <th>CityName</th>\n",
       "      <th>CountyName</th>\n",
       "      <th>StateProvince</th>\n",
       "      <th>CountryName</th>\n",
       "      <th>PostalCode</th>\n",
       "      <th>PhoneType</th>\n",
       "      <th>ThirdPartyStateProvince</th>\n",
       "      <th>Narrative</th>\n",
       "      <th>Feedback</th>\n",
       "      <th>EnteredByWorkerNum</th>\n",
       "      <th>EnteredOn</th>\n",
       "      <th>Reviewed</th>\n",
       "      <th>FeedbackStatus</th>\n",
       "      <th>FeedbackFromPhoneWorkerNum</th>\n",
       "      <th>FeedbackFromPhoneWorkerName</th>\n",
       "      <th>ReferralsMade</th>\n",
       "      <th>OrgNum</th>\n",
       "      <th>Demo_# of People in Household</th>\n",
       "      <th>Birth Year</th>\n",
       "      <th>Demo_Other Language</th>\n",
       "      <th>Notes (Optional) - Notes</th>\n",
       "      <th>OralCare_1351</th>\n",
       "      <th>OralCare_1354</th>\n",
       "      <th>OralCare_2140</th>\n",
       "      <th>OralCare_2150</th>\n",
       "      <th>OralCare_2160</th>\n",
       "      <th>OralCare_2161</th>\n",
       "      <th>OralCare_230</th>\n",
       "      <th>OralCare_2330</th>\n",
       "      <th>OralCare_2331</th>\n",
       "      <th>OralCare_2332</th>\n",
       "      <th>OralCare_2335</th>\n",
       "      <th>OralCare_2390</th>\n",
       "      <th>OralCare_2391</th>\n",
       "      <th>OralCare_2392</th>\n",
       "      <th>OralCare_2393</th>\n",
       "      <th>OralCare_2394</th>\n",
       "      <th>OralCare_2915</th>\n",
       "      <th>OralCare_2920</th>\n",
       "      <th>OralCare_2933</th>\n",
       "      <th>OralCare_2940</th>\n",
       "      <th>OralCare_2950</th>\n",
       "      <th>OralCare_2954</th>\n",
       "      <th>OralCare_2980</th>\n",
       "      <th>OralCare_3220</th>\n",
       "      <th>OralCare_4341</th>\n",
       "      <th>OralCare_4342</th>\n",
       "      <th>OralCare_6930</th>\n",
       "      <th>OralCare_6980</th>\n",
       "      <th>OralCare_7111</th>\n",
       "      <th>OralCare_7140</th>\n",
       "      <th>OralCare_7210</th>\n",
       "      <th>OralCare_7220</th>\n",
       "      <th>OralCare_7230</th>\n",
       "      <th>OralCare_7240</th>\n",
       "      <th>OralCare_7241</th>\n",
       "      <th>OralCare_7250</th>\n",
       "      <th>OralCare_7261</th>\n",
       "      <th>OralCare_7286</th>\n",
       "      <th>OralCare_7310</th>\n",
       "      <th>OralCare_7311</th>\n",
       "      <th>OralCare_7320</th>\n",
       "      <th>OralCare_7321</th>\n",
       "      <th>OralCare_7410</th>\n",
       "      <th>OralCare_7411</th>\n",
       "      <th>OralCare_7471</th>\n",
       "      <th>OralCare_7510</th>\n",
       "      <th>OralCare_7971</th>\n",
       "      <th>OralCare_7972</th>\n",
       "      <th>OralCare_9110</th>\n",
       "      <th>OralCare_9951</th>\n",
       "      <th>OralCare_Lab Assist narrative</th>\n",
       "      <th>Screen_Last Screening Date</th>\n",
       "      <th>VOE_Verification Date</th>\n",
       "      <th>Baseline_Are you limited in what you can eat?</th>\n",
       "      <th>Baseline_Dental Clinic</th>\n",
       "      <th>Baseline_Did the client commit to referral?</th>\n",
       "      <th>Baseline_Did you help in these other areas?</th>\n",
       "      <th>Baseline_Do you need help in these other areas?</th>\n",
       "      <th>Baseline_Have you ever felt that the appearance of your mouth and teeth affected your quality of life?</th>\n",
       "      <th>Baseline_How would you describe the condition of your mouth and teeth?</th>\n",
       "      <th>Baseline_What is the next step for client encounter?</th>\n",
       "      <th>Baseline_What is the next step for clients encounter?</th>\n",
       "      <th>CM_Dental Clinic</th>\n",
       "      <th>CM_Transportation Barriers</th>\n",
       "      <th>CM_What barriers have kept you from finding a consistent dental home? (Select all that apply)</th>\n",
       "      <th>CM_What is the outcome for the client?</th>\n",
       "      <th>Clinic_Action: Upload Before Picture on Finish Tab</th>\n",
       "      <th>Clinic_Is patient of record date if yes last seen?</th>\n",
       "      <th>Clinic_Was initial appointment made?</th>\n",
       "      <th>Clinic_Was initial transportation assistance or referral provided?</th>\n",
       "      <th>Demo_Gender</th>\n",
       "      <th>Demo_Household Income Level</th>\n",
       "      <th>Demo_How did you first hear about the program?</th>\n",
       "      <th>Demo_Preferred Language/Language Needed</th>\n",
       "      <th>Demo_Race/Ethnicity</th>\n",
       "      <th>Demo_What other assistance programs are you on?</th>\n",
       "      <th>Demo_When is the last time you visited your dentist?</th>\n",
       "      <th>OralCare_What care was provided to the enrollee? (Select all that apply)</th>\n",
       "      <th>PElig_Dental Insurance?</th>\n",
       "      <th>PElig_Do they pre-qualify for SMILE ON 60+?</th>\n",
       "      <th>PElig_What is the next step for clients encounter, A?</th>\n",
       "      <th>PElig_What is the next step for clients encounter, B?</th>\n",
       "      <th>Screen_# of Lower Natural Teeth</th>\n",
       "      <th>Screen_# of Upper Natural Teeth</th>\n",
       "      <th>Screen_Do you have removable dentures?</th>\n",
       "      <th>Screen_Do you usually wear your denture(s) when you eat?</th>\n",
       "      <th>Screen_Experienced any problems related to mouth/teeth during past 12 months?</th>\n",
       "      <th>Screen_How often do you brush your teeth?</th>\n",
       "      <th>Screen_Need for Periodontal Care</th>\n",
       "      <th>Screen_Root Fragments</th>\n",
       "      <th>Screen_Suspicious Soft Tissue Lesions</th>\n",
       "      <th>Screen_Treatment Urgency</th>\n",
       "      <th>Screen_Untreated Decay</th>\n",
       "      <th>Site_Enroller ID</th>\n",
       "      <th>Site_Enroller Location</th>\n",
       "      <th>TPlan_Action: Upload After Picture on Finish Tab</th>\n",
       "      <th>TPlan_Is the treatment plan completed?</th>\n",
       "      <th>TPlan_Was a treatment plan developed?</th>\n",
       "      <th>TPlan_Was the enrollee able to be restored to function (can chew) and \"social six\" esthetics (top front six teeth are present and disease free)</th>\n",
       "      <th>VOE_Transportation Arranged</th>\n",
       "      <th>VOE_Verification of Eligibility</th>\n",
       "    </tr>\n",
       "  </thead>\n",
       "  <tbody>\n",
       "    <tr>\n",
       "      <th>0</th>\n",
       "      <td>93115324</td>\n",
       "      <td>SMILE ON 60+ Registration</td>\n",
       "      <td>NaN</td>\n",
       "      <td>9/30/2021 16:56</td>\n",
       "      <td>9/30/2021 16:57</td>\n",
       "      <td>1</td>\n",
       "      <td>3638169</td>\n",
       "      <td>123747</td>\n",
       "      <td>Smyrna</td>\n",
       "      <td>Rutherford</td>\n",
       "      <td>TN</td>\n",
       "      <td>United States</td>\n",
       "      <td>37167.0</td>\n",
       "      <td>Mobile</td>\n",
       "      <td>NaN</td>\n",
       "      <td>spoke with client again concerning transfer to...</td>\n",
       "      <td>NaN</td>\n",
       "      <td>123747</td>\n",
       "      <td>9/30/2021 16:57</td>\n",
       "      <td>No</td>\n",
       "      <td>Not yet</td>\n",
       "      <td>NaN</td>\n",
       "      <td>NaN</td>\n",
       "      <td>NaN</td>\n",
       "      <td>51426</td>\n",
       "      <td>1.0</td>\n",
       "      <td>1960</td>\n",
       "      <td>NaN</td>\n",
       "      <td>NaN</td>\n",
       "      <td>NaN</td>\n",
       "      <td>NaN</td>\n",
       "      <td>NaN</td>\n",
       "      <td>NaN</td>\n",
       "      <td>NaN</td>\n",
       "      <td>NaN</td>\n",
       "      <td>NaN</td>\n",
       "      <td>NaN</td>\n",
       "      <td>NaN</td>\n",
       "      <td>NaN</td>\n",
       "      <td>NaN</td>\n",
       "      <td>NaN</td>\n",
       "      <td>NaN</td>\n",
       "      <td>NaN</td>\n",
       "      <td>NaN</td>\n",
       "      <td>NaN</td>\n",
       "      <td>NaN</td>\n",
       "      <td>NaN</td>\n",
       "      <td>NaN</td>\n",
       "      <td>NaN</td>\n",
       "      <td>NaN</td>\n",
       "      <td>NaN</td>\n",
       "      <td>NaN</td>\n",
       "      <td>NaN</td>\n",
       "      <td>NaN</td>\n",
       "      <td>NaN</td>\n",
       "      <td>NaN</td>\n",
       "      <td>NaN</td>\n",
       "      <td>NaN</td>\n",
       "      <td>NaN</td>\n",
       "      <td>NaN</td>\n",
       "      <td>NaN</td>\n",
       "      <td>NaN</td>\n",
       "      <td>NaN</td>\n",
       "      <td>NaN</td>\n",
       "      <td>NaN</td>\n",
       "      <td>NaN</td>\n",
       "      <td>NaN</td>\n",
       "      <td>NaN</td>\n",
       "      <td>NaN</td>\n",
       "      <td>NaN</td>\n",
       "      <td>NaN</td>\n",
       "      <td>NaN</td>\n",
       "      <td>NaN</td>\n",
       "      <td>NaN</td>\n",
       "      <td>NaN</td>\n",
       "      <td>NaN</td>\n",
       "      <td>NaN</td>\n",
       "      <td>NaN</td>\n",
       "      <td>NaN</td>\n",
       "      <td>NaN</td>\n",
       "      <td>NaN</td>\n",
       "      <td>NaN</td>\n",
       "      <td>Yes</td>\n",
       "      <td>Interfaith Dental Clinic - Murfreesboro</td>\n",
       "      <td>Yes</td>\n",
       "      <td>NaN</td>\n",
       "      <td>No</td>\n",
       "      <td>Yes</td>\n",
       "      <td>Poor</td>\n",
       "      <td>NaN</td>\n",
       "      <td>Referred to dental clinic</td>\n",
       "      <td>NaN</td>\n",
       "      <td>NaN</td>\n",
       "      <td>No insurance</td>\n",
       "      <td>NaN</td>\n",
       "      <td>NaN</td>\n",
       "      <td>NaN</td>\n",
       "      <td>NaN</td>\n",
       "      <td>NaN</td>\n",
       "      <td>Female</td>\n",
       "      <td>$0 - $21 280</td>\n",
       "      <td>Other</td>\n",
       "      <td>English</td>\n",
       "      <td>African American</td>\n",
       "      <td>SNAP; SSI/SSDI</td>\n",
       "      <td>NaN</td>\n",
       "      <td>NaN</td>\n",
       "      <td>No</td>\n",
       "      <td>Yes</td>\n",
       "      <td>Continued with Navigation</td>\n",
       "      <td>NaN</td>\n",
       "      <td>NaN</td>\n",
       "      <td>NaN</td>\n",
       "      <td>NaN</td>\n",
       "      <td>NaN</td>\n",
       "      <td>NaN</td>\n",
       "      <td>NaN</td>\n",
       "      <td>NaN</td>\n",
       "      <td>NaN</td>\n",
       "      <td>NaN</td>\n",
       "      <td>NaN</td>\n",
       "      <td>NaN</td>\n",
       "      <td>NaN</td>\n",
       "      <td>NaN</td>\n",
       "      <td>NaN</td>\n",
       "      <td>NaN</td>\n",
       "      <td>NaN</td>\n",
       "      <td>NaN</td>\n",
       "      <td>NaN</td>\n",
       "      <td>NaN</td>\n",
       "    </tr>\n",
       "    <tr>\n",
       "      <th>1</th>\n",
       "      <td>93115188</td>\n",
       "      <td>SMILE ON 60+ Registration</td>\n",
       "      <td>NaN</td>\n",
       "      <td>9/30/2021 16:53</td>\n",
       "      <td>9/30/2021 16:53</td>\n",
       "      <td>0</td>\n",
       "      <td>4431194</td>\n",
       "      <td>123747</td>\n",
       "      <td>Nashville</td>\n",
       "      <td>Davidson</td>\n",
       "      <td>TN</td>\n",
       "      <td>United States</td>\n",
       "      <td>37211.0</td>\n",
       "      <td>NaN</td>\n",
       "      <td>NaN</td>\n",
       "      <td>Called client to follow up on app. LM for call...</td>\n",
       "      <td>NaN</td>\n",
       "      <td>123747</td>\n",
       "      <td>9/30/2021 16:53</td>\n",
       "      <td>No</td>\n",
       "      <td>Not yet</td>\n",
       "      <td>NaN</td>\n",
       "      <td>NaN</td>\n",
       "      <td>NaN</td>\n",
       "      <td>51426</td>\n",
       "      <td>1.0</td>\n",
       "      <td>1959</td>\n",
       "      <td>NaN</td>\n",
       "      <td>NaN</td>\n",
       "      <td>NaN</td>\n",
       "      <td>NaN</td>\n",
       "      <td>NaN</td>\n",
       "      <td>NaN</td>\n",
       "      <td>NaN</td>\n",
       "      <td>NaN</td>\n",
       "      <td>NaN</td>\n",
       "      <td>NaN</td>\n",
       "      <td>NaN</td>\n",
       "      <td>NaN</td>\n",
       "      <td>NaN</td>\n",
       "      <td>NaN</td>\n",
       "      <td>NaN</td>\n",
       "      <td>NaN</td>\n",
       "      <td>NaN</td>\n",
       "      <td>NaN</td>\n",
       "      <td>NaN</td>\n",
       "      <td>NaN</td>\n",
       "      <td>NaN</td>\n",
       "      <td>NaN</td>\n",
       "      <td>NaN</td>\n",
       "      <td>NaN</td>\n",
       "      <td>NaN</td>\n",
       "      <td>NaN</td>\n",
       "      <td>NaN</td>\n",
       "      <td>NaN</td>\n",
       "      <td>NaN</td>\n",
       "      <td>NaN</td>\n",
       "      <td>NaN</td>\n",
       "      <td>NaN</td>\n",
       "      <td>NaN</td>\n",
       "      <td>NaN</td>\n",
       "      <td>NaN</td>\n",
       "      <td>NaN</td>\n",
       "      <td>NaN</td>\n",
       "      <td>NaN</td>\n",
       "      <td>NaN</td>\n",
       "      <td>NaN</td>\n",
       "      <td>NaN</td>\n",
       "      <td>NaN</td>\n",
       "      <td>NaN</td>\n",
       "      <td>NaN</td>\n",
       "      <td>NaN</td>\n",
       "      <td>NaN</td>\n",
       "      <td>NaN</td>\n",
       "      <td>NaN</td>\n",
       "      <td>NaN</td>\n",
       "      <td>NaN</td>\n",
       "      <td>NaN</td>\n",
       "      <td>NaN</td>\n",
       "      <td>NaN</td>\n",
       "      <td>NaN</td>\n",
       "      <td>NaN</td>\n",
       "      <td>Yes</td>\n",
       "      <td>Interfaith Dental Clinic - Nashville</td>\n",
       "      <td>Yes</td>\n",
       "      <td>NaN</td>\n",
       "      <td>No</td>\n",
       "      <td>Yes</td>\n",
       "      <td>Poor</td>\n",
       "      <td>NaN</td>\n",
       "      <td>Referred to dental clinic</td>\n",
       "      <td>NaN</td>\n",
       "      <td>NaN</td>\n",
       "      <td>Dental cost; No insurance</td>\n",
       "      <td>NaN</td>\n",
       "      <td>NaN</td>\n",
       "      <td>NaN</td>\n",
       "      <td>NaN</td>\n",
       "      <td>NaN</td>\n",
       "      <td>Female</td>\n",
       "      <td>$0 - $21 280</td>\n",
       "      <td>Dental Clinic Staff</td>\n",
       "      <td>English</td>\n",
       "      <td>Caucasian</td>\n",
       "      <td>NaN</td>\n",
       "      <td>More than 5 years</td>\n",
       "      <td>NaN</td>\n",
       "      <td>No</td>\n",
       "      <td>Yes</td>\n",
       "      <td>Continued with Navigation</td>\n",
       "      <td>NaN</td>\n",
       "      <td>NaN</td>\n",
       "      <td>NaN</td>\n",
       "      <td>NaN</td>\n",
       "      <td>NaN</td>\n",
       "      <td>NaN</td>\n",
       "      <td>NaN</td>\n",
       "      <td>NaN</td>\n",
       "      <td>NaN</td>\n",
       "      <td>NaN</td>\n",
       "      <td>NaN</td>\n",
       "      <td>NaN</td>\n",
       "      <td>NaN</td>\n",
       "      <td>Referral Follow-Up</td>\n",
       "      <td>NaN</td>\n",
       "      <td>NaN</td>\n",
       "      <td>NaN</td>\n",
       "      <td>NaN</td>\n",
       "      <td>NaN</td>\n",
       "      <td>NaN</td>\n",
       "    </tr>\n",
       "  </tbody>\n",
       "</table>\n",
       "</div>"
      ],
      "text/plain": [
       "   CallReportNum              ReportVersion LinkedToCallReportNum  \\\n",
       "0       93115324  SMILE ON 60+ Registration                   NaN   \n",
       "1       93115188  SMILE ON 60+ Registration                   NaN   \n",
       "\n",
       "  CallDateAndTimeStart CallDateAndTimeEnd  CallLength  CallerNum  \\\n",
       "0      9/30/2021 16:56    9/30/2021 16:57           1    3638169   \n",
       "1      9/30/2021 16:53    9/30/2021 16:53           0    4431194   \n",
       "\n",
       "   PhoneWorkerNum   CityName  CountyName StateProvince    CountryName  \\\n",
       "0          123747     Smyrna  Rutherford            TN  United States   \n",
       "1          123747  Nashville    Davidson            TN  United States   \n",
       "\n",
       "   PostalCode PhoneType ThirdPartyStateProvince  \\\n",
       "0     37167.0    Mobile                     NaN   \n",
       "1     37211.0       NaN                     NaN   \n",
       "\n",
       "                                           Narrative Feedback  \\\n",
       "0  spoke with client again concerning transfer to...      NaN   \n",
       "1  Called client to follow up on app. LM for call...      NaN   \n",
       "\n",
       "   EnteredByWorkerNum        EnteredOn Reviewed FeedbackStatus  \\\n",
       "0              123747  9/30/2021 16:57       No        Not yet   \n",
       "1              123747  9/30/2021 16:53       No        Not yet   \n",
       "\n",
       "   FeedbackFromPhoneWorkerNum FeedbackFromPhoneWorkerName ReferralsMade  \\\n",
       "0                         NaN                         NaN           NaN   \n",
       "1                         NaN                         NaN           NaN   \n",
       "\n",
       "   OrgNum Demo_# of People in Household Birth Year Demo_Other Language  \\\n",
       "0   51426                           1.0       1960                 NaN   \n",
       "1   51426                           1.0       1959                 NaN   \n",
       "\n",
       "  Notes (Optional) - Notes  OralCare_1351  OralCare_1354  OralCare_2140  \\\n",
       "0                      NaN            NaN            NaN            NaN   \n",
       "1                      NaN            NaN            NaN            NaN   \n",
       "\n",
       "   OralCare_2150  OralCare_2160  OralCare_2161  OralCare_230  OralCare_2330  \\\n",
       "0            NaN            NaN            NaN           NaN            NaN   \n",
       "1            NaN            NaN            NaN           NaN            NaN   \n",
       "\n",
       "   OralCare_2331  OralCare_2332  OralCare_2335  OralCare_2390  OralCare_2391  \\\n",
       "0            NaN            NaN            NaN            NaN            NaN   \n",
       "1            NaN            NaN            NaN            NaN            NaN   \n",
       "\n",
       "   OralCare_2392 OralCare_2393  OralCare_2394  OralCare_2915  OralCare_2920  \\\n",
       "0            NaN           NaN            NaN            NaN            NaN   \n",
       "1            NaN           NaN            NaN            NaN            NaN   \n",
       "\n",
       "   OralCare_2933  OralCare_2940 OralCare_2950  OralCare_2954  OralCare_2980  \\\n",
       "0            NaN            NaN           NaN            NaN            NaN   \n",
       "1            NaN            NaN           NaN            NaN            NaN   \n",
       "\n",
       "   OralCare_3220  OralCare_4341 OralCare_4342  OralCare_6930  OralCare_6980  \\\n",
       "0            NaN            NaN           NaN            NaN            NaN   \n",
       "1            NaN            NaN           NaN            NaN            NaN   \n",
       "\n",
       "   OralCare_7111 OralCare_7140  OralCare_7210  OralCare_7220  OralCare_7230  \\\n",
       "0            NaN           NaN            NaN            NaN            NaN   \n",
       "1            NaN           NaN            NaN            NaN            NaN   \n",
       "\n",
       "   OralCare_7240  OralCare_7241  OralCare_7250  OralCare_7261  OralCare_7286  \\\n",
       "0            NaN            NaN            NaN            NaN            NaN   \n",
       "1            NaN            NaN            NaN            NaN            NaN   \n",
       "\n",
       "   OralCare_7310  OralCare_7311 OralCare_7320  OralCare_7321  OralCare_7410  \\\n",
       "0            NaN            NaN           NaN            NaN            NaN   \n",
       "1            NaN            NaN           NaN            NaN            NaN   \n",
       "\n",
       "   OralCare_7411  OralCare_7471  OralCare_7510  OralCare_7971  OralCare_7972  \\\n",
       "0            NaN            NaN            NaN            NaN            NaN   \n",
       "1            NaN            NaN            NaN            NaN            NaN   \n",
       "\n",
       "   OralCare_9110  OralCare_9951 OralCare_Lab Assist narrative  \\\n",
       "0            NaN            NaN                           NaN   \n",
       "1            NaN            NaN                           NaN   \n",
       "\n",
       "  Screen_Last Screening Date VOE_Verification Date  \\\n",
       "0                        NaN                   NaN   \n",
       "1                        NaN                   NaN   \n",
       "\n",
       "  Baseline_Are you limited in what you can eat?  \\\n",
       "0                                           Yes   \n",
       "1                                           Yes   \n",
       "\n",
       "                    Baseline_Dental Clinic  \\\n",
       "0  Interfaith Dental Clinic - Murfreesboro   \n",
       "1     Interfaith Dental Clinic - Nashville   \n",
       "\n",
       "  Baseline_Did the client commit to referral?  \\\n",
       "0                                         Yes   \n",
       "1                                         Yes   \n",
       "\n",
       "  Baseline_Did you help in these other areas?  \\\n",
       "0                                         NaN   \n",
       "1                                         NaN   \n",
       "\n",
       "  Baseline_Do you need help in these other areas?  \\\n",
       "0                                              No   \n",
       "1                                              No   \n",
       "\n",
       "  Baseline_Have you ever felt that the appearance of your mouth and teeth affected your quality of life?  \\\n",
       "0                                                Yes                                                       \n",
       "1                                                Yes                                                       \n",
       "\n",
       "  Baseline_How would you describe the condition of your mouth and teeth?  \\\n",
       "0                                               Poor                       \n",
       "1                                               Poor                       \n",
       "\n",
       "  Baseline_What is the next step for client encounter?  \\\n",
       "0                                                NaN     \n",
       "1                                                NaN     \n",
       "\n",
       "  Baseline_What is the next step for clients encounter? CM_Dental Clinic  \\\n",
       "0                          Referred to dental clinic                 NaN   \n",
       "1                          Referred to dental clinic                 NaN   \n",
       "\n",
       "  CM_Transportation Barriers  \\\n",
       "0                        NaN   \n",
       "1                        NaN   \n",
       "\n",
       "  CM_What barriers have kept you from finding a consistent dental home? (Select all that apply)  \\\n",
       "0                                       No insurance                                              \n",
       "1                          Dental cost; No insurance                                              \n",
       "\n",
       "  CM_What is the outcome for the client?  \\\n",
       "0                                    NaN   \n",
       "1                                    NaN   \n",
       "\n",
       "  Clinic_Action: Upload Before Picture on Finish Tab  \\\n",
       "0                                                NaN   \n",
       "1                                                NaN   \n",
       "\n",
       "  Clinic_Is patient of record date if yes last seen?  \\\n",
       "0                                                NaN   \n",
       "1                                                NaN   \n",
       "\n",
       "  Clinic_Was initial appointment made?  \\\n",
       "0                                  NaN   \n",
       "1                                  NaN   \n",
       "\n",
       "  Clinic_Was initial transportation assistance or referral provided?  \\\n",
       "0                                                NaN                   \n",
       "1                                                NaN                   \n",
       "\n",
       "  Demo_Gender Demo_Household Income Level  \\\n",
       "0      Female                $0 - $21 280   \n",
       "1      Female                $0 - $21 280   \n",
       "\n",
       "  Demo_How did you first hear about the program?  \\\n",
       "0                                          Other   \n",
       "1                            Dental Clinic Staff   \n",
       "\n",
       "  Demo_Preferred Language/Language Needed Demo_Race/Ethnicity  \\\n",
       "0                                 English    African American   \n",
       "1                                 English           Caucasian   \n",
       "\n",
       "  Demo_What other assistance programs are you on?  \\\n",
       "0                                  SNAP; SSI/SSDI   \n",
       "1                                             NaN   \n",
       "\n",
       "  Demo_When is the last time you visited your dentist?  \\\n",
       "0                                                NaN     \n",
       "1                                  More than 5 years     \n",
       "\n",
       "  OralCare_What care was provided to the enrollee? (Select all that apply)  \\\n",
       "0                                                NaN                         \n",
       "1                                                NaN                         \n",
       "\n",
       "  PElig_Dental Insurance? PElig_Do they pre-qualify for SMILE ON 60+?  \\\n",
       "0                      No                                         Yes   \n",
       "1                      No                                         Yes   \n",
       "\n",
       "  PElig_What is the next step for clients encounter, A?  \\\n",
       "0                          Continued with Navigation      \n",
       "1                          Continued with Navigation      \n",
       "\n",
       "  PElig_What is the next step for clients encounter, B?  \\\n",
       "0                                                NaN      \n",
       "1                                                NaN      \n",
       "\n",
       "   Screen_# of Lower Natural Teeth  Screen_# of Upper Natural Teeth  \\\n",
       "0                              NaN                              NaN   \n",
       "1                              NaN                              NaN   \n",
       "\n",
       "  Screen_Do you have removable dentures?  \\\n",
       "0                                    NaN   \n",
       "1                                    NaN   \n",
       "\n",
       "  Screen_Do you usually wear your denture(s) when you eat?  \\\n",
       "0                                                NaN         \n",
       "1                                                NaN         \n",
       "\n",
       "  Screen_Experienced any problems related to mouth/teeth during past 12 months?  \\\n",
       "0                                                NaN                              \n",
       "1                                                NaN                              \n",
       "\n",
       "  Screen_How often do you brush your teeth? Screen_Need for Periodontal Care  \\\n",
       "0                                       NaN                              NaN   \n",
       "1                                       NaN                              NaN   \n",
       "\n",
       "  Screen_Root Fragments Screen_Suspicious Soft Tissue Lesions  \\\n",
       "0                   NaN                                   NaN   \n",
       "1                   NaN                                   NaN   \n",
       "\n",
       "  Screen_Treatment Urgency Screen_Untreated Decay Site_Enroller ID  \\\n",
       "0                      NaN                    NaN              NaN   \n",
       "1                      NaN                    NaN              NaN   \n",
       "\n",
       "  Site_Enroller Location TPlan_Action: Upload After Picture on Finish Tab  \\\n",
       "0                    NaN                                              NaN   \n",
       "1     Referral Follow-Up                                              NaN   \n",
       "\n",
       "  TPlan_Is the treatment plan completed?  \\\n",
       "0                                    NaN   \n",
       "1                                    NaN   \n",
       "\n",
       "  TPlan_Was a treatment plan developed?  \\\n",
       "0                                   NaN   \n",
       "1                                   NaN   \n",
       "\n",
       "  TPlan_Was the enrollee able to be restored to function (can chew) and \"social six\" esthetics (top front six teeth are present and disease free)  \\\n",
       "0                                                NaN                                                                                                \n",
       "1                                                NaN                                                                                                \n",
       "\n",
       "  VOE_Transportation Arranged VOE_Verification of Eligibility  \n",
       "0                         NaN                             NaN  \n",
       "1                         NaN                             NaN  "
      ]
     },
     "execution_count": 3,
     "metadata": {},
     "output_type": "execute_result"
    }
   ],
   "source": [
    "smileon.head(2)"
   ]
  },
  {
   "cell_type": "markdown",
   "id": "b5883677",
   "metadata": {},
   "source": [
    "**Creating a subset dataframe based on columns chosen by group Get Tootha Choppa (gtc) to determine success of program outcomes"
   ]
  },
  {
   "cell_type": "code",
   "execution_count": 4,
   "id": "5711906c",
   "metadata": {},
   "outputs": [],
   "source": [
    "gtc =smileon[['CallReportNum', 'CallerNum', 'ReferralsMade', 'Screen_Last Screening Date', \n",
    "             'Baseline_Are you limited in what you can eat?', 'Baseline_Did the client commit to referral?', \n",
    "             'Baseline_Have you ever felt that the appearance of your mouth and teeth affected your quality of life?', \n",
    "             'Baseline_How would you describe the condition of your mouth and teeth?', \n",
    "             'CM_What is the outcome for the client?', 'Clinic_Was initial appointment made?', \n",
    "             'Screen_Experienced any problems related to mouth/teeth during past 12 months?', \n",
    "             'TPlan_Is the treatment plan completed?', \n",
    "             'TPlan_Was a treatment plan developed?',\n",
    "             'TPlan_Was the enrollee able to be restored to function (can chew) and \"social six\" esthetics (top front six teeth are present and disease free)' ]]"
   ]
  },
  {
   "cell_type": "code",
   "execution_count": 5,
   "id": "d8e1157a",
   "metadata": {},
   "outputs": [
    {
     "data": {
      "text/html": [
       "<div>\n",
       "<style scoped>\n",
       "    .dataframe tbody tr th:only-of-type {\n",
       "        vertical-align: middle;\n",
       "    }\n",
       "\n",
       "    .dataframe tbody tr th {\n",
       "        vertical-align: top;\n",
       "    }\n",
       "\n",
       "    .dataframe thead th {\n",
       "        text-align: right;\n",
       "    }\n",
       "</style>\n",
       "<table border=\"1\" class=\"dataframe\">\n",
       "  <thead>\n",
       "    <tr style=\"text-align: right;\">\n",
       "      <th></th>\n",
       "      <th>CallReportNum</th>\n",
       "      <th>CallerNum</th>\n",
       "      <th>ReferralsMade</th>\n",
       "      <th>Screen_Last Screening Date</th>\n",
       "      <th>Baseline_Are you limited in what you can eat?</th>\n",
       "      <th>Baseline_Did the client commit to referral?</th>\n",
       "      <th>Baseline_Have you ever felt that the appearance of your mouth and teeth affected your quality of life?</th>\n",
       "      <th>Baseline_How would you describe the condition of your mouth and teeth?</th>\n",
       "      <th>CM_What is the outcome for the client?</th>\n",
       "      <th>Clinic_Was initial appointment made?</th>\n",
       "      <th>Screen_Experienced any problems related to mouth/teeth during past 12 months?</th>\n",
       "      <th>TPlan_Is the treatment plan completed?</th>\n",
       "      <th>TPlan_Was a treatment plan developed?</th>\n",
       "      <th>TPlan_Was the enrollee able to be restored to function (can chew) and \"social six\" esthetics (top front six teeth are present and disease free)</th>\n",
       "    </tr>\n",
       "  </thead>\n",
       "  <tbody>\n",
       "    <tr>\n",
       "      <th>0</th>\n",
       "      <td>93115324</td>\n",
       "      <td>3638169</td>\n",
       "      <td>NaN</td>\n",
       "      <td>NaN</td>\n",
       "      <td>Yes</td>\n",
       "      <td>Yes</td>\n",
       "      <td>Yes</td>\n",
       "      <td>Poor</td>\n",
       "      <td>NaN</td>\n",
       "      <td>NaN</td>\n",
       "      <td>NaN</td>\n",
       "      <td>NaN</td>\n",
       "      <td>NaN</td>\n",
       "      <td>NaN</td>\n",
       "    </tr>\n",
       "    <tr>\n",
       "      <th>1</th>\n",
       "      <td>93115188</td>\n",
       "      <td>4431194</td>\n",
       "      <td>NaN</td>\n",
       "      <td>NaN</td>\n",
       "      <td>Yes</td>\n",
       "      <td>Yes</td>\n",
       "      <td>Yes</td>\n",
       "      <td>Poor</td>\n",
       "      <td>NaN</td>\n",
       "      <td>NaN</td>\n",
       "      <td>NaN</td>\n",
       "      <td>NaN</td>\n",
       "      <td>NaN</td>\n",
       "      <td>NaN</td>\n",
       "    </tr>\n",
       "  </tbody>\n",
       "</table>\n",
       "</div>"
      ],
      "text/plain": [
       "   CallReportNum  CallerNum ReferralsMade Screen_Last Screening Date  \\\n",
       "0       93115324    3638169           NaN                        NaN   \n",
       "1       93115188    4431194           NaN                        NaN   \n",
       "\n",
       "  Baseline_Are you limited in what you can eat?  \\\n",
       "0                                           Yes   \n",
       "1                                           Yes   \n",
       "\n",
       "  Baseline_Did the client commit to referral?  \\\n",
       "0                                         Yes   \n",
       "1                                         Yes   \n",
       "\n",
       "  Baseline_Have you ever felt that the appearance of your mouth and teeth affected your quality of life?  \\\n",
       "0                                                Yes                                                       \n",
       "1                                                Yes                                                       \n",
       "\n",
       "  Baseline_How would you describe the condition of your mouth and teeth?  \\\n",
       "0                                               Poor                       \n",
       "1                                               Poor                       \n",
       "\n",
       "  CM_What is the outcome for the client? Clinic_Was initial appointment made?  \\\n",
       "0                                    NaN                                  NaN   \n",
       "1                                    NaN                                  NaN   \n",
       "\n",
       "  Screen_Experienced any problems related to mouth/teeth during past 12 months?  \\\n",
       "0                                                NaN                              \n",
       "1                                                NaN                              \n",
       "\n",
       "  TPlan_Is the treatment plan completed?  \\\n",
       "0                                    NaN   \n",
       "1                                    NaN   \n",
       "\n",
       "  TPlan_Was a treatment plan developed?  \\\n",
       "0                                   NaN   \n",
       "1                                   NaN   \n",
       "\n",
       "  TPlan_Was the enrollee able to be restored to function (can chew) and \"social six\" esthetics (top front six teeth are present and disease free)  \n",
       "0                                                NaN                                                                                               \n",
       "1                                                NaN                                                                                               "
      ]
     },
     "execution_count": 5,
     "metadata": {},
     "output_type": "execute_result"
    }
   ],
   "source": [
    "gtc.head(2)"
   ]
  },
  {
   "cell_type": "markdown",
   "id": "6e8e8530",
   "metadata": {},
   "source": [
    "**Exploration of data to see values in gtc dataframe columns"
   ]
  },
  {
   "cell_type": "code",
   "execution_count": 6,
   "id": "9c2e7c12",
   "metadata": {},
   "outputs": [
    {
     "data": {
      "text/plain": [
       "57860"
      ]
     },
     "execution_count": 6,
     "metadata": {},
     "output_type": "execute_result"
    }
   ],
   "source": [
    "gtc['CallReportNum'].nunique()"
   ]
  },
  {
   "cell_type": "code",
   "execution_count": 7,
   "id": "9e710ca3",
   "metadata": {},
   "outputs": [
    {
     "data": {
      "text/plain": [
       "10711"
      ]
     },
     "execution_count": 7,
     "metadata": {},
     "output_type": "execute_result"
    }
   ],
   "source": [
    "gtc['CallerNum'].nunique() #10,000 callers for 57,000 rows of dta"
   ]
  },
  {
   "cell_type": "code",
   "execution_count": 8,
   "id": "e97714e9",
   "metadata": {},
   "outputs": [],
   "source": [
    "#gtc['Screen_Last Screening Date'].unique() #DO I NEED TO CALCULATE NUMBER OF DAYS BETWEEN CALL AND LAST SCREENING DATE"
   ]
  },
  {
   "cell_type": "code",
   "execution_count": 9,
   "id": "637d32a9",
   "metadata": {},
   "outputs": [
    {
     "data": {
      "text/plain": [
       "array(['Yes', 'No', nan], dtype=object)"
      ]
     },
     "execution_count": 9,
     "metadata": {},
     "output_type": "execute_result"
    }
   ],
   "source": [
    "gtc['Baseline_Are you limited in what you can eat?'].unique()"
   ]
  },
  {
   "cell_type": "code",
   "execution_count": 10,
   "id": "0b6b08a9",
   "metadata": {},
   "outputs": [
    {
     "data": {
      "text/plain": [
       "array(['Poor', 'Good', 'Fair', 'Dont know', nan, 'Very Good'],\n",
       "      dtype=object)"
      ]
     },
     "execution_count": 10,
     "metadata": {},
     "output_type": "execute_result"
    }
   ],
   "source": [
    "gtc['Baseline_How would you describe the condition of your mouth and teeth?'].unique()"
   ]
  },
  {
   "cell_type": "code",
   "execution_count": 11,
   "id": "4291558d",
   "metadata": {},
   "outputs": [
    {
     "data": {
      "text/plain": [
       "array([nan, 'Navigation to dental clinic for dental exam and treatment',\n",
       "       'Enrolled in Wisdom Tooth Project Workshop'], dtype=object)"
      ]
     },
     "execution_count": 11,
     "metadata": {},
     "output_type": "execute_result"
    }
   ],
   "source": [
    "gtc['CM_What is the outcome for the client?'].unique()"
   ]
  },
  {
   "cell_type": "code",
   "execution_count": 12,
   "id": "2e8c98d3",
   "metadata": {},
   "outputs": [
    {
     "data": {
      "text/plain": [
       "No     19382\n",
       "Yes     7823\n",
       "Name: TPlan_Is the treatment plan completed?, dtype: int64"
      ]
     },
     "execution_count": 12,
     "metadata": {},
     "output_type": "execute_result"
    }
   ],
   "source": [
    "gtc['TPlan_Is the treatment plan completed?'].value_counts()"
   ]
  },
  {
   "cell_type": "code",
   "execution_count": 13,
   "id": "ed7e5a8c",
   "metadata": {},
   "outputs": [
    {
     "data": {
      "text/plain": [
       "array([nan,\n",
       "       'Difficulty when biting or chewing foods; Experienced pain or discomfort',\n",
       "       'Difficulty when biting or chewing foods; Difficulty with speech or pronouncing words; Experienced pain or discomfort',\n",
       "       'Difficulty when biting or chewing foods; Difficulty with speech or pronouncing words; Avoided smiling',\n",
       "       'Felt anxiety; Avoided smiling',\n",
       "       'Difficulty when biting or chewing foods; Felt anxiety; Experienced pain or discomfort',\n",
       "       'Difficulty when biting or chewing foods; Difficulty with speech or pronouncing words; Dry mouth; Felt anxiety; Felt embarrassement; Avoided smiling',\n",
       "       'Difficulty when biting or chewing foods; Felt anxiety; Felt embarrassement; Avoided smiling; Experienced pain or discomfort',\n",
       "       'Difficulty when biting or chewing foods',\n",
       "       'Difficulty when biting or chewing foods; Difficulty with speech or pronouncing words; Dry mouth; Felt anxiety; Felt embarrassement; Avoided smiling; Experienced pain or discomfort',\n",
       "       'Difficulty when biting or chewing foods; Difficulty with speech or pronouncing words; Felt embarrassement; Avoided smiling; Experienced pain or discomfort',\n",
       "       'Difficulty when biting or chewing foods; Avoided smiling; Experienced pain or discomfort',\n",
       "       'Difficulty when biting or chewing foods; Avoided smiling',\n",
       "       'Experienced pain or discomfort',\n",
       "       'Difficulty when biting or chewing foods; Difficulty with speech or pronouncing words; Felt anxiety; Experienced pain or discomfort',\n",
       "       'Difficulty when biting or chewing foods; Difficulty with speech or pronouncing words; Felt anxiety; Felt embarrassement; Avoided smiling; Experienced pain or discomfort',\n",
       "       'Difficulty when biting or chewing foods; Felt embarrassement; Avoided smiling',\n",
       "       'Avoided smiling',\n",
       "       'Difficulty when biting or chewing foods; Difficulty with speech or pronouncing words; Felt anxiety; Felt embarrassement; Avoided smiling',\n",
       "       'Difficulty when biting or chewing foods; Dry mouth; Felt anxiety; Felt embarrassement',\n",
       "       'Felt anxiety; Avoided smiling; Experienced pain or discomfort',\n",
       "       'Difficulty when biting or chewing foods; Felt anxiety; Felt embarrassement; Experienced pain or discomfort',\n",
       "       'Difficulty when biting or chewing foods; Difficulty with speech or pronouncing words; Dry mouth; Felt anxiety; Felt embarrassement',\n",
       "       'Dry mouth', 'Dry mouth; Felt embarrassement',\n",
       "       'Felt embarrassement', 'Felt anxiety',\n",
       "       'Difficulty when biting or chewing foods; Dry mouth; Experienced pain or discomfort',\n",
       "       'Difficulty when biting or chewing foods; Difficulty with speech or pronouncing words',\n",
       "       'Difficulty when biting or chewing foods; Difficulty with speech or pronouncing words; Felt anxiety; Avoided smiling',\n",
       "       'Difficulty when biting or chewing foods; Felt embarrassement; Avoided smiling; Experienced pain or discomfort',\n",
       "       'Difficulty when biting or chewing foods; Difficulty with speech or pronouncing words; Dry mouth; Felt anxiety; Experienced pain or discomfort',\n",
       "       'Difficulty when biting or chewing foods; Felt embarrassement',\n",
       "       'Difficulty when biting or chewing foods; Difficulty with speech or pronouncing words; Avoided smiling; Experienced pain or discomfort',\n",
       "       'Difficulty when biting or chewing foods; Dry mouth',\n",
       "       'Difficulty when biting or chewing foods; Difficulty with speech or pronouncing words; Felt anxiety; Felt embarrassement; Experienced pain or discomfort',\n",
       "       'Difficulty when biting or chewing foods; Difficulty with speech or pronouncing words; Dry mouth; Felt embarrassement; Experienced pain or discomfort',\n",
       "       'Felt embarrassement; Avoided smiling; Experienced pain or discomfort',\n",
       "       'Felt embarrassement; Avoided smiling',\n",
       "       'Difficulty when biting or chewing foods; Difficulty with speech or pronouncing words; Dry mouth; Avoided smiling; Experienced pain or discomfort',\n",
       "       'Difficulty when biting or chewing foods; Difficulty with speech or pronouncing words; Dry mouth; Felt anxiety; Avoided smiling; Experienced pain or discomfort',\n",
       "       'Dry mouth; Experienced pain or discomfort',\n",
       "       'Difficulty with speech or pronouncing words; Felt anxiety; Felt embarrassement; Avoided smiling',\n",
       "       'Difficulty when biting or chewing foods; Difficulty with speech or pronouncing words; Dry mouth; Felt embarrassement; Avoided smiling; Experienced pain or discomfort',\n",
       "       'Dry mouth; Felt anxiety; Experienced pain or discomfort',\n",
       "       'Dry mouth; Felt embarrassement; Avoided smiling; Experienced pain or discomfort',\n",
       "       'Difficulty when biting or chewing foods; Difficulty with speech or pronouncing words; Dry mouth; Experienced pain or discomfort',\n",
       "       'Difficulty when biting or chewing foods; Dry mouth; Avoided smiling; Experienced pain or discomfort',\n",
       "       'Dry mouth; Felt anxiety',\n",
       "       'Difficulty when biting or chewing foods; Felt embarrassement; Experienced pain or discomfort',\n",
       "       'Felt embarrassement; Experienced pain or discomfort',\n",
       "       'Avoided smiling; Experienced pain or discomfort',\n",
       "       'Felt anxiety; Felt embarrassement; Avoided smiling',\n",
       "       'Difficulty with speech or pronouncing words; Dry mouth',\n",
       "       'Difficulty when biting or chewing foods; Dry mouth; Felt anxiety; Felt embarrassement; Avoided smiling; Experienced pain or discomfort',\n",
       "       'Difficulty with speech or pronouncing words',\n",
       "       'Difficulty with speech or pronouncing words; Avoided smiling',\n",
       "       'Difficulty when biting or chewing foods; Dry mouth; Felt anxiety; Felt embarrassement; Avoided smiling',\n",
       "       'Difficulty with speech or pronouncing words; Dry mouth; Felt anxiety; Felt embarrassement; Avoided smiling',\n",
       "       'Difficulty when biting or chewing foods; Dry mouth; Felt embarrassement',\n",
       "       'Dry mouth; Felt anxiety; Felt embarrassement; Avoided smiling',\n",
       "       'Felt anxiety; Felt embarrassement; Avoided smiling; Experienced pain or discomfort',\n",
       "       'Difficulty when biting or chewing foods; Difficulty with speech or pronouncing words; Felt embarrassement; Avoided smiling',\n",
       "       'Difficulty with speech or pronouncing words; Felt anxiety',\n",
       "       'Dry mouth; Felt anxiety; Felt embarrassement; Avoided smiling; Experienced pain or discomfort',\n",
       "       'Dry mouth; Avoided smiling',\n",
       "       'Difficulty with speech or pronouncing words; Felt embarrassement; Experienced pain or discomfort',\n",
       "       'Difficulty when biting or chewing foods; Dry mouth; Felt embarrassement; Avoided smiling; Experienced pain or discomfort',\n",
       "       'Difficulty with speech or pronouncing words; Dry mouth; Felt embarrassement; Avoided smiling',\n",
       "       'Felt anxiety; Felt embarrassement',\n",
       "       'Dry mouth; Felt anxiety; Avoided smiling',\n",
       "       'Difficulty when biting or chewing foods; Felt anxiety; Felt embarrassement',\n",
       "       'Difficulty with speech or pronouncing words; Felt anxiety; Avoided smiling',\n",
       "       'Difficulty when biting or chewing foods; Difficulty with speech or pronouncing words; Dry mouth',\n",
       "       'Difficulty when biting or chewing foods; Dry mouth; Felt anxiety; Felt embarrassement; Experienced pain or discomfort',\n",
       "       'Difficulty when biting or chewing foods; Dry mouth; Felt embarrassement; Avoided smiling',\n",
       "       'Difficulty with speech or pronouncing words; Felt anxiety; Felt embarrassement',\n",
       "       'Difficulty when biting or chewing foods; Difficulty with speech or pronouncing words; Dry mouth; Felt anxiety; Avoided smiling',\n",
       "       'Difficulty when biting or chewing foods; Dry mouth; Felt embarrassement; Experienced pain or discomfort',\n",
       "       'Difficulty when biting or chewing foods; Dry mouth; Avoided smiling',\n",
       "       'Difficulty when biting or chewing foods; Dry mouth; Felt anxiety; Experienced pain or discomfort',\n",
       "       'Difficulty when biting or chewing foods; Difficulty with speech or pronouncing words; Felt anxiety',\n",
       "       'Difficulty when biting or chewing foods; Felt anxiety; Felt embarrassement; Avoided smiling',\n",
       "       'Difficulty when biting or chewing foods; Dry mouth; Felt anxiety; Avoided smiling',\n",
       "       'Dry mouth; Felt embarrassement; Avoided smiling',\n",
       "       'Dry mouth; Felt embarrassement; Experienced pain or discomfort',\n",
       "       'Difficulty when biting or chewing foods; Felt anxiety',\n",
       "       'Difficulty when biting or chewing foods; Difficulty with speech or pronouncing words; Dry mouth; Felt embarrassement; Avoided smiling',\n",
       "       'Difficulty with speech or pronouncing words; Felt embarrassement; Avoided smiling',\n",
       "       'Difficulty when biting or chewing foods; Difficulty with speech or pronouncing words; Dry mouth; Felt anxiety',\n",
       "       'Dry mouth; Felt anxiety; Felt embarrassement',\n",
       "       'Dry mouth; Avoided smiling; Experienced pain or discomfort',\n",
       "       'Felt anxiety; Experienced pain or discomfort',\n",
       "       'Difficulty with speech or pronouncing words; Dry mouth; Felt embarrassement',\n",
       "       'Difficulty when biting or chewing foods; Dry mouth; Felt anxiety',\n",
       "       'Difficulty when biting or chewing foods; Difficulty with speech or pronouncing words; Dry mouth; Felt embarrassement',\n",
       "       'Dry mouth; Felt anxiety; Felt embarrassement; Experienced pain or discomfort',\n",
       "       'Difficulty when biting or chewing foods; Difficulty with speech or pronouncing words; Felt embarrassement',\n",
       "       'Difficulty with speech or pronouncing words; Felt anxiety; Felt embarrassement; Avoided smiling; Experienced pain or discomfort',\n",
       "       'Difficulty when biting or chewing foods; Difficulty with speech or pronouncing words; Dry mouth; Felt anxiety; Felt embarrassement; Experienced pain or discomfort',\n",
       "       'Difficulty when biting or chewing foods; Difficulty with speech or pronouncing words; Felt anxiety; Avoided smiling; Experienced pain or discomfort',\n",
       "       'Difficulty with speech or pronouncing words; Experienced pain or discomfort',\n",
       "       'Difficulty with speech or pronouncing words; Dry mouth; Felt embarrassement; Avoided smiling; Experienced pain or discomfort',\n",
       "       'Difficulty with speech or pronouncing words; Dry mouth; Experienced pain or discomfort',\n",
       "       'Difficulty with speech or pronouncing words; Dry mouth; Avoided smiling',\n",
       "       'Difficulty when biting or chewing foods; Felt anxiety; Avoided smiling',\n",
       "       'Difficulty with speech or pronouncing words; Dry mouth; Felt anxiety; Felt embarrassement',\n",
       "       'Dry mouth; Felt anxiety; Avoided smiling; Experienced pain or discomfort',\n",
       "       'Felt anxiety; Felt embarrassement; Experienced pain or discomfort',\n",
       "       'Difficulty with speech or pronouncing words; Dry mouth; Felt anxiety',\n",
       "       'Difficulty when biting or chewing foods; Felt anxiety; Avoided smiling; Experienced pain or discomfort',\n",
       "       'Difficulty when biting or chewing foods; Dry mouth; Felt anxiety; Avoided smiling; Experienced pain or discomfort',\n",
       "       'Difficulty with speech or pronouncing words; Felt embarrassement; Avoided smiling; Experienced pain or discomfort',\n",
       "       'Difficulty with speech or pronouncing words; Dry mouth; Felt anxiety; Experienced pain or discomfort',\n",
       "       'Difficulty with speech or pronouncing words; Felt anxiety; Experienced pain or discomfort',\n",
       "       'Difficulty with speech or pronouncing words; Dry mouth; Felt anxiety; Felt embarrassement; Avoided smiling; Experienced pain or discomfort',\n",
       "       'Difficulty when biting or chewing foods; Difficulty with speech or pronouncing words; Felt anxiety; Felt embarrassement',\n",
       "       'Difficulty when biting or chewing foods; Difficulty with speech or pronouncing words; Felt embarrassement; Experienced pain or discomfort',\n",
       "       'Difficulty with speech or pronouncing words; Avoided smiling; Experienced pain or discomfort',\n",
       "       'Difficulty when biting or chewing foods; Difficulty with speech or pronouncing words; Dry mouth; Avoided smiling',\n",
       "       'Difficulty with speech or pronouncing words; Dry mouth; Felt anxiety; Felt embarrassement; Experienced pain or discomfort',\n",
       "       'Difficulty with speech or pronouncing words; Dry mouth; Felt anxiety; Avoided smiling; Experienced pain or discomfort',\n",
       "       'Difficulty with speech or pronouncing words; Felt anxiety; Felt embarrassement; Experienced pain or discomfort',\n",
       "       'Difficulty with speech or pronouncing words; Dry mouth; Felt embarrassement; Experienced pain or discomfort',\n",
       "       'Difficulty with speech or pronouncing words; Felt anxiety; Avoided smiling; Experienced pain or discomfort',\n",
       "       'Difficulty with speech or pronouncing words; Dry mouth; Avoided smiling; Experienced pain or discomfort',\n",
       "       'Difficulty with speech or pronouncing words; Dry mouth; Felt anxiety; Avoided smiling'],\n",
       "      dtype=object)"
      ]
     },
     "execution_count": 13,
     "metadata": {},
     "output_type": "execute_result"
    }
   ],
   "source": [
    "gtc['Screen_Experienced any problems related to mouth/teeth during past 12 months?'].unique()"
   ]
  },
  {
   "cell_type": "code",
   "execution_count": 14,
   "id": "615c07b0",
   "metadata": {},
   "outputs": [
    {
     "data": {
      "text/plain": [
       "No     12260\n",
       "Yes     9794\n",
       "Name: TPlan_Was the enrollee able to be restored to function (can chew) and \"social six\" esthetics (top front six teeth are present and disease free), dtype: int64"
      ]
     },
     "execution_count": 14,
     "metadata": {},
     "output_type": "execute_result"
    }
   ],
   "source": [
    "gtc['TPlan_Was the enrollee able to be restored to function (can chew) and \"social six\" esthetics (top front six teeth are present and disease free)'].value_counts()"
   ]
  },
  {
   "cell_type": "code",
   "execution_count": 15,
   "id": "92a1167e",
   "metadata": {},
   "outputs": [
    {
     "data": {
      "text/plain": [
       "array([nan, 'Yes', 'No'], dtype=object)"
      ]
     },
     "execution_count": 15,
     "metadata": {},
     "output_type": "execute_result"
    }
   ],
   "source": [
    "gtc['Clinic_Was initial appointment made?'].unique()"
   ]
  },
  {
   "cell_type": "code",
   "execution_count": 16,
   "id": "030944a1",
   "metadata": {},
   "outputs": [
    {
     "data": {
      "text/plain": [
       "Yes    5614\n",
       "No       93\n",
       "Name: Clinic_Was initial appointment made?, dtype: int64"
      ]
     },
     "execution_count": 16,
     "metadata": {},
     "output_type": "execute_result"
    }
   ],
   "source": [
    "gtc['Clinic_Was initial appointment made?'].value_counts()\n"
   ]
  },
  {
   "cell_type": "code",
   "execution_count": 17,
   "id": "a5697124",
   "metadata": {},
   "outputs": [
    {
     "data": {
      "text/html": [
       "<div>\n",
       "<style scoped>\n",
       "    .dataframe tbody tr th:only-of-type {\n",
       "        vertical-align: middle;\n",
       "    }\n",
       "\n",
       "    .dataframe tbody tr th {\n",
       "        vertical-align: top;\n",
       "    }\n",
       "\n",
       "    .dataframe thead th {\n",
       "        text-align: right;\n",
       "    }\n",
       "</style>\n",
       "<table border=\"1\" class=\"dataframe\">\n",
       "  <thead>\n",
       "    <tr style=\"text-align: right;\">\n",
       "      <th></th>\n",
       "      <th>CallReportNum</th>\n",
       "      <th>CallerNum</th>\n",
       "    </tr>\n",
       "  </thead>\n",
       "  <tbody>\n",
       "    <tr>\n",
       "      <th>count</th>\n",
       "      <td>5.786000e+04</td>\n",
       "      <td>5.786000e+04</td>\n",
       "    </tr>\n",
       "    <tr>\n",
       "      <th>mean</th>\n",
       "      <td>7.417346e+07</td>\n",
       "      <td>3.080123e+06</td>\n",
       "    </tr>\n",
       "    <tr>\n",
       "      <th>std</th>\n",
       "      <td>1.086493e+07</td>\n",
       "      <td>5.901309e+05</td>\n",
       "    </tr>\n",
       "    <tr>\n",
       "      <th>min</th>\n",
       "      <td>5.319245e+07</td>\n",
       "      <td>-2.000000e+00</td>\n",
       "    </tr>\n",
       "    <tr>\n",
       "      <th>25%</th>\n",
       "      <td>6.541199e+07</td>\n",
       "      <td>2.633308e+06</td>\n",
       "    </tr>\n",
       "    <tr>\n",
       "      <th>50%</th>\n",
       "      <td>7.156906e+07</td>\n",
       "      <td>2.891609e+06</td>\n",
       "    </tr>\n",
       "    <tr>\n",
       "      <th>75%</th>\n",
       "      <td>8.423162e+07</td>\n",
       "      <td>3.496070e+06</td>\n",
       "    </tr>\n",
       "    <tr>\n",
       "      <th>max</th>\n",
       "      <td>9.350847e+07</td>\n",
       "      <td>4.581581e+06</td>\n",
       "    </tr>\n",
       "  </tbody>\n",
       "</table>\n",
       "</div>"
      ],
      "text/plain": [
       "       CallReportNum     CallerNum\n",
       "count   5.786000e+04  5.786000e+04\n",
       "mean    7.417346e+07  3.080123e+06\n",
       "std     1.086493e+07  5.901309e+05\n",
       "min     5.319245e+07 -2.000000e+00\n",
       "25%     6.541199e+07  2.633308e+06\n",
       "50%     7.156906e+07  2.891609e+06\n",
       "75%     8.423162e+07  3.496070e+06\n",
       "max     9.350847e+07  4.581581e+06"
      ]
     },
     "execution_count": 17,
     "metadata": {},
     "output_type": "execute_result"
    }
   ],
   "source": [
    "gtc.describe()"
   ]
  },
  {
   "cell_type": "markdown",
   "id": "5db07154",
   "metadata": {},
   "source": [
    "**Creating a filtered dataframe to show only the rows where a clinic appointment was made"
   ]
  },
  {
   "cell_type": "code",
   "execution_count": 18,
   "id": "b125f02c",
   "metadata": {},
   "outputs": [
    {
     "data": {
      "text/plain": [
       "(5614, 14)"
      ]
     },
     "execution_count": 18,
     "metadata": {},
     "output_type": "execute_result"
    }
   ],
   "source": [
    "filt_appt = (gtc['Clinic_Was initial appointment made?'] == 'Yes')\n",
    "gtc[filt_appt].shape # or gtc.loc[filt] or df.loc[filt, 'column_name']"
   ]
  },
  {
   "cell_type": "code",
   "execution_count": 19,
   "id": "fc15e7dc",
   "metadata": {},
   "outputs": [
    {
     "data": {
      "text/plain": [
       "(52246, 14)"
      ]
     },
     "execution_count": 19,
     "metadata": {},
     "output_type": "execute_result"
    }
   ],
   "source": [
    "gtc.loc[~filt_appt].shape #shows all row that do not meet filt_appt criteria, that is where a clinic appt was not made "
   ]
  },
  {
   "cell_type": "markdown",
   "id": "77c9374a",
   "metadata": {},
   "source": [
    "**Creating a filtered dataframe to show only the rows where a treatment plan was developed"
   ]
  },
  {
   "cell_type": "code",
   "execution_count": 20,
   "id": "8bb122c2",
   "metadata": {},
   "outputs": [
    {
     "data": {
      "text/plain": [
       "(24526, 14)"
      ]
     },
     "execution_count": 20,
     "metadata": {},
     "output_type": "execute_result"
    }
   ],
   "source": [
    "filt_tpd = (gtc['TPlan_Was a treatment plan developed?'] == 'Yes')\n",
    "gtc[filt_tpd].shape"
   ]
  },
  {
   "cell_type": "markdown",
   "id": "97879f96",
   "metadata": {},
   "source": [
    "**Creating a filtered dataframe to show only the rows where a treatment plan was completed"
   ]
  },
  {
   "cell_type": "code",
   "execution_count": 21,
   "id": "e1861dd4",
   "metadata": {},
   "outputs": [
    {
     "data": {
      "text/plain": [
       "(7823, 14)"
      ]
     },
     "execution_count": 21,
     "metadata": {},
     "output_type": "execute_result"
    }
   ],
   "source": [
    "filt_tpc = (gtc['TPlan_Is the treatment plan completed?'] == 'Yes')\n",
    "gtc[filt_tpc].shape"
   ]
  },
  {
   "cell_type": "code",
   "execution_count": 22,
   "id": "70442122",
   "metadata": {},
   "outputs": [],
   "source": [
    "#filt_combo = filt_appt & filt_tpd #& filt_tpc\n",
    "#filt_combo.shape"
   ]
  },
  {
   "cell_type": "code",
   "execution_count": 23,
   "id": "e3563f4a",
   "metadata": {},
   "outputs": [
    {
     "data": {
      "text/plain": [
       "49       Yes\n",
       "67       Yes\n",
       "71       Yes\n",
       "95       Yes\n",
       "115      Yes\n",
       "        ... \n",
       "57711     No\n",
       "57723    NaN\n",
       "57748    NaN\n",
       "57760    NaN\n",
       "57792    NaN\n",
       "Name: TPlan_Was a treatment plan developed?, Length: 5614, dtype: object"
      ]
     },
     "execution_count": 23,
     "metadata": {},
     "output_type": "execute_result"
    }
   ],
   "source": [
    "gtc.loc[filt_appt, 'TPlan_Was a treatment plan developed?']"
   ]
  },
  {
   "cell_type": "markdown",
   "id": "8ed07b29",
   "metadata": {},
   "source": [
    "**Creating a filtered dataframe to show only the rows where both an appointment was made and a treatment plan was developed"
   ]
  },
  {
   "cell_type": "code",
   "execution_count": 24,
   "id": "1358789b",
   "metadata": {},
   "outputs": [
    {
     "data": {
      "text/plain": [
       "False    53179\n",
       "True      4681\n",
       "dtype: int64"
      ]
     },
     "execution_count": 24,
     "metadata": {},
     "output_type": "execute_result"
    }
   ],
   "source": [
    "filt_appt_tpd = (gtc['Clinic_Was initial appointment made?'] == 'Yes') & (gtc['TPlan_Was a treatment plan developed?'] == 'Yes')\n",
    "filt_appt_tpd.value_counts()"
   ]
  },
  {
   "cell_type": "markdown",
   "id": "3d64cc4f",
   "metadata": {},
   "source": [
    "**Creating a filtered dataframe to show only the rows where:\n",
    "    1. an appointment was made 2. a treatment plan was developed and 3. a treatment plan was completed"
   ]
  },
  {
   "cell_type": "code",
   "execution_count": 25,
   "id": "ef25d94f",
   "metadata": {},
   "outputs": [
    {
     "data": {
      "text/plain": [
       "False    57175\n",
       "True       685\n",
       "dtype: int64"
      ]
     },
     "execution_count": 25,
     "metadata": {},
     "output_type": "execute_result"
    }
   ],
   "source": [
    "filt_appt_tpd_tpc= (gtc['Clinic_Was initial appointment made?'] == 'Yes') & (gtc['TPlan_Was a treatment plan developed?'] == 'Yes') & (gtc['TPlan_Is the treatment plan completed?'] == 'Yes')\n",
    "filt_appt_tpd_tpc.value_counts()"
   ]
  },
  {
   "cell_type": "code",
   "execution_count": 31,
   "id": "bcb3e236",
   "metadata": {},
   "outputs": [
    {
     "data": {
      "image/png": "[encoded data removed]",
      "text/plain": [
       "<Figure size 432x288 with 1 Axes>"
      ]
     },
     "metadata": {},
     "output_type": "display_data"
    }
   ],
   "source": [
    "from matplotlib import pyplot as plt\n",
    "plt.xkcd()\n",
    "plt.plot(filt_appt, label='Appt. Made')\n",
    "plt.plot(filt_appt_tpd, label='Treatment Plan Developed')\n",
    "plt.plot(filt_appt_tpd_tpc, color='#444444', linestyle='--', label='Treatment Plan Completed')\n",
    "plt.xlabel('Count')\n",
    "\n",
    "plt.title('Treatment Course')\n",
    "\n",
    "plt.legend()\n",
    "\n",
    "plt.tight_layout()\n",
    "\n",
    "\n",
    "\n",
    "plt.show()\n"
   ]
  },
  {
   "cell_type": "markdown",
   "id": "fa344f94",
   "metadata": {},
   "source": [
    "**To review selected columns (TPlan_Was a treatment plan developed?, TPlan_Is the treatment plan completed?) of the filltered dataframe filt_appt"
   ]
  },
  {
   "cell_type": "code",
   "execution_count": 32,
   "id": "bee20722",
   "metadata": {},
   "outputs": [
    {
     "data": {
      "text/html": [
       "<div>\n",
       "<style scoped>\n",
       "    .dataframe tbody tr th:only-of-type {\n",
       "        vertical-align: middle;\n",
       "    }\n",
       "\n",
       "    .dataframe tbody tr th {\n",
       "        vertical-align: top;\n",
       "    }\n",
       "\n",
       "    .dataframe thead th {\n",
       "        text-align: right;\n",
       "    }\n",
       "</style>\n",
       "<table border=\"1\" class=\"dataframe\">\n",
       "  <thead>\n",
       "    <tr style=\"text-align: right;\">\n",
       "      <th></th>\n",
       "      <th>TPlan_Was a treatment plan developed?</th>\n",
       "      <th>TPlan_Is the treatment plan completed?</th>\n",
       "    </tr>\n",
       "  </thead>\n",
       "  <tbody>\n",
       "    <tr>\n",
       "      <th>49</th>\n",
       "      <td>Yes</td>\n",
       "      <td>Yes</td>\n",
       "    </tr>\n",
       "    <tr>\n",
       "      <th>95</th>\n",
       "      <td>Yes</td>\n",
       "      <td>Yes</td>\n",
       "    </tr>\n",
       "    <tr>\n",
       "      <th>158</th>\n",
       "      <td>Yes</td>\n",
       "      <td>Yes</td>\n",
       "    </tr>\n",
       "    <tr>\n",
       "      <th>172</th>\n",
       "      <td>Yes</td>\n",
       "      <td>Yes</td>\n",
       "    </tr>\n",
       "    <tr>\n",
       "      <th>298</th>\n",
       "      <td>Yes</td>\n",
       "      <td>Yes</td>\n",
       "    </tr>\n",
       "    <tr>\n",
       "      <th>...</th>\n",
       "      <td>...</td>\n",
       "      <td>...</td>\n",
       "    </tr>\n",
       "    <tr>\n",
       "      <th>56372</th>\n",
       "      <td>Yes</td>\n",
       "      <td>Yes</td>\n",
       "    </tr>\n",
       "    <tr>\n",
       "      <th>56682</th>\n",
       "      <td>Yes</td>\n",
       "      <td>Yes</td>\n",
       "    </tr>\n",
       "    <tr>\n",
       "      <th>56693</th>\n",
       "      <td>Yes</td>\n",
       "      <td>Yes</td>\n",
       "    </tr>\n",
       "    <tr>\n",
       "      <th>56751</th>\n",
       "      <td>Yes</td>\n",
       "      <td>Yes</td>\n",
       "    </tr>\n",
       "    <tr>\n",
       "      <th>57595</th>\n",
       "      <td>Yes</td>\n",
       "      <td>Yes</td>\n",
       "    </tr>\n",
       "  </tbody>\n",
       "</table>\n",
       "<p>685 rows × 2 columns</p>\n",
       "</div>"
      ],
      "text/plain": [
       "      TPlan_Was a treatment plan developed?  \\\n",
       "49                                      Yes   \n",
       "95                                      Yes   \n",
       "158                                     Yes   \n",
       "172                                     Yes   \n",
       "298                                     Yes   \n",
       "...                                     ...   \n",
       "56372                                   Yes   \n",
       "56682                                   Yes   \n",
       "56693                                   Yes   \n",
       "56751                                   Yes   \n",
       "57595                                   Yes   \n",
       "\n",
       "      TPlan_Is the treatment plan completed?  \n",
       "49                                       Yes  \n",
       "95                                       Yes  \n",
       "158                                      Yes  \n",
       "172                                      Yes  \n",
       "298                                      Yes  \n",
       "...                                      ...  \n",
       "56372                                    Yes  \n",
       "56682                                    Yes  \n",
       "56693                                    Yes  \n",
       "56751                                    Yes  \n",
       "57595                                    Yes  \n",
       "\n",
       "[685 rows x 2 columns]"
      ]
     },
     "execution_count": 32,
     "metadata": {},
     "output_type": "execute_result"
    }
   ],
   "source": [
    "gtc.loc[filt_appt_tpd_tpc, ['TPlan_Was a treatment plan developed?', 'TPlan_Is the treatment plan completed?']]"
   ]
  },
  {
   "cell_type": "markdown",
   "id": "4b94b1cc",
   "metadata": {},
   "source": [
    "**Creating a new variabe to extract only 'Poor and  'Don't know' responses about the condition of mouth and teeth?"
   ]
  },
  {
   "cell_type": "code",
   "execution_count": null,
   "id": "ee6ba50d",
   "metadata": {},
   "outputs": [],
   "source": [
    "#pivot_filt_appt_tpd_tpc = pd.pivot_table (data=filt_appt_tpd_tpc, index= ['CallerNum', 'CM_What is the outcome for the client?'])\n",
    "#pivot_filt_appt_tpd_tpc.head(2)"
   ]
  },
  {
   "cell_type": "code",
   "execution_count": 62,
   "id": "b4dbc9e2",
   "metadata": {},
   "outputs": [],
   "source": [
    "baseline = ('Poor', 'Dont know')"
   ]
  },
  {
   "cell_type": "code",
   "execution_count": 63,
   "id": "de174a8e",
   "metadata": {},
   "outputs": [
    {
     "data": {
      "text/plain": [
       "0         True\n",
       "1         True\n",
       "2        False\n",
       "3        False\n",
       "4         True\n",
       "         ...  \n",
       "57855    False\n",
       "57856     True\n",
       "57857    False\n",
       "57858    False\n",
       "57859     True\n",
       "Name: Baseline_How would you describe the condition of your mouth and teeth?, Length: 57860, dtype: bool"
      ]
     },
     "execution_count": 63,
     "metadata": {},
     "output_type": "execute_result"
    }
   ],
   "source": [
    "filt_baseline = gtc['Baseline_How would you describe the condition of your mouth and teeth?'].isin(baseline)\n",
    "filt_baseline"
   ]
  },
  {
   "cell_type": "code",
   "execution_count": 64,
   "id": "6bc286e0",
   "metadata": {
    "scrolled": true
   },
   "outputs": [
    {
     "data": {
      "text/plain": [
       "0             Poor\n",
       "1             Poor\n",
       "4             Poor\n",
       "5        Dont know\n",
       "6             Poor\n",
       "           ...    \n",
       "57842    Dont know\n",
       "57846    Dont know\n",
       "57851         Poor\n",
       "57856         Poor\n",
       "57859         Poor\n",
       "Name: Baseline_How would you describe the condition of your mouth and teeth?, Length: 25575, dtype: object"
      ]
     },
     "execution_count": 64,
     "metadata": {},
     "output_type": "execute_result"
    }
   ],
   "source": [
    "gtc.loc[filt_baseline, 'Baseline_How would you describe the condition of your mouth and teeth?']"
   ]
  },
  {
   "cell_type": "code",
   "execution_count": 69,
   "id": "c22aed79",
   "metadata": {},
   "outputs": [
    {
     "data": {
      "text/plain": [
       "False    57666\n",
       "True       194\n",
       "dtype: int64"
      ]
     },
     "execution_count": 69,
     "metadata": {},
     "output_type": "execute_result"
    }
   ],
   "source": [
    "filt_appt_tpd_tpc_bl= (gtc['Clinic_Was initial appointment made?'] == 'Yes') & (gtc['TPlan_Was a treatment plan developed?'] == 'Yes') & (gtc['TPlan_Is the treatment plan completed?'] == 'Yes') & filt_baseline\n",
    "filt_appt_tpd_tpc_bl.value_counts()"
   ]
  },
  {
   "cell_type": "code",
   "execution_count": 68,
   "id": "cb74db0c",
   "metadata": {},
   "outputs": [
    {
     "data": {
      "text/plain": [
       "[0        False\n",
       " 1        False\n",
       " 2        False\n",
       " 3        False\n",
       " 4        False\n",
       "          ...  \n",
       " 57855    False\n",
       " 57856    False\n",
       " 57857    False\n",
       " 57858    False\n",
       " 57859    False\n",
       " Length: 57860, dtype: bool,\n",
       " 0         True\n",
       " 1         True\n",
       " 2        False\n",
       " 3        False\n",
       " 4         True\n",
       "          ...  \n",
       " 57855    False\n",
       " 57856     True\n",
       " 57857    False\n",
       " 57858    False\n",
       " 57859     True\n",
       " Name: Baseline_How would you describe the condition of your mouth and teeth?, Length: 57860, dtype: bool]"
      ]
     },
     "execution_count": 68,
     "metadata": {},
     "output_type": "execute_result"
    }
   ],
   "source": [
    "filt_appt_tpd_tpc_bl=[filt_appt_tpd_tpc, filt_baseline]\n",
    "filt_appt_tpd_tpc_bl"
   ]
  },
  {
   "cell_type": "code",
   "execution_count": null,
   "id": "b14ec64e",
   "metadata": {},
   "outputs": [],
   "source": [
    "#gtc.loc[baseline1, 'Baseline_How would you describe the condition of your mouth and teeth?']"
   ]
  },
  {
   "cell_type": "code",
   "execution_count": null,
   "id": "c553357a",
   "metadata": {},
   "outputs": [],
   "source": [
    "#filt_appt_tpd_tpc.loc[filt_baseline, 'Baseline_How would you describe the condition of your mouth and teeth?']"
   ]
  },
  {
   "cell_type": "code",
   "execution_count": null,
   "id": "cc5aaad0",
   "metadata": {},
   "outputs": [],
   "source": [
    "pivot_gtc = pd.pivot_table (data=gtc, index=['CallerNum', 'CM_What is the outcome for the client?'])\n",
    "pivot_gtc.head(2)"
   ]
  },
  {
   "cell_type": "code",
   "execution_count": null,
   "id": "29bca6d0",
   "metadata": {},
   "outputs": [],
   "source": []
  }
 ],
 "metadata": {
  "kernelspec": {
   "display_name": "Python 3",
   "language": "python",
   "name": "python3"
  },
  "language_info": {
   "codemirror_mode": {
    "name": "ipython",
    "version": 3
   },
   "file_extension": ".py",
   "mimetype": "text/x-python",
   "name": "python",
   "nbconvert_exporter": "python",
   "pygments_lexer": "ipython3",
   "version": "3.8.8"
  }
 },
 "nbformat": 4,
 "nbformat_minor": 5
}
