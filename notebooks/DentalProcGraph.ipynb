{
 "cells": [
  {
   "cell_type": "code",
   "execution_count": 29,
   "id": "eb9242d3",
   "metadata": {},
   "outputs": [],
   "source": [
    "import pandas as pd\n",
    "import matplotlib.pyplot as plt"
   ]
  },
  {
   "cell_type": "code",
   "execution_count": 30,
   "id": "3c5d7d9e",
   "metadata": {},
   "outputs": [],
   "source": [
    "df = pd.read_csv(r'C:\\Users\\jojuk\\Documents\\git\\projects\\smile-on-get_tootha_choppa\\data\\procedures.csv')"
   ]
  },
  {
   "cell_type": "code",
   "execution_count": 31,
   "id": "7471b70a",
   "metadata": {},
   "outputs": [
    {
     "name": "stdout",
     "output_type": "stream",
     "text": [
      "    ProcedureCode  Count    ProcedureType  Unnamed: 3\n",
      "0   OralCare_1351     12  Cavity_Sealants         NaN\n",
      "1   OralCare_1354    892  Cavity_Sealants         NaN\n",
      "2   OralCare_2140     50      Restorative         NaN\n",
      "3   OralCare_2150    104      Restorative         NaN\n",
      "4   OralCare_2160     46      Restorative         NaN\n",
      "5   OralCare_2161     10      Restorative         NaN\n",
      "6    OralCare_230   1337             XRay         NaN\n",
      "7   OralCare_2330    944      Restorative         NaN\n",
      "8   OralCare_2331    940      Restorative         NaN\n",
      "9   OralCare_2332    579      Restorative         NaN\n",
      "10  OralCare_2335    428      Restorative         NaN\n",
      "11  OralCare_2390      8      Restorative         NaN\n",
      "12  OralCare_2391   1226      Restorative         NaN\n",
      "13  OralCare_2392   1341      Restorative         NaN\n",
      "14  OralCare_2393    635      Restorative         NaN\n",
      "15  OralCare_2394    171      Restorative         NaN\n",
      "16  OralCare_2915      2      Restorative         NaN\n",
      "17  OralCare_2920    134      Restorative         NaN\n",
      "18  OralCare_2933     19      Restorative         NaN\n",
      "19  OralCare_2940     74      Restorative         NaN\n",
      "20  OralCare_2950    337      Restorative         NaN\n",
      "21  OralCare_2954     15      Restorative         NaN\n",
      "22  OralCare_2980      3      Restorative         NaN\n",
      "23  OralCare_3220      7      Kids Dental         NaN\n",
      "24  OralCare_4341   1396     Non-Surgical         NaN\n",
      "25  OralCare_4342    579     Non-Surgical         NaN\n",
      "26  OralCare_6930     12   Denture Repair         NaN\n",
      "27  OralCare_6980      2   Denture Repair         NaN\n",
      "28  OralCare_7111      9     Oral Surgery         NaN\n",
      "29  OralCare_7140   4979     Oral Surgery         NaN\n",
      "30  OralCare_7210    819     Oral Surgery         NaN\n",
      "31  OralCare_7220      5     Oral Surgery         NaN\n",
      "32  OralCare_7230      6     Oral Surgery         NaN\n",
      "33  OralCare_7240     19     Oral Surgery         NaN\n",
      "34  OralCare_7241      3     Oral Surgery         NaN\n",
      "35  OralCare_7250    486     Oral Surgery         NaN\n",
      "36  OralCare_7261      1     Oral Surgery         NaN\n",
      "37  OralCare_7286     68     Oral Surgery         NaN\n",
      "38  OralCare_7310    225     Oral Surgery         NaN\n",
      "39  OralCare_7311     30     Oral Surgery         NaN\n",
      "40  OralCare_7320    100     Oral Surgery         NaN\n",
      "41  OralCare_7321     80     Oral Surgery         NaN\n",
      "42  OralCare_7410     16     Oral Surgery         NaN\n",
      "43  OralCare_7411      1     Oral Surgery         NaN\n",
      "44  OralCare_7471      4     Oral Surgery         NaN\n",
      "45  OralCare_7510     12     Oral Surgery         NaN\n",
      "46  OralCare_7971      2     Oral Surgery         NaN\n",
      "47  OralCare_7972      1     Oral Surgery         NaN\n",
      "48  OralCare_9110     26            Other         NaN\n",
      "49  OralCare_9951     83            Other         NaN\n"
     ]
    }
   ],
   "source": [
    "print (df)"
   ]
  },
  {
   "cell_type": "code",
   "execution_count": 33,
   "id": "33b55fb6",
   "metadata": {},
   "outputs": [],
   "source": [
    "df = df.sort_values('ProcedureType')"
   ]
  },
  {
   "cell_type": "code",
   "execution_count": 37,
   "id": "7b2f5e02",
   "metadata": {},
   "outputs": [
    {
     "data": {
      "image/png": "[encoded data removed]",
      "text/plain": [
       "<Figure size 1080x576 with 1 Axes>"
      ]
     },
     "metadata": {
      "needs_background": "light"
     },
     "output_type": "display_data"
    }
   ],
   "source": [
    "df.pivot( columns='ProcedureType', values = 'Count').plot(kind='bar',figsize=(15,8))\n",
    "plt.xlabel('Procedure Code')\n",
    "plt.ylabel('Number of Procedures')\n",
    "plt.title('Total Procedures, May 2018 to Sept 2021')\n",
    "plt.legend(loc='upper right')\n",
    "plt.show()"
   ]
  },
  {
   "cell_type": "code",
   "execution_count": 40,
   "id": "30185e01",
   "metadata": {},
   "outputs": [
    {
     "data": {
      "text/html": [
       "<div>\n",
       "<style scoped>\n",
       "    .dataframe tbody tr th:only-of-type {\n",
       "        vertical-align: middle;\n",
       "    }\n",
       "\n",
       "    .dataframe tbody tr th {\n",
       "        vertical-align: top;\n",
       "    }\n",
       "\n",
       "    .dataframe thead th {\n",
       "        text-align: right;\n",
       "    }\n",
       "</style>\n",
       "<table border=\"1\" class=\"dataframe\">\n",
       "  <thead>\n",
       "    <tr style=\"text-align: right;\">\n",
       "      <th>ProcedureCode</th>\n",
       "      <th>OralCare_1351</th>\n",
       "      <th>OralCare_1354</th>\n",
       "      <th>OralCare_2140</th>\n",
       "      <th>OralCare_2150</th>\n",
       "      <th>OralCare_2160</th>\n",
       "      <th>OralCare_2161</th>\n",
       "      <th>OralCare_230</th>\n",
       "      <th>OralCare_2330</th>\n",
       "      <th>OralCare_2331</th>\n",
       "      <th>OralCare_2332</th>\n",
       "      <th>...</th>\n",
       "      <th>OralCare_7320</th>\n",
       "      <th>OralCare_7321</th>\n",
       "      <th>OralCare_7410</th>\n",
       "      <th>OralCare_7411</th>\n",
       "      <th>OralCare_7471</th>\n",
       "      <th>OralCare_7510</th>\n",
       "      <th>OralCare_7971</th>\n",
       "      <th>OralCare_7972</th>\n",
       "      <th>OralCare_9110</th>\n",
       "      <th>OralCare_9951</th>\n",
       "    </tr>\n",
       "    <tr>\n",
       "      <th>ProcedureType</th>\n",
       "      <th></th>\n",
       "      <th></th>\n",
       "      <th></th>\n",
       "      <th></th>\n",
       "      <th></th>\n",
       "      <th></th>\n",
       "      <th></th>\n",
       "      <th></th>\n",
       "      <th></th>\n",
       "      <th></th>\n",
       "      <th></th>\n",
       "      <th></th>\n",
       "      <th></th>\n",
       "      <th></th>\n",
       "      <th></th>\n",
       "      <th></th>\n",
       "      <th></th>\n",
       "      <th></th>\n",
       "      <th></th>\n",
       "      <th></th>\n",
       "      <th></th>\n",
       "    </tr>\n",
       "  </thead>\n",
       "  <tbody>\n",
       "    <tr>\n",
       "      <th>Cavity_Sealants</th>\n",
       "      <td>12.0</td>\n",
       "      <td>892.0</td>\n",
       "      <td>NaN</td>\n",
       "      <td>NaN</td>\n",
       "      <td>NaN</td>\n",
       "      <td>NaN</td>\n",
       "      <td>NaN</td>\n",
       "      <td>NaN</td>\n",
       "      <td>NaN</td>\n",
       "      <td>NaN</td>\n",
       "      <td>...</td>\n",
       "      <td>NaN</td>\n",
       "      <td>NaN</td>\n",
       "      <td>NaN</td>\n",
       "      <td>NaN</td>\n",
       "      <td>NaN</td>\n",
       "      <td>NaN</td>\n",
       "      <td>NaN</td>\n",
       "      <td>NaN</td>\n",
       "      <td>NaN</td>\n",
       "      <td>NaN</td>\n",
       "    </tr>\n",
       "    <tr>\n",
       "      <th>Denture Repair</th>\n",
       "      <td>NaN</td>\n",
       "      <td>NaN</td>\n",
       "      <td>NaN</td>\n",
       "      <td>NaN</td>\n",
       "      <td>NaN</td>\n",
       "      <td>NaN</td>\n",
       "      <td>NaN</td>\n",
       "      <td>NaN</td>\n",
       "      <td>NaN</td>\n",
       "      <td>NaN</td>\n",
       "      <td>...</td>\n",
       "      <td>NaN</td>\n",
       "      <td>NaN</td>\n",
       "      <td>NaN</td>\n",
       "      <td>NaN</td>\n",
       "      <td>NaN</td>\n",
       "      <td>NaN</td>\n",
       "      <td>NaN</td>\n",
       "      <td>NaN</td>\n",
       "      <td>NaN</td>\n",
       "      <td>NaN</td>\n",
       "    </tr>\n",
       "    <tr>\n",
       "      <th>Kids Dental</th>\n",
       "      <td>NaN</td>\n",
       "      <td>NaN</td>\n",
       "      <td>NaN</td>\n",
       "      <td>NaN</td>\n",
       "      <td>NaN</td>\n",
       "      <td>NaN</td>\n",
       "      <td>NaN</td>\n",
       "      <td>NaN</td>\n",
       "      <td>NaN</td>\n",
       "      <td>NaN</td>\n",
       "      <td>...</td>\n",
       "      <td>NaN</td>\n",
       "      <td>NaN</td>\n",
       "      <td>NaN</td>\n",
       "      <td>NaN</td>\n",
       "      <td>NaN</td>\n",
       "      <td>NaN</td>\n",
       "      <td>NaN</td>\n",
       "      <td>NaN</td>\n",
       "      <td>NaN</td>\n",
       "      <td>NaN</td>\n",
       "    </tr>\n",
       "    <tr>\n",
       "      <th>Non-Surgical</th>\n",
       "      <td>NaN</td>\n",
       "      <td>NaN</td>\n",
       "      <td>NaN</td>\n",
       "      <td>NaN</td>\n",
       "      <td>NaN</td>\n",
       "      <td>NaN</td>\n",
       "      <td>NaN</td>\n",
       "      <td>NaN</td>\n",
       "      <td>NaN</td>\n",
       "      <td>NaN</td>\n",
       "      <td>...</td>\n",
       "      <td>NaN</td>\n",
       "      <td>NaN</td>\n",
       "      <td>NaN</td>\n",
       "      <td>NaN</td>\n",
       "      <td>NaN</td>\n",
       "      <td>NaN</td>\n",
       "      <td>NaN</td>\n",
       "      <td>NaN</td>\n",
       "      <td>NaN</td>\n",
       "      <td>NaN</td>\n",
       "    </tr>\n",
       "    <tr>\n",
       "      <th>Oral Surgery</th>\n",
       "      <td>NaN</td>\n",
       "      <td>NaN</td>\n",
       "      <td>NaN</td>\n",
       "      <td>NaN</td>\n",
       "      <td>NaN</td>\n",
       "      <td>NaN</td>\n",
       "      <td>NaN</td>\n",
       "      <td>NaN</td>\n",
       "      <td>NaN</td>\n",
       "      <td>NaN</td>\n",
       "      <td>...</td>\n",
       "      <td>100.0</td>\n",
       "      <td>80.0</td>\n",
       "      <td>16.0</td>\n",
       "      <td>1.0</td>\n",
       "      <td>4.0</td>\n",
       "      <td>12.0</td>\n",
       "      <td>2.0</td>\n",
       "      <td>1.0</td>\n",
       "      <td>NaN</td>\n",
       "      <td>NaN</td>\n",
       "    </tr>\n",
       "    <tr>\n",
       "      <th>Other</th>\n",
       "      <td>NaN</td>\n",
       "      <td>NaN</td>\n",
       "      <td>NaN</td>\n",
       "      <td>NaN</td>\n",
       "      <td>NaN</td>\n",
       "      <td>NaN</td>\n",
       "      <td>NaN</td>\n",
       "      <td>NaN</td>\n",
       "      <td>NaN</td>\n",
       "      <td>NaN</td>\n",
       "      <td>...</td>\n",
       "      <td>NaN</td>\n",
       "      <td>NaN</td>\n",
       "      <td>NaN</td>\n",
       "      <td>NaN</td>\n",
       "      <td>NaN</td>\n",
       "      <td>NaN</td>\n",
       "      <td>NaN</td>\n",
       "      <td>NaN</td>\n",
       "      <td>26.0</td>\n",
       "      <td>83.0</td>\n",
       "    </tr>\n",
       "    <tr>\n",
       "      <th>Restorative</th>\n",
       "      <td>NaN</td>\n",
       "      <td>NaN</td>\n",
       "      <td>50.0</td>\n",
       "      <td>104.0</td>\n",
       "      <td>46.0</td>\n",
       "      <td>10.0</td>\n",
       "      <td>NaN</td>\n",
       "      <td>944.0</td>\n",
       "      <td>940.0</td>\n",
       "      <td>579.0</td>\n",
       "      <td>...</td>\n",
       "      <td>NaN</td>\n",
       "      <td>NaN</td>\n",
       "      <td>NaN</td>\n",
       "      <td>NaN</td>\n",
       "      <td>NaN</td>\n",
       "      <td>NaN</td>\n",
       "      <td>NaN</td>\n",
       "      <td>NaN</td>\n",
       "      <td>NaN</td>\n",
       "      <td>NaN</td>\n",
       "    </tr>\n",
       "    <tr>\n",
       "      <th>XRay</th>\n",
       "      <td>NaN</td>\n",
       "      <td>NaN</td>\n",
       "      <td>NaN</td>\n",
       "      <td>NaN</td>\n",
       "      <td>NaN</td>\n",
       "      <td>NaN</td>\n",
       "      <td>1337.0</td>\n",
       "      <td>NaN</td>\n",
       "      <td>NaN</td>\n",
       "      <td>NaN</td>\n",
       "      <td>...</td>\n",
       "      <td>NaN</td>\n",
       "      <td>NaN</td>\n",
       "      <td>NaN</td>\n",
       "      <td>NaN</td>\n",
       "      <td>NaN</td>\n",
       "      <td>NaN</td>\n",
       "      <td>NaN</td>\n",
       "      <td>NaN</td>\n",
       "      <td>NaN</td>\n",
       "      <td>NaN</td>\n",
       "    </tr>\n",
       "  </tbody>\n",
       "</table>\n",
       "<p>8 rows × 50 columns</p>\n",
       "</div>"
      ],
      "text/plain": [
       "ProcedureCode    OralCare_1351  OralCare_1354  OralCare_2140  OralCare_2150  \\\n",
       "ProcedureType                                                                 \n",
       "Cavity_Sealants           12.0          892.0            NaN            NaN   \n",
       "Denture Repair             NaN            NaN            NaN            NaN   \n",
       "Kids Dental                NaN            NaN            NaN            NaN   \n",
       "Non-Surgical               NaN            NaN            NaN            NaN   \n",
       "Oral Surgery               NaN            NaN            NaN            NaN   \n",
       "Other                      NaN            NaN            NaN            NaN   \n",
       "Restorative                NaN            NaN           50.0          104.0   \n",
       "XRay                       NaN            NaN            NaN            NaN   \n",
       "\n",
       "ProcedureCode    OralCare_2160  OralCare_2161  OralCare_230  OralCare_2330  \\\n",
       "ProcedureType                                                                \n",
       "Cavity_Sealants            NaN            NaN           NaN            NaN   \n",
       "Denture Repair             NaN            NaN           NaN            NaN   \n",
       "Kids Dental                NaN            NaN           NaN            NaN   \n",
       "Non-Surgical               NaN            NaN           NaN            NaN   \n",
       "Oral Surgery               NaN            NaN           NaN            NaN   \n",
       "Other                      NaN            NaN           NaN            NaN   \n",
       "Restorative               46.0           10.0           NaN          944.0   \n",
       "XRay                       NaN            NaN        1337.0            NaN   \n",
       "\n",
       "ProcedureCode    OralCare_2331  OralCare_2332  ...  OralCare_7320  \\\n",
       "ProcedureType                                  ...                  \n",
       "Cavity_Sealants            NaN            NaN  ...            NaN   \n",
       "Denture Repair             NaN            NaN  ...            NaN   \n",
       "Kids Dental                NaN            NaN  ...            NaN   \n",
       "Non-Surgical               NaN            NaN  ...            NaN   \n",
       "Oral Surgery               NaN            NaN  ...          100.0   \n",
       "Other                      NaN            NaN  ...            NaN   \n",
       "Restorative              940.0          579.0  ...            NaN   \n",
       "XRay                       NaN            NaN  ...            NaN   \n",
       "\n",
       "ProcedureCode    OralCare_7321  OralCare_7410  OralCare_7411  OralCare_7471  \\\n",
       "ProcedureType                                                                 \n",
       "Cavity_Sealants            NaN            NaN            NaN            NaN   \n",
       "Denture Repair             NaN            NaN            NaN            NaN   \n",
       "Kids Dental                NaN            NaN            NaN            NaN   \n",
       "Non-Surgical               NaN            NaN            NaN            NaN   \n",
       "Oral Surgery              80.0           16.0            1.0            4.0   \n",
       "Other                      NaN            NaN            NaN            NaN   \n",
       "Restorative                NaN            NaN            NaN            NaN   \n",
       "XRay                       NaN            NaN            NaN            NaN   \n",
       "\n",
       "ProcedureCode    OralCare_7510  OralCare_7971  OralCare_7972  OralCare_9110  \\\n",
       "ProcedureType                                                                 \n",
       "Cavity_Sealants            NaN            NaN            NaN            NaN   \n",
       "Denture Repair             NaN            NaN            NaN            NaN   \n",
       "Kids Dental                NaN            NaN            NaN            NaN   \n",
       "Non-Surgical               NaN            NaN            NaN            NaN   \n",
       "Oral Surgery              12.0            2.0            1.0            NaN   \n",
       "Other                      NaN            NaN            NaN           26.0   \n",
       "Restorative                NaN            NaN            NaN            NaN   \n",
       "XRay                       NaN            NaN            NaN            NaN   \n",
       "\n",
       "ProcedureCode    OralCare_9951  \n",
       "ProcedureType                   \n",
       "Cavity_Sealants            NaN  \n",
       "Denture Repair             NaN  \n",
       "Kids Dental                NaN  \n",
       "Non-Surgical               NaN  \n",
       "Oral Surgery               NaN  \n",
       "Other                     83.0  \n",
       "Restorative                NaN  \n",
       "XRay                       NaN  \n",
       "\n",
       "[8 rows x 50 columns]"
      ]
     },
     "execution_count": 40,
     "metadata": {},
     "output_type": "execute_result"
    }
   ],
   "source": [
    "import numpy as np\n",
    "table = pd.pivot_table(df, values='Count', index=['ProcedureType'],\n",
    "                    columns=['ProcedureCode'], aggfunc=np.sum)\n",
    "table"
   ]
  },
  {
   "cell_type": "code",
   "execution_count": 83,
   "id": "b48a7ea5",
   "metadata": {},
   "outputs": [
    {
     "ename": "TypeError",
     "evalue": "bar() missing 2 required positional arguments: 'x' and 'height'",
     "output_type": "error",
     "traceback": [
      "\u001b[1;31m---------------------------------------------------------------------------\u001b[0m",
      "\u001b[1;31mTypeError\u001b[0m                                 Traceback (most recent call last)",
      "\u001b[1;32m<ipython-input-83-f9eb8d174b8a>\u001b[0m in \u001b[0;36m<module>\u001b[1;34m\u001b[0m\n\u001b[0;32m      6\u001b[0m \u001b[0max2\u001b[0m\u001b[1;33m=\u001b[0m\u001b[0max1\u001b[0m\u001b[1;33m.\u001b[0m\u001b[0mtwinx\u001b[0m\u001b[1;33m(\u001b[0m\u001b[1;33m)\u001b[0m\u001b[1;33m\u001b[0m\u001b[1;33m\u001b[0m\u001b[0m\n\u001b[0;32m      7\u001b[0m \u001b[0max2\u001b[0m\u001b[1;33m.\u001b[0m\u001b[0mplot\u001b[0m\u001b[1;33m(\u001b[0m\u001b[0mdf\u001b[0m\u001b[1;33m[\u001b[0m\u001b[1;34m'ProcedureCode'\u001b[0m\u001b[1;33m]\u001b[0m\u001b[1;33m,\u001b[0m \u001b[0mdf\u001b[0m\u001b[1;33m[\u001b[0m\u001b[1;34m'Count'\u001b[0m\u001b[1;33m]\u001b[0m\u001b[1;33m,\u001b[0m  \u001b[1;34m'o-'\u001b[0m\u001b[1;33m,\u001b[0m \u001b[0mcolor\u001b[0m \u001b[1;33m=\u001b[0m \u001b[1;34m'#0D94BF'\u001b[0m\u001b[1;33m,\u001b[0m \u001b[0mlinewidth\u001b[0m \u001b[1;33m=\u001b[0m \u001b[1;36m3\u001b[0m\u001b[1;33m)\u001b[0m\u001b[1;33m\u001b[0m\u001b[1;33m\u001b[0m\u001b[0m\n\u001b[1;32m----> 8\u001b[1;33m \u001b[0mplt\u001b[0m\u001b[1;33m.\u001b[0m\u001b[0mbar\u001b[0m\u001b[1;33m(\u001b[0m\u001b[0mwidth\u001b[0m \u001b[1;33m=\u001b[0m \u001b[1;36m0.9\u001b[0m\u001b[1;33m)\u001b[0m\u001b[1;33m\u001b[0m\u001b[1;33m\u001b[0m\u001b[0m\n\u001b[0m\u001b[0;32m      9\u001b[0m \u001b[0max2\u001b[0m\u001b[1;33m.\u001b[0m\u001b[0mset_ylim\u001b[0m\u001b[1;33m(\u001b[0m\u001b[1;36m0\u001b[0m\u001b[1;33m,\u001b[0m \u001b[0mdf\u001b[0m\u001b[1;33m[\u001b[0m\u001b[1;34m'Count'\u001b[0m\u001b[1;33m]\u001b[0m\u001b[1;33m.\u001b[0m\u001b[0mmax\u001b[0m\u001b[1;33m(\u001b[0m\u001b[1;33m)\u001b[0m\u001b[1;33m*\u001b[0m\u001b[1;36m1.25\u001b[0m\u001b[1;33m)\u001b[0m\u001b[1;33m\u001b[0m\u001b[1;33m\u001b[0m\u001b[0m\n\u001b[0;32m     10\u001b[0m \u001b[1;33m\u001b[0m\u001b[0m\n",
      "\u001b[1;31mTypeError\u001b[0m: bar() missing 2 required positional arguments: 'x' and 'height'"
     ]
    },
    {
     "data": {
      "image/png": "[encoded data removed]",
      "text/plain": [
       "<Figure size 1080x576 with 2 Axes>"
      ]
     },
     "metadata": {
      "needs_background": "light"
     },
     "output_type": "display_data"
    }
   ],
   "source": [
    "fig= plt.figure(figsize=(15,8))\n",
    "ax1=plt.subplot(1,1,1)\n",
    "ax1.bar(df['ProcedureType'], df['Count'], color='#507184')\n",
    "ax1.set_ylim(0, df['Count'].max()*1.25)\n",
    "\n",
    "ax2=ax1.twinx()\n",
    "ax2.plot(df['ProcedureCode'], df['Count'],  'o-', color = '#0D94BF', linewidth = 3)\n",
    "plt.bar(width = 0.9)\n",
    "ax2.set_ylim(0, df['Count'].max()*1.25)\n",
    "\n",
    "#ax1.bar_label(ax.containers[0], label_type='edge', color='red', rotation=90, fontsize=7, padding=3)\n",
    "\n",
    "\n",
    "plt.show()\n",
    "plt.title ('Total Number of Procedures, May 2018 to Sept 2021')"
   ]
  },
  {
   "cell_type": "code",
   "execution_count": 46,
   "id": "6831f2c4",
   "metadata": {},
   "outputs": [
    {
     "data": {
      "text/plain": [
       "18278"
      ]
     },
     "execution_count": 46,
     "metadata": {},
     "output_type": "execute_result"
    }
   ],
   "source": [
    "df['Count'].sum()"
   ]
  },
  {
   "cell_type": "code",
   "execution_count": 47,
   "id": "22f62a61",
   "metadata": {},
   "outputs": [
    {
     "data": {
      "text/html": [
       "<div>\n",
       "<style scoped>\n",
       "    .dataframe tbody tr th:only-of-type {\n",
       "        vertical-align: middle;\n",
       "    }\n",
       "\n",
       "    .dataframe tbody tr th {\n",
       "        vertical-align: top;\n",
       "    }\n",
       "\n",
       "    .dataframe thead th {\n",
       "        text-align: right;\n",
       "    }\n",
       "</style>\n",
       "<table border=\"1\" class=\"dataframe\">\n",
       "  <thead>\n",
       "    <tr style=\"text-align: right;\">\n",
       "      <th>ProcedureType</th>\n",
       "      <th>Cavity_Sealants</th>\n",
       "      <th>Denture Repair</th>\n",
       "      <th>Kids Dental</th>\n",
       "      <th>Non-Surgical</th>\n",
       "      <th>Oral Surgery</th>\n",
       "      <th>Other</th>\n",
       "      <th>Restorative</th>\n",
       "      <th>XRay</th>\n",
       "    </tr>\n",
       "  </thead>\n",
       "  <tbody>\n",
       "    <tr>\n",
       "      <th>Count</th>\n",
       "      <td>904</td>\n",
       "      <td>14</td>\n",
       "      <td>7</td>\n",
       "      <td>1975</td>\n",
       "      <td>6866</td>\n",
       "      <td>109</td>\n",
       "      <td>7066</td>\n",
       "      <td>1337</td>\n",
       "    </tr>\n",
       "  </tbody>\n",
       "</table>\n",
       "</div>"
      ],
      "text/plain": [
       "ProcedureType  Cavity_Sealants  Denture Repair  Kids Dental  Non-Surgical  \\\n",
       "Count                      904              14            7          1975   \n",
       "\n",
       "ProcedureType  Oral Surgery  Other  Restorative  XRay  \n",
       "Count                  6866    109         7066  1337  "
      ]
     },
     "execution_count": 47,
     "metadata": {},
     "output_type": "execute_result"
    }
   ],
   "source": [
    "table_proctype= pd.pivot_table(df, values='Count', columns=['ProcedureType'], aggfunc=np.sum)\n",
    "table_proctype"
   ]
  },
  {
   "cell_type": "code",
   "execution_count": 48,
   "id": "af67d618",
   "metadata": {},
   "outputs": [
    {
     "data": {
      "text/plain": [
       "ProcedureType\n",
       "Cavity_Sealants     904\n",
       "Denture Repair       14\n",
       "Kids Dental           7\n",
       "Non-Surgical       1975\n",
       "Oral Surgery       6866\n",
       "Other               109\n",
       "Restorative        7066\n",
       "XRay               1337\n",
       "dtype: int64"
      ]
     },
     "execution_count": 48,
     "metadata": {},
     "output_type": "execute_result"
    }
   ],
   "source": [
    "table_proctype.sum()"
   ]
  },
  {
   "cell_type": "code",
   "execution_count": 50,
   "id": "80a70af0",
   "metadata": {},
   "outputs": [
    {
     "data": {
      "text/html": [
       "<div>\n",
       "<style scoped>\n",
       "    .dataframe tbody tr th:only-of-type {\n",
       "        vertical-align: middle;\n",
       "    }\n",
       "\n",
       "    .dataframe tbody tr th {\n",
       "        vertical-align: top;\n",
       "    }\n",
       "\n",
       "    .dataframe thead th {\n",
       "        text-align: right;\n",
       "    }\n",
       "</style>\n",
       "<table border=\"1\" class=\"dataframe\">\n",
       "  <thead>\n",
       "    <tr style=\"text-align: right;\">\n",
       "      <th>ProcedureCode</th>\n",
       "      <th>OralCare_1351</th>\n",
       "      <th>OralCare_1354</th>\n",
       "      <th>OralCare_2140</th>\n",
       "      <th>OralCare_2150</th>\n",
       "      <th>OralCare_2160</th>\n",
       "      <th>OralCare_2161</th>\n",
       "      <th>OralCare_230</th>\n",
       "      <th>OralCare_2330</th>\n",
       "      <th>OralCare_2331</th>\n",
       "      <th>OralCare_2332</th>\n",
       "      <th>...</th>\n",
       "      <th>OralCare_7320</th>\n",
       "      <th>OralCare_7321</th>\n",
       "      <th>OralCare_7410</th>\n",
       "      <th>OralCare_7411</th>\n",
       "      <th>OralCare_7471</th>\n",
       "      <th>OralCare_7510</th>\n",
       "      <th>OralCare_7971</th>\n",
       "      <th>OralCare_7972</th>\n",
       "      <th>OralCare_9110</th>\n",
       "      <th>OralCare_9951</th>\n",
       "    </tr>\n",
       "  </thead>\n",
       "  <tbody>\n",
       "    <tr>\n",
       "      <th>Count</th>\n",
       "      <td>12</td>\n",
       "      <td>892</td>\n",
       "      <td>50</td>\n",
       "      <td>104</td>\n",
       "      <td>46</td>\n",
       "      <td>10</td>\n",
       "      <td>1337</td>\n",
       "      <td>944</td>\n",
       "      <td>940</td>\n",
       "      <td>579</td>\n",
       "      <td>...</td>\n",
       "      <td>100</td>\n",
       "      <td>80</td>\n",
       "      <td>16</td>\n",
       "      <td>1</td>\n",
       "      <td>4</td>\n",
       "      <td>12</td>\n",
       "      <td>2</td>\n",
       "      <td>1</td>\n",
       "      <td>26</td>\n",
       "      <td>83</td>\n",
       "    </tr>\n",
       "  </tbody>\n",
       "</table>\n",
       "<p>1 rows × 50 columns</p>\n",
       "</div>"
      ],
      "text/plain": [
       "ProcedureCode  OralCare_1351  OralCare_1354  OralCare_2140  OralCare_2150  \\\n",
       "Count                     12            892             50            104   \n",
       "\n",
       "ProcedureCode  OralCare_2160  OralCare_2161  OralCare_230  OralCare_2330  \\\n",
       "Count                     46             10          1337            944   \n",
       "\n",
       "ProcedureCode  OralCare_2331  OralCare_2332  ...  OralCare_7320  \\\n",
       "Count                    940            579  ...            100   \n",
       "\n",
       "ProcedureCode  OralCare_7321  OralCare_7410  OralCare_7411  OralCare_7471  \\\n",
       "Count                     80             16              1              4   \n",
       "\n",
       "ProcedureCode  OralCare_7510  OralCare_7971  OralCare_7972  OralCare_9110  \\\n",
       "Count                     12              2              1             26   \n",
       "\n",
       "ProcedureCode  OralCare_9951  \n",
       "Count                     83  \n",
       "\n",
       "[1 rows x 50 columns]"
      ]
     },
     "execution_count": 50,
     "metadata": {},
     "output_type": "execute_result"
    }
   ],
   "source": [
    "table_proccode= pd.pivot_table(df, values='Count', columns=['ProcedureCode'], aggfunc=np.sum)\n",
    "table_proccode"
   ]
  },
  {
   "cell_type": "code",
   "execution_count": 85,
   "id": "73b43c87",
   "metadata": {},
   "outputs": [
    {
     "data": {
      "image/png": "[encoded data removed]",
      "text/plain": [
       "<Figure size 1080x576 with 1 Axes>"
      ]
     },
     "metadata": {
      "needs_background": "light"
     },
     "output_type": "display_data"
    },
    {
     "data": {
      "text/plain": [
       "Text(0.5, 1.0, 'Total Number of Procedures, May 2018 to Sept 2021')"
      ]
     },
     "execution_count": 85,
     "metadata": {},
     "output_type": "execute_result"
    },
    {
     "data": {
      "image/png": "[encoded data removed]",
      "text/plain": [
       "<Figure size 432x288 with 1 Axes>"
      ]
     },
     "metadata": {
      "needs_background": "light"
     },
     "output_type": "display_data"
    }
   ],
   "source": [
    "fig= plt.figure(figsize=(15,8))\n",
    "ax1=plt.subplot(1,1,1)\n",
    "ax1.bar(df['ProcedureType'], df['Count'], color='#507184')\n",
    "ax1.set_ylim(0, df['Count'].max()*1.25)\n",
    "\n",
    "plt.show()\n",
    "plt.title ('Total Number of Procedures, May 2018 to Sept 2021')"
   ]
  },
  {
   "cell_type": "code",
   "execution_count": 86,
   "id": "4e67ee01",
   "metadata": {},
   "outputs": [
    {
     "data": {
      "image/png": "[encoded data removed]",
      "text/plain": [
       "<Figure size 1080x576 with 1 Axes>"
      ]
     },
     "metadata": {
      "needs_background": "light"
     },
     "output_type": "display_data"
    },
    {
     "data": {
      "text/plain": [
       "Text(0.5, 1.0, 'Total Number of Procedures, May 2018 to Sept 2021')"
      ]
     },
     "execution_count": 86,
     "metadata": {},
     "output_type": "execute_result"
    },
    {
     "data": {
      "image/png": "[encoded data removed]",
      "text/plain": [
       "<Figure size 432x288 with 1 Axes>"
      ]
     },
     "metadata": {
      "needs_background": "light"
     },
     "output_type": "display_data"
    }
   ],
   "source": [
    "fig= plt.figure(figsize=(15,8))\n",
    "ax2=plt.subplot(1,1,1)\n",
    "\n",
    "ax2.plot(df['ProcedureCode'], df['Count'],  'o-', color = '#0D94BF', linewidth = 3)\n",
    "\n",
    "ax2.set_ylim(0, df['Count'].max()*1.25)\n",
    "\n",
    "plt.show()\n",
    "plt.title ('Total Number of Procedures, May 2018 to Sept 2021')"
   ]
  },
  {
   "cell_type": "code",
   "execution_count": 64,
   "id": "cc6c6577",
   "metadata": {},
   "outputs": [
    {
     "data": {
      "text/html": [
       "<div>\n",
       "<style scoped>\n",
       "    .dataframe tbody tr th:only-of-type {\n",
       "        vertical-align: middle;\n",
       "    }\n",
       "\n",
       "    .dataframe tbody tr th {\n",
       "        vertical-align: top;\n",
       "    }\n",
       "\n",
       "    .dataframe thead th {\n",
       "        text-align: right;\n",
       "    }\n",
       "</style>\n",
       "<table border=\"1\" class=\"dataframe\">\n",
       "  <thead>\n",
       "    <tr style=\"text-align: right;\">\n",
       "      <th></th>\n",
       "      <th>Count</th>\n",
       "      <th>Unnamed: 3</th>\n",
       "    </tr>\n",
       "    <tr>\n",
       "      <th>ProcedureType</th>\n",
       "      <th></th>\n",
       "      <th></th>\n",
       "    </tr>\n",
       "  </thead>\n",
       "  <tbody>\n",
       "    <tr>\n",
       "      <th>Cavity_Sealants</th>\n",
       "      <td>904</td>\n",
       "      <td>0.0</td>\n",
       "    </tr>\n",
       "    <tr>\n",
       "      <th>Denture Repair</th>\n",
       "      <td>14</td>\n",
       "      <td>0.0</td>\n",
       "    </tr>\n",
       "    <tr>\n",
       "      <th>Kids Dental</th>\n",
       "      <td>7</td>\n",
       "      <td>0.0</td>\n",
       "    </tr>\n",
       "    <tr>\n",
       "      <th>Non-Surgical</th>\n",
       "      <td>1975</td>\n",
       "      <td>0.0</td>\n",
       "    </tr>\n",
       "    <tr>\n",
       "      <th>Oral Surgery</th>\n",
       "      <td>6866</td>\n",
       "      <td>0.0</td>\n",
       "    </tr>\n",
       "    <tr>\n",
       "      <th>Other</th>\n",
       "      <td>109</td>\n",
       "      <td>0.0</td>\n",
       "    </tr>\n",
       "    <tr>\n",
       "      <th>Restorative</th>\n",
       "      <td>7066</td>\n",
       "      <td>0.0</td>\n",
       "    </tr>\n",
       "    <tr>\n",
       "      <th>XRay</th>\n",
       "      <td>1337</td>\n",
       "      <td>0.0</td>\n",
       "    </tr>\n",
       "  </tbody>\n",
       "</table>\n",
       "</div>"
      ],
      "text/plain": [
       "                 Count  Unnamed: 3\n",
       "ProcedureType                     \n",
       "Cavity_Sealants    904         0.0\n",
       "Denture Repair      14         0.0\n",
       "Kids Dental          7         0.0\n",
       "Non-Surgical      1975         0.0\n",
       "Oral Surgery      6866         0.0\n",
       "Other              109         0.0\n",
       "Restorative       7066         0.0\n",
       "XRay              1337         0.0"
      ]
     },
     "execution_count": 64,
     "metadata": {},
     "output_type": "execute_result"
    }
   ],
   "source": [
    "grouped_df = df.groupby('ProcedureType').sum()\n",
    "grouped_df"
   ]
  },
  {
   "cell_type": "code",
   "execution_count": 71,
   "id": "8041af47",
   "metadata": {},
   "outputs": [
    {
     "ename": "KeyError",
     "evalue": "'ProcedureType'",
     "output_type": "error",
     "traceback": [
      "\u001b[1;31m---------------------------------------------------------------------------\u001b[0m",
      "\u001b[1;31mKeyError\u001b[0m                                  Traceback (most recent call last)",
      "\u001b[1;32m~\\Anaconda3\\lib\\site-packages\\pandas\\core\\indexes\\base.py\u001b[0m in \u001b[0;36mget_loc\u001b[1;34m(self, key, method, tolerance)\u001b[0m\n\u001b[0;32m   3079\u001b[0m             \u001b[1;32mtry\u001b[0m\u001b[1;33m:\u001b[0m\u001b[1;33m\u001b[0m\u001b[1;33m\u001b[0m\u001b[0m\n\u001b[1;32m-> 3080\u001b[1;33m                 \u001b[1;32mreturn\u001b[0m \u001b[0mself\u001b[0m\u001b[1;33m.\u001b[0m\u001b[0m_engine\u001b[0m\u001b[1;33m.\u001b[0m\u001b[0mget_loc\u001b[0m\u001b[1;33m(\u001b[0m\u001b[0mcasted_key\u001b[0m\u001b[1;33m)\u001b[0m\u001b[1;33m\u001b[0m\u001b[1;33m\u001b[0m\u001b[0m\n\u001b[0m\u001b[0;32m   3081\u001b[0m             \u001b[1;32mexcept\u001b[0m \u001b[0mKeyError\u001b[0m \u001b[1;32mas\u001b[0m \u001b[0merr\u001b[0m\u001b[1;33m:\u001b[0m\u001b[1;33m\u001b[0m\u001b[1;33m\u001b[0m\u001b[0m\n",
      "\u001b[1;32mpandas\\_libs\\index.pyx\u001b[0m in \u001b[0;36mpandas._libs.index.IndexEngine.get_loc\u001b[1;34m()\u001b[0m\n",
      "\u001b[1;32mpandas\\_libs\\index.pyx\u001b[0m in \u001b[0;36mpandas._libs.index.IndexEngine.get_loc\u001b[1;34m()\u001b[0m\n",
      "\u001b[1;32mpandas\\_libs\\hashtable_class_helper.pxi\u001b[0m in \u001b[0;36mpandas._libs.hashtable.PyObjectHashTable.get_item\u001b[1;34m()\u001b[0m\n",
      "\u001b[1;32mpandas\\_libs\\hashtable_class_helper.pxi\u001b[0m in \u001b[0;36mpandas._libs.hashtable.PyObjectHashTable.get_item\u001b[1;34m()\u001b[0m\n",
      "\u001b[1;31mKeyError\u001b[0m: 'ProcedureType'",
      "\nThe above exception was the direct cause of the following exception:\n",
      "\u001b[1;31mKeyError\u001b[0m                                  Traceback (most recent call last)",
      "\u001b[1;32m<ipython-input-71-20a0209b2546>\u001b[0m in \u001b[0;36m<module>\u001b[1;34m\u001b[0m\n\u001b[0;32m      1\u001b[0m \u001b[0mfig\u001b[0m\u001b[1;33m=\u001b[0m \u001b[0mplt\u001b[0m\u001b[1;33m.\u001b[0m\u001b[0mfigure\u001b[0m\u001b[1;33m(\u001b[0m\u001b[0mfigsize\u001b[0m\u001b[1;33m=\u001b[0m\u001b[1;33m(\u001b[0m\u001b[1;36m15\u001b[0m\u001b[1;33m,\u001b[0m\u001b[1;36m8\u001b[0m\u001b[1;33m)\u001b[0m\u001b[1;33m)\u001b[0m\u001b[1;33m\u001b[0m\u001b[1;33m\u001b[0m\u001b[0m\n\u001b[0;32m      2\u001b[0m \u001b[0max1\u001b[0m\u001b[1;33m=\u001b[0m\u001b[0mplt\u001b[0m\u001b[1;33m.\u001b[0m\u001b[0msubplot\u001b[0m\u001b[1;33m(\u001b[0m\u001b[1;36m1\u001b[0m\u001b[1;33m,\u001b[0m\u001b[1;36m1\u001b[0m\u001b[1;33m,\u001b[0m\u001b[1;36m1\u001b[0m\u001b[1;33m)\u001b[0m\u001b[1;33m\u001b[0m\u001b[1;33m\u001b[0m\u001b[0m\n\u001b[1;32m----> 3\u001b[1;33m \u001b[0max1\u001b[0m\u001b[1;33m.\u001b[0m\u001b[0mbar\u001b[0m\u001b[1;33m(\u001b[0m\u001b[0mgrouped_df\u001b[0m\u001b[1;33m[\u001b[0m\u001b[1;34m'ProcedureType'\u001b[0m\u001b[1;33m]\u001b[0m\u001b[1;33m,\u001b[0m\u001b[0mgrouped_df\u001b[0m\u001b[1;33m[\u001b[0m\u001b[1;34m'Count'\u001b[0m\u001b[1;33m]\u001b[0m\u001b[1;33m,\u001b[0m \u001b[0mcolor\u001b[0m\u001b[1;33m=\u001b[0m\u001b[1;34m'#507184'\u001b[0m\u001b[1;33m)\u001b[0m\u001b[1;33m\u001b[0m\u001b[1;33m\u001b[0m\u001b[0m\n\u001b[0m\u001b[0;32m      4\u001b[0m \u001b[1;33m\u001b[0m\u001b[0m\n\u001b[0;32m      5\u001b[0m \u001b[0max2\u001b[0m\u001b[1;33m=\u001b[0m\u001b[0max1\u001b[0m\u001b[1;33m.\u001b[0m\u001b[0mtwinx\u001b[0m\u001b[1;33m(\u001b[0m\u001b[1;33m)\u001b[0m\u001b[1;33m\u001b[0m\u001b[1;33m\u001b[0m\u001b[0m\n",
      "\u001b[1;32m~\\Anaconda3\\lib\\site-packages\\pandas\\core\\frame.py\u001b[0m in \u001b[0;36m__getitem__\u001b[1;34m(self, key)\u001b[0m\n\u001b[0;32m   3022\u001b[0m             \u001b[1;32mif\u001b[0m \u001b[0mself\u001b[0m\u001b[1;33m.\u001b[0m\u001b[0mcolumns\u001b[0m\u001b[1;33m.\u001b[0m\u001b[0mnlevels\u001b[0m \u001b[1;33m>\u001b[0m \u001b[1;36m1\u001b[0m\u001b[1;33m:\u001b[0m\u001b[1;33m\u001b[0m\u001b[1;33m\u001b[0m\u001b[0m\n\u001b[0;32m   3023\u001b[0m                 \u001b[1;32mreturn\u001b[0m \u001b[0mself\u001b[0m\u001b[1;33m.\u001b[0m\u001b[0m_getitem_multilevel\u001b[0m\u001b[1;33m(\u001b[0m\u001b[0mkey\u001b[0m\u001b[1;33m)\u001b[0m\u001b[1;33m\u001b[0m\u001b[1;33m\u001b[0m\u001b[0m\n\u001b[1;32m-> 3024\u001b[1;33m             \u001b[0mindexer\u001b[0m \u001b[1;33m=\u001b[0m \u001b[0mself\u001b[0m\u001b[1;33m.\u001b[0m\u001b[0mcolumns\u001b[0m\u001b[1;33m.\u001b[0m\u001b[0mget_loc\u001b[0m\u001b[1;33m(\u001b[0m\u001b[0mkey\u001b[0m\u001b[1;33m)\u001b[0m\u001b[1;33m\u001b[0m\u001b[1;33m\u001b[0m\u001b[0m\n\u001b[0m\u001b[0;32m   3025\u001b[0m             \u001b[1;32mif\u001b[0m \u001b[0mis_integer\u001b[0m\u001b[1;33m(\u001b[0m\u001b[0mindexer\u001b[0m\u001b[1;33m)\u001b[0m\u001b[1;33m:\u001b[0m\u001b[1;33m\u001b[0m\u001b[1;33m\u001b[0m\u001b[0m\n\u001b[0;32m   3026\u001b[0m                 \u001b[0mindexer\u001b[0m \u001b[1;33m=\u001b[0m \u001b[1;33m[\u001b[0m\u001b[0mindexer\u001b[0m\u001b[1;33m]\u001b[0m\u001b[1;33m\u001b[0m\u001b[1;33m\u001b[0m\u001b[0m\n",
      "\u001b[1;32m~\\Anaconda3\\lib\\site-packages\\pandas\\core\\indexes\\base.py\u001b[0m in \u001b[0;36mget_loc\u001b[1;34m(self, key, method, tolerance)\u001b[0m\n\u001b[0;32m   3080\u001b[0m                 \u001b[1;32mreturn\u001b[0m \u001b[0mself\u001b[0m\u001b[1;33m.\u001b[0m\u001b[0m_engine\u001b[0m\u001b[1;33m.\u001b[0m\u001b[0mget_loc\u001b[0m\u001b[1;33m(\u001b[0m\u001b[0mcasted_key\u001b[0m\u001b[1;33m)\u001b[0m\u001b[1;33m\u001b[0m\u001b[1;33m\u001b[0m\u001b[0m\n\u001b[0;32m   3081\u001b[0m             \u001b[1;32mexcept\u001b[0m \u001b[0mKeyError\u001b[0m \u001b[1;32mas\u001b[0m \u001b[0merr\u001b[0m\u001b[1;33m:\u001b[0m\u001b[1;33m\u001b[0m\u001b[1;33m\u001b[0m\u001b[0m\n\u001b[1;32m-> 3082\u001b[1;33m                 \u001b[1;32mraise\u001b[0m \u001b[0mKeyError\u001b[0m\u001b[1;33m(\u001b[0m\u001b[0mkey\u001b[0m\u001b[1;33m)\u001b[0m \u001b[1;32mfrom\u001b[0m \u001b[0merr\u001b[0m\u001b[1;33m\u001b[0m\u001b[1;33m\u001b[0m\u001b[0m\n\u001b[0m\u001b[0;32m   3083\u001b[0m \u001b[1;33m\u001b[0m\u001b[0m\n\u001b[0;32m   3084\u001b[0m         \u001b[1;32mif\u001b[0m \u001b[0mtolerance\u001b[0m \u001b[1;32mis\u001b[0m \u001b[1;32mnot\u001b[0m \u001b[1;32mNone\u001b[0m\u001b[1;33m:\u001b[0m\u001b[1;33m\u001b[0m\u001b[1;33m\u001b[0m\u001b[0m\n",
      "\u001b[1;31mKeyError\u001b[0m: 'ProcedureType'"
     ]
    },
    {
     "data": {
      "image/png": "[encoded data removed]",
      "text/plain": [
       "<Figure size 1080x576 with 1 Axes>"
      ]
     },
     "metadata": {
      "needs_background": "light"
     },
     "output_type": "display_data"
    }
   ],
   "source": [
    "fig= plt.figure(figsize=(15,8))\n",
    "ax1=plt.subplot(1,1,1)\n",
    "ax1.bar(grouped_df['ProcedureType'],grouped_df['Count'], color='#507184')\n",
    "\n",
    "ax2=ax1.twinx()\n",
    "ax2.plot(df['ProcedureCode'], df['Count'],  'o-', color = '#0D94BF', linewidth = 3)\n",
    "\n",
    "plt.show()\n",
    "plt.title ('Total Number of Procedures, May 2018 to Sept 2021')"
   ]
  },
  {
   "cell_type": "code",
   "execution_count": 63,
   "id": "f488b775",
   "metadata": {},
   "outputs": [
    {
     "data": {
      "text/html": [
       "<div>\n",
       "<style scoped>\n",
       "    .dataframe tbody tr th:only-of-type {\n",
       "        vertical-align: middle;\n",
       "    }\n",
       "\n",
       "    .dataframe tbody tr th {\n",
       "        vertical-align: top;\n",
       "    }\n",
       "\n",
       "    .dataframe thead th {\n",
       "        text-align: right;\n",
       "    }\n",
       "</style>\n",
       "<table border=\"1\" class=\"dataframe\">\n",
       "  <thead>\n",
       "    <tr style=\"text-align: right;\">\n",
       "      <th></th>\n",
       "      <th>ProcedureCode</th>\n",
       "      <th>Count</th>\n",
       "      <th>ProcedureType</th>\n",
       "      <th>Unnamed: 3</th>\n",
       "    </tr>\n",
       "  </thead>\n",
       "  <tbody>\n",
       "    <tr>\n",
       "      <th>17</th>\n",
       "      <td>OralCare_2920</td>\n",
       "      <td>134</td>\n",
       "      <td>Restorative</td>\n",
       "      <td>NaN</td>\n",
       "    </tr>\n",
       "    <tr>\n",
       "      <th>8</th>\n",
       "      <td>OralCare_2331</td>\n",
       "      <td>940</td>\n",
       "      <td>Restorative</td>\n",
       "      <td>NaN</td>\n",
       "    </tr>\n",
       "  </tbody>\n",
       "</table>\n",
       "</div>"
      ],
      "text/plain": [
       "    ProcedureCode  Count ProcedureType  Unnamed: 3\n",
       "17  OralCare_2920    134   Restorative         NaN\n",
       "8   OralCare_2331    940   Restorative         NaN"
      ]
     },
     "execution_count": 63,
     "metadata": {},
     "output_type": "execute_result"
    }
   ],
   "source": [
    "grouped_df = grouped_df.get_group('Restorative', )\n",
    "grouped_df.head(2)"
   ]
  },
  {
   "cell_type": "code",
   "execution_count": null,
   "id": "cca99b78",
   "metadata": {},
   "outputs": [],
   "source": [
    "pivot_tpdy = pd.pivot_table (data=grouped_tpdy, index=['CountyName', 'Demo_# of People in Household'])#, ['demo_Birth Year'], aggfunc=np.mean)\n",
    "pivot_tpdy"
   ]
  },
  {
   "cell_type": "code",
   "execution_count": null,
   "id": "73475608",
   "metadata": {},
   "outputs": [],
   "source": []
  },
  {
   "cell_type": "code",
   "execution_count": 6,
   "id": "13e05896",
   "metadata": {},
   "outputs": [
    {
     "data": {
      "text/plain": [
       "<Figure size 432x288 with 0 Axes>"
      ]
     },
     "metadata": {},
     "output_type": "display_data"
    }
   ],
   "source": [
    "plt.savefig('procedures.pdf')"
   ]
  }
 ],
 "metadata": {
  "kernelspec": {
   "display_name": "Python 3",
   "language": "python",
   "name": "python3"
  },
  "language_info": {
   "codemirror_mode": {
    "name": "ipython",
    "version": 3
   },
   "file_extension": ".py",
   "mimetype": "text/x-python",
   "name": "python",
   "nbconvert_exporter": "python",
   "pygments_lexer": "ipython3",
   "version": "3.8.8"
  }
 },
 "nbformat": 4,
 "nbformat_minor": 5
}
