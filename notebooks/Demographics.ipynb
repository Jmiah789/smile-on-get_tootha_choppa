{
 "cells": [
  {
   "cell_type": "markdown",
   "id": "e33c16f5",
   "metadata": {},
   "source": [
    "Smile On 60+ is a statewide initiative in Tennessee with the goal of improving the overall health of low-income, mobile seniors age 60+ through access to oral healthcare services and community education.\n",
    "More information can be found: https://www.tn.gov/aging/administration/seniortrust-eldertrust.html https://interfaithdentalclinic.com/smile-on-60/\n",
    "\n",
    "___Data Questions For this project you are tasked with using this data to determine the effectiveness of Smile On. Use the data provided to answer these questions:\n",
    "\n",
    "Who has Smile On been serving (number of patients, age, gender, etc.)?\n",
    "Explore the impact of the Smile On program and the outcomes that are produced for clients. Are clients seeing improvement through the Smile On program?\n",
    "Is there any correlation between procedures given and improved outcomes?\n",
    "Beyond the questions outlined above, you are encouraged to continue to explore the data to understand the effectiveness of the Smile On program and to try and see how different factors can impact the clinical results (eg. how do transportation options for clinics affect outcomes?).\n",
    "\n",
    "__Smile On Data Information about patients is gathered during different interactions (initial visit, checkups, etc.). The data you have been given include records spanning from May of 2018 through September of 2021. There is also a data dictionary that contains some useful information about the different columns."
   ]
  },
  {
   "cell_type": "code",
   "execution_count": 1,
   "id": "024874a2",
   "metadata": {},
   "outputs": [],
   "source": [
    "import pandas as pd\n",
    "import numpy as np\n",
    "pd.set_option('display.max_columns', None)"
   ]
  },
  {
   "cell_type": "code",
   "execution_count": 2,
   "id": "7a71a46d",
   "metadata": {},
   "outputs": [
    {
     "name": "stderr",
     "output_type": "stream",
     "text": [
      "C:\\Users\\jojuk\\Anaconda3\\lib\\site-packages\\IPython\\core\\interactiveshell.py:3165: DtypeWarning: Columns (2,32,36,53,58,59,77,83,89,93,105,127,141,144) have mixed types.Specify dtype option on import or set low_memory=False.\n",
      "  has_raised = await self.run_ast_nodes(code_ast.body, cell_name,\n"
     ]
    }
   ],
   "source": [
    "df= pd.read_csv(r\"C:\\Users\\jojuk\\Documents\\git\\projects\\smile-on-get_tootha_choppa\\data\\Smileon.csv\")"
   ]
  },
  {
   "cell_type": "code",
   "execution_count": 3,
   "id": "c4de26a2",
   "metadata": {},
   "outputs": [
    {
     "data": {
      "text/html": [
       "<div>\n",
       "<style scoped>\n",
       "    .dataframe tbody tr th:only-of-type {\n",
       "        vertical-align: middle;\n",
       "    }\n",
       "\n",
       "    .dataframe tbody tr th {\n",
       "        vertical-align: top;\n",
       "    }\n",
       "\n",
       "    .dataframe thead th {\n",
       "        text-align: right;\n",
       "    }\n",
       "</style>\n",
       "<table border=\"1\" class=\"dataframe\">\n",
       "  <thead>\n",
       "    <tr style=\"text-align: right;\">\n",
       "      <th></th>\n",
       "      <th>SMILE ON 60+ Demographic Information - Gender</th>\n",
       "      <th>SMILE ON 60+ Demographic Information - Household Income Level</th>\n",
       "      <th>SMILE ON 60+ Demographic Information - How did you first hear about the SMILE ON 60+ program?</th>\n",
       "      <th>SMILE ON 60+ Demographic Information - Preferred Language/Language Needed</th>\n",
       "      <th>SMILE ON 60+ Demographic Information - Race/Ethnicity</th>\n",
       "      <th>SMILE ON 60+ Demographic Information - What other assistance programs are you on?</th>\n",
       "      <th>SMILE ON 60+ Demographic Information - When is the last time you visited your dentist?</th>\n",
       "      <th>SMILE ON 60+ Demographic Information - # of People in Household</th>\n",
       "      <th>Birth Year</th>\n",
       "    </tr>\n",
       "  </thead>\n",
       "  <tbody>\n",
       "    <tr>\n",
       "      <th>0</th>\n",
       "      <td>Female</td>\n",
       "      <td>$0 - $21 280</td>\n",
       "      <td>Other</td>\n",
       "      <td>English</td>\n",
       "      <td>African American</td>\n",
       "      <td>SNAP; SSI/SSDI</td>\n",
       "      <td>NaN</td>\n",
       "      <td>1.0</td>\n",
       "      <td>1960</td>\n",
       "    </tr>\n",
       "    <tr>\n",
       "      <th>1</th>\n",
       "      <td>Female</td>\n",
       "      <td>$0 - $21 280</td>\n",
       "      <td>Dental Clinic Staff</td>\n",
       "      <td>English</td>\n",
       "      <td>Caucasian</td>\n",
       "      <td>NaN</td>\n",
       "      <td>More than 5 years</td>\n",
       "      <td>1.0</td>\n",
       "      <td>1959</td>\n",
       "    </tr>\n",
       "    <tr>\n",
       "      <th>2</th>\n",
       "      <td>Male</td>\n",
       "      <td>$0 - $21 280</td>\n",
       "      <td>Dental Clinic Staff</td>\n",
       "      <td>NaN</td>\n",
       "      <td>Asian</td>\n",
       "      <td>NaN</td>\n",
       "      <td>Less than 12 months</td>\n",
       "      <td>1.0</td>\n",
       "      <td>1942</td>\n",
       "    </tr>\n",
       "    <tr>\n",
       "      <th>3</th>\n",
       "      <td>Male</td>\n",
       "      <td>$0 - $21 280</td>\n",
       "      <td>Dental Clinic Staff</td>\n",
       "      <td>NaN</td>\n",
       "      <td>African American</td>\n",
       "      <td>NaN</td>\n",
       "      <td>More than 5 years</td>\n",
       "      <td>1.0</td>\n",
       "      <td>1960</td>\n",
       "    </tr>\n",
       "    <tr>\n",
       "      <th>4</th>\n",
       "      <td>Female</td>\n",
       "      <td>$0 - $21 280</td>\n",
       "      <td>Dental Clinic Staff</td>\n",
       "      <td>NaN</td>\n",
       "      <td>African American</td>\n",
       "      <td>SSI/SSDI</td>\n",
       "      <td>3 to 5 years</td>\n",
       "      <td>1.0</td>\n",
       "      <td>1955</td>\n",
       "    </tr>\n",
       "    <tr>\n",
       "      <th>...</th>\n",
       "      <td>...</td>\n",
       "      <td>...</td>\n",
       "      <td>...</td>\n",
       "      <td>...</td>\n",
       "      <td>...</td>\n",
       "      <td>...</td>\n",
       "      <td>...</td>\n",
       "      <td>...</td>\n",
       "      <td>...</td>\n",
       "    </tr>\n",
       "    <tr>\n",
       "      <th>57855</th>\n",
       "      <td>Female</td>\n",
       "      <td>NaN</td>\n",
       "      <td>Dental Clinic Staff</td>\n",
       "      <td>NaN</td>\n",
       "      <td>Caucasian</td>\n",
       "      <td>SNAP</td>\n",
       "      <td>Less than 12 months</td>\n",
       "      <td>2</td>\n",
       "      <td>1957</td>\n",
       "    </tr>\n",
       "    <tr>\n",
       "      <th>57856</th>\n",
       "      <td>Female</td>\n",
       "      <td>$0 - $21 280</td>\n",
       "      <td>Dental Clinic Staff</td>\n",
       "      <td>NaN</td>\n",
       "      <td>Caucasian</td>\n",
       "      <td>SSI/SSDI</td>\n",
       "      <td>Less than 12 months</td>\n",
       "      <td>1</td>\n",
       "      <td>1958</td>\n",
       "    </tr>\n",
       "    <tr>\n",
       "      <th>57857</th>\n",
       "      <td>NaN</td>\n",
       "      <td>NaN</td>\n",
       "      <td>NaN</td>\n",
       "      <td>NaN</td>\n",
       "      <td>NaN</td>\n",
       "      <td>NaN</td>\n",
       "      <td>NaN</td>\n",
       "      <td>NaN</td>\n",
       "      <td>1900</td>\n",
       "    </tr>\n",
       "    <tr>\n",
       "      <th>57858</th>\n",
       "      <td>Male</td>\n",
       "      <td>$0 - $21 280</td>\n",
       "      <td>Dental Clinic Staff</td>\n",
       "      <td>English</td>\n",
       "      <td>Caucasian</td>\n",
       "      <td>SNAP</td>\n",
       "      <td>1 to 2 years</td>\n",
       "      <td>1</td>\n",
       "      <td>1958</td>\n",
       "    </tr>\n",
       "    <tr>\n",
       "      <th>57859</th>\n",
       "      <td>Female</td>\n",
       "      <td>$0 - $21 280</td>\n",
       "      <td>Dental Clinic Staff</td>\n",
       "      <td>NaN</td>\n",
       "      <td>Caucasian</td>\n",
       "      <td>SSI/SSDI</td>\n",
       "      <td>Less than 12 months</td>\n",
       "      <td>1</td>\n",
       "      <td>1958</td>\n",
       "    </tr>\n",
       "  </tbody>\n",
       "</table>\n",
       "<p>57860 rows × 9 columns</p>\n",
       "</div>"
      ],
      "text/plain": [
       "      SMILE ON 60+ Demographic Information - Gender  \\\n",
       "0                                            Female   \n",
       "1                                            Female   \n",
       "2                                              Male   \n",
       "3                                              Male   \n",
       "4                                            Female   \n",
       "...                                             ...   \n",
       "57855                                        Female   \n",
       "57856                                        Female   \n",
       "57857                                           NaN   \n",
       "57858                                          Male   \n",
       "57859                                        Female   \n",
       "\n",
       "      SMILE ON 60+ Demographic Information - Household Income Level  \\\n",
       "0                                           $0 - $21 280              \n",
       "1                                           $0 - $21 280              \n",
       "2                                           $0 - $21 280              \n",
       "3                                           $0 - $21 280              \n",
       "4                                           $0 - $21 280              \n",
       "...                                                  ...              \n",
       "57855                                                NaN              \n",
       "57856                                       $0 - $21 280              \n",
       "57857                                                NaN              \n",
       "57858                                       $0 - $21 280              \n",
       "57859                                       $0 - $21 280              \n",
       "\n",
       "      SMILE ON 60+ Demographic Information - How did you first hear about the SMILE ON 60+ program?  \\\n",
       "0                                                  Other                                              \n",
       "1                                    Dental Clinic Staff                                              \n",
       "2                                    Dental Clinic Staff                                              \n",
       "3                                    Dental Clinic Staff                                              \n",
       "4                                    Dental Clinic Staff                                              \n",
       "...                                                  ...                                              \n",
       "57855                                Dental Clinic Staff                                              \n",
       "57856                                Dental Clinic Staff                                              \n",
       "57857                                                NaN                                              \n",
       "57858                                Dental Clinic Staff                                              \n",
       "57859                                Dental Clinic Staff                                              \n",
       "\n",
       "      SMILE ON 60+ Demographic Information - Preferred Language/Language Needed  \\\n",
       "0                                                English                          \n",
       "1                                                English                          \n",
       "2                                                    NaN                          \n",
       "3                                                    NaN                          \n",
       "4                                                    NaN                          \n",
       "...                                                  ...                          \n",
       "57855                                                NaN                          \n",
       "57856                                                NaN                          \n",
       "57857                                                NaN                          \n",
       "57858                                            English                          \n",
       "57859                                                NaN                          \n",
       "\n",
       "      SMILE ON 60+ Demographic Information - Race/Ethnicity  \\\n",
       "0                                       African American      \n",
       "1                                              Caucasian      \n",
       "2                                                  Asian      \n",
       "3                                       African American      \n",
       "4                                       African American      \n",
       "...                                                  ...      \n",
       "57855                                          Caucasian      \n",
       "57856                                          Caucasian      \n",
       "57857                                                NaN      \n",
       "57858                                          Caucasian      \n",
       "57859                                          Caucasian      \n",
       "\n",
       "      SMILE ON 60+ Demographic Information - What other assistance programs are you on?  \\\n",
       "0                                         SNAP; SSI/SSDI                                  \n",
       "1                                                    NaN                                  \n",
       "2                                                    NaN                                  \n",
       "3                                                    NaN                                  \n",
       "4                                               SSI/SSDI                                  \n",
       "...                                                  ...                                  \n",
       "57855                                               SNAP                                  \n",
       "57856                                           SSI/SSDI                                  \n",
       "57857                                                NaN                                  \n",
       "57858                                               SNAP                                  \n",
       "57859                                           SSI/SSDI                                  \n",
       "\n",
       "      SMILE ON 60+ Demographic Information - When is the last time you visited your dentist?  \\\n",
       "0                                                    NaN                                       \n",
       "1                                      More than 5 years                                       \n",
       "2                                    Less than 12 months                                       \n",
       "3                                      More than 5 years                                       \n",
       "4                                           3 to 5 years                                       \n",
       "...                                                  ...                                       \n",
       "57855                                Less than 12 months                                       \n",
       "57856                                Less than 12 months                                       \n",
       "57857                                                NaN                                       \n",
       "57858                                       1 to 2 years                                       \n",
       "57859                                Less than 12 months                                       \n",
       "\n",
       "      SMILE ON 60+ Demographic Information - # of People in Household  \\\n",
       "0                                                    1.0                \n",
       "1                                                    1.0                \n",
       "2                                                    1.0                \n",
       "3                                                    1.0                \n",
       "4                                                    1.0                \n",
       "...                                                  ...                \n",
       "57855                                                  2                \n",
       "57856                                                  1                \n",
       "57857                                                NaN                \n",
       "57858                                                  1                \n",
       "57859                                                  1                \n",
       "\n",
       "      Birth Year  \n",
       "0           1960  \n",
       "1           1959  \n",
       "2           1942  \n",
       "3           1960  \n",
       "4           1955  \n",
       "...          ...  \n",
       "57855       1957  \n",
       "57856       1958  \n",
       "57857       1900  \n",
       "57858       1958  \n",
       "57859       1958  \n",
       "\n",
       "[57860 rows x 9 columns]"
      ]
     },
     "execution_count": 3,
     "metadata": {},
     "output_type": "execute_result"
    }
   ],
   "source": [
    "df_demo = df[['SMILE ON 60+ Demographic Information - Gender', 'SMILE ON 60+ Demographic Information - Household Income Level', 'SMILE ON 60+ Demographic Information - How did you first hear about the SMILE ON 60+ program?', 'SMILE ON 60+ Demographic Information - Preferred Language/Language Needed', 'SMILE ON 60+ Demographic Information - Race/Ethnicity', 'SMILE ON 60+ Demographic Information - What other assistance programs are you on?', 'SMILE ON 60+ Demographic Information - When is the last time you visited your dentist?', 'SMILE ON 60+ Demographic Information - # of People in Household', 'Birth Year']]   \n",
    "df_demo"
   ]
  },
  {
   "cell_type": "code",
   "execution_count": 4,
   "id": "10de3858",
   "metadata": {},
   "outputs": [
    {
     "data": {
      "text/html": [
       "<div>\n",
       "<style scoped>\n",
       "    .dataframe tbody tr th:only-of-type {\n",
       "        vertical-align: middle;\n",
       "    }\n",
       "\n",
       "    .dataframe tbody tr th {\n",
       "        vertical-align: top;\n",
       "    }\n",
       "\n",
       "    .dataframe thead th {\n",
       "        text-align: right;\n",
       "    }\n",
       "</style>\n",
       "<table border=\"1\" class=\"dataframe\">\n",
       "  <thead>\n",
       "    <tr style=\"text-align: right;\">\n",
       "      <th></th>\n",
       "      <th>demo_Gender</th>\n",
       "      <th>demo_Income</th>\n",
       "      <th>demo_Referral</th>\n",
       "      <th>demo_Language</th>\n",
       "      <th>demo_Race/Ethnicity</th>\n",
       "      <th>demo_OtherAsst</th>\n",
       "      <th>demo_LastVisit</th>\n",
       "      <th>demo_NumInHouse</th>\n",
       "      <th>demo_Birth Year</th>\n",
       "    </tr>\n",
       "  </thead>\n",
       "  <tbody>\n",
       "    <tr>\n",
       "      <th>0</th>\n",
       "      <td>Female</td>\n",
       "      <td>$0 - $21 280</td>\n",
       "      <td>Other</td>\n",
       "      <td>English</td>\n",
       "      <td>African American</td>\n",
       "      <td>SNAP; SSI/SSDI</td>\n",
       "      <td>NaN</td>\n",
       "      <td>1.0</td>\n",
       "      <td>1960</td>\n",
       "    </tr>\n",
       "    <tr>\n",
       "      <th>1</th>\n",
       "      <td>Female</td>\n",
       "      <td>$0 - $21 280</td>\n",
       "      <td>Dental Clinic Staff</td>\n",
       "      <td>English</td>\n",
       "      <td>Caucasian</td>\n",
       "      <td>NaN</td>\n",
       "      <td>More than 5 years</td>\n",
       "      <td>1.0</td>\n",
       "      <td>1959</td>\n",
       "    </tr>\n",
       "    <tr>\n",
       "      <th>2</th>\n",
       "      <td>Male</td>\n",
       "      <td>$0 - $21 280</td>\n",
       "      <td>Dental Clinic Staff</td>\n",
       "      <td>NaN</td>\n",
       "      <td>Asian</td>\n",
       "      <td>NaN</td>\n",
       "      <td>Less than 12 months</td>\n",
       "      <td>1.0</td>\n",
       "      <td>1942</td>\n",
       "    </tr>\n",
       "    <tr>\n",
       "      <th>3</th>\n",
       "      <td>Male</td>\n",
       "      <td>$0 - $21 280</td>\n",
       "      <td>Dental Clinic Staff</td>\n",
       "      <td>NaN</td>\n",
       "      <td>African American</td>\n",
       "      <td>NaN</td>\n",
       "      <td>More than 5 years</td>\n",
       "      <td>1.0</td>\n",
       "      <td>1960</td>\n",
       "    </tr>\n",
       "    <tr>\n",
       "      <th>4</th>\n",
       "      <td>Female</td>\n",
       "      <td>$0 - $21 280</td>\n",
       "      <td>Dental Clinic Staff</td>\n",
       "      <td>NaN</td>\n",
       "      <td>African American</td>\n",
       "      <td>SSI/SSDI</td>\n",
       "      <td>3 to 5 years</td>\n",
       "      <td>1.0</td>\n",
       "      <td>1955</td>\n",
       "    </tr>\n",
       "    <tr>\n",
       "      <th>...</th>\n",
       "      <td>...</td>\n",
       "      <td>...</td>\n",
       "      <td>...</td>\n",
       "      <td>...</td>\n",
       "      <td>...</td>\n",
       "      <td>...</td>\n",
       "      <td>...</td>\n",
       "      <td>...</td>\n",
       "      <td>...</td>\n",
       "    </tr>\n",
       "    <tr>\n",
       "      <th>57855</th>\n",
       "      <td>Female</td>\n",
       "      <td>NaN</td>\n",
       "      <td>Dental Clinic Staff</td>\n",
       "      <td>NaN</td>\n",
       "      <td>Caucasian</td>\n",
       "      <td>SNAP</td>\n",
       "      <td>Less than 12 months</td>\n",
       "      <td>2</td>\n",
       "      <td>1957</td>\n",
       "    </tr>\n",
       "    <tr>\n",
       "      <th>57856</th>\n",
       "      <td>Female</td>\n",
       "      <td>$0 - $21 280</td>\n",
       "      <td>Dental Clinic Staff</td>\n",
       "      <td>NaN</td>\n",
       "      <td>Caucasian</td>\n",
       "      <td>SSI/SSDI</td>\n",
       "      <td>Less than 12 months</td>\n",
       "      <td>1</td>\n",
       "      <td>1958</td>\n",
       "    </tr>\n",
       "    <tr>\n",
       "      <th>57857</th>\n",
       "      <td>NaN</td>\n",
       "      <td>NaN</td>\n",
       "      <td>NaN</td>\n",
       "      <td>NaN</td>\n",
       "      <td>NaN</td>\n",
       "      <td>NaN</td>\n",
       "      <td>NaN</td>\n",
       "      <td>NaN</td>\n",
       "      <td>1900</td>\n",
       "    </tr>\n",
       "    <tr>\n",
       "      <th>57858</th>\n",
       "      <td>Male</td>\n",
       "      <td>$0 - $21 280</td>\n",
       "      <td>Dental Clinic Staff</td>\n",
       "      <td>English</td>\n",
       "      <td>Caucasian</td>\n",
       "      <td>SNAP</td>\n",
       "      <td>1 to 2 years</td>\n",
       "      <td>1</td>\n",
       "      <td>1958</td>\n",
       "    </tr>\n",
       "    <tr>\n",
       "      <th>57859</th>\n",
       "      <td>Female</td>\n",
       "      <td>$0 - $21 280</td>\n",
       "      <td>Dental Clinic Staff</td>\n",
       "      <td>NaN</td>\n",
       "      <td>Caucasian</td>\n",
       "      <td>SSI/SSDI</td>\n",
       "      <td>Less than 12 months</td>\n",
       "      <td>1</td>\n",
       "      <td>1958</td>\n",
       "    </tr>\n",
       "  </tbody>\n",
       "</table>\n",
       "<p>57860 rows × 9 columns</p>\n",
       "</div>"
      ],
      "text/plain": [
       "      demo_Gender   demo_Income        demo_Referral demo_Language  \\\n",
       "0          Female  $0 - $21 280                Other       English   \n",
       "1          Female  $0 - $21 280  Dental Clinic Staff       English   \n",
       "2            Male  $0 - $21 280  Dental Clinic Staff           NaN   \n",
       "3            Male  $0 - $21 280  Dental Clinic Staff           NaN   \n",
       "4          Female  $0 - $21 280  Dental Clinic Staff           NaN   \n",
       "...           ...           ...                  ...           ...   \n",
       "57855      Female           NaN  Dental Clinic Staff           NaN   \n",
       "57856      Female  $0 - $21 280  Dental Clinic Staff           NaN   \n",
       "57857         NaN           NaN                  NaN           NaN   \n",
       "57858        Male  $0 - $21 280  Dental Clinic Staff       English   \n",
       "57859      Female  $0 - $21 280  Dental Clinic Staff           NaN   \n",
       "\n",
       "      demo_Race/Ethnicity  demo_OtherAsst       demo_LastVisit  \\\n",
       "0        African American  SNAP; SSI/SSDI                  NaN   \n",
       "1               Caucasian             NaN    More than 5 years   \n",
       "2                   Asian             NaN  Less than 12 months   \n",
       "3        African American             NaN    More than 5 years   \n",
       "4        African American        SSI/SSDI         3 to 5 years   \n",
       "...                   ...             ...                  ...   \n",
       "57855           Caucasian            SNAP  Less than 12 months   \n",
       "57856           Caucasian        SSI/SSDI  Less than 12 months   \n",
       "57857                 NaN             NaN                  NaN   \n",
       "57858           Caucasian            SNAP         1 to 2 years   \n",
       "57859           Caucasian        SSI/SSDI  Less than 12 months   \n",
       "\n",
       "      demo_NumInHouse demo_Birth Year  \n",
       "0                 1.0            1960  \n",
       "1                 1.0            1959  \n",
       "2                 1.0            1942  \n",
       "3                 1.0            1960  \n",
       "4                 1.0            1955  \n",
       "...               ...             ...  \n",
       "57855               2            1957  \n",
       "57856               1            1958  \n",
       "57857             NaN            1900  \n",
       "57858               1            1958  \n",
       "57859               1            1958  \n",
       "\n",
       "[57860 rows x 9 columns]"
      ]
     },
     "execution_count": 4,
     "metadata": {},
     "output_type": "execute_result"
    }
   ],
   "source": [
    "df_demo = df_demo.rename(columns={'SMILE ON 60+ Demographic Information - Gender': 'demo_Gender', 'SMILE ON 60+ Demographic Information - Household Income Level': 'demo_Income', 'SMILE ON 60+ Demographic Information - How did you first hear about the SMILE ON 60+ program?': 'demo_Referral', 'SMILE ON 60+ Demographic Information - Preferred Language/Language Needed': 'demo_Language', 'SMILE ON 60+ Demographic Information - Race/Ethnicity': 'demo_Race/Ethnicity', 'SMILE ON 60+ Demographic Information - What other assistance programs are you on?': 'demo_OtherAsst', 'SMILE ON 60+ Demographic Information - When is the last time you visited your dentist?': 'demo_LastVisit', 'SMILE ON 60+ Demographic Information - # of People in Household':'demo_NumInHouse', 'Birth Year':'demo_Birth Year' })\n",
    "df_demo"
   ]
  },
  {
   "cell_type": "code",
   "execution_count": 5,
   "id": "a9499757",
   "metadata": {},
   "outputs": [
    {
     "data": {
      "text/plain": [
       "$0 - $21 280     42590\n",
       "$21246-$24280     7332\n",
       "$24281-$27315     2323\n",
       "$28806-$32920     2016\n",
       "$32921-$37035      645\n",
       "$36366-$41560      236\n",
       "$41561-$46755      206\n",
       "$43926-$50200       58\n",
       "$50201-$56475       55\n",
       "$51486-$58840       26\n",
       "$58841-$66195       22\n",
       "$59046-$67480       18\n",
       "$76121-$85635        8\n",
       "$84761-$95355        4\n",
       "$66606-$76120        4\n",
       "$67481-$75915        3\n",
       "$74166-$84760        2\n",
       "Name: demo_Income, dtype: int64"
      ]
     },
     "execution_count": 5,
     "metadata": {},
     "output_type": "execute_result"
    }
   ],
   "source": [
    "df_demo.demo_Income.value_counts()"
   ]
  },
  {
   "cell_type": "markdown",
   "id": "5ff81f41",
   "metadata": {},
   "source": [
    "##SOURCE: https://interfaithdental.com/smile-on-60/\n",
    "  Am I eligible for SMILE ON 60+?\n",
    "\n",
    "The client must be a minimum of 60 years old;\n",
    "be a Tennessee resident;\n",
    "have an income level below 200% poverty, and\n",
    "be dentally uninsured.      \n",
    "    Per https://www.payingforseniorcare.com/federal-poverty-level for TN in 2021 for 1 - 4 person houehold threshold is $25,760 - $62,080"
   ]
  },
  {
   "cell_type": "code",
   "execution_count": 6,
   "id": "69830750",
   "metadata": {},
   "outputs": [
    {
     "name": "stdout",
     "output_type": "stream",
     "text": [
      "<class 'pandas.core.frame.DataFrame'>\n",
      "RangeIndex: 57860 entries, 0 to 57859\n",
      "Data columns (total 9 columns):\n",
      " #   Column               Non-Null Count  Dtype \n",
      "---  ------               --------------  ----- \n",
      " 0   demo_Gender          57339 non-null  object\n",
      " 1   demo_Income          55548 non-null  object\n",
      " 2   demo_Referral        55060 non-null  object\n",
      " 3   demo_Language        17364 non-null  object\n",
      " 4   demo_Race/Ethnicity  51598 non-null  object\n",
      " 5   demo_OtherAsst       28606 non-null  object\n",
      " 6   demo_LastVisit       54296 non-null  object\n",
      " 7   demo_NumInHouse      56239 non-null  object\n",
      " 8   demo_Birth Year      57860 non-null  object\n",
      "dtypes: object(9)\n",
      "memory usage: 4.0+ MB\n"
     ]
    }
   ],
   "source": [
    "df_demo.info()"
   ]
  },
  {
   "cell_type": "code",
   "execution_count": 7,
   "id": "d1c98008",
   "metadata": {},
   "outputs": [
    {
     "data": {
      "text/plain": [
       "Dental Clinic Staff                      33302\n",
       "Other                                     9780\n",
       "This encounter                            3015\n",
       "Wisdom Tooth Project Presentation         2160\n",
       "Senior Center                             2050\n",
       "SMILE ON CDHC                             1678\n",
       "TV                                        1470\n",
       "Flyer                                      786\n",
       "Newspaper                                  297\n",
       "Dental Hotline                             259\n",
       "SHIP Navigator                             129\n",
       "Health Assist                               68\n",
       "Radio                                       60\n",
       "Tennessee Alliance for Legal Services        4\n",
       "Habitat for Humanity Greater Memphis         2\n",
       "Name: demo_Referral, dtype: int64"
      ]
     },
     "execution_count": 7,
     "metadata": {},
     "output_type": "execute_result"
    }
   ],
   "source": [
    "df_demo.demo_Referral.value_counts()"
   ]
  },
  {
   "cell_type": "code",
   "execution_count": 8,
   "id": "9fe94b3e",
   "metadata": {},
   "outputs": [
    {
     "data": {
      "text/plain": [
       "English    14013\n",
       "Spanish     2127\n",
       "Other        730\n",
       "Arabic       494\n",
       "Name: demo_Language, dtype: int64"
      ]
     },
     "execution_count": 8,
     "metadata": {},
     "output_type": "execute_result"
    }
   ],
   "source": [
    "df_demo. demo_Language.value_counts()"
   ]
  },
  {
   "cell_type": "code",
   "execution_count": 9,
   "id": "9c5d9f8c",
   "metadata": {},
   "outputs": [
    {
     "data": {
      "text/plain": [
       "Caucasian                            32248\n",
       "African American                     14670\n",
       "Hispanic                              2657\n",
       "Asian                                  836\n",
       "Unknown                                833\n",
       "American Indian and Alaska Native      170\n",
       "Multi-racial                           147\n",
       "Pacific Islander                        37\n",
       "Name: demo_Race/Ethnicity, dtype: int64"
      ]
     },
     "execution_count": 9,
     "metadata": {},
     "output_type": "execute_result"
    }
   ],
   "source": [
    "df_demo['demo_Race/Ethnicity'].value_counts()"
   ]
  },
  {
   "cell_type": "code",
   "execution_count": 10,
   "id": "dfe23e8d",
   "metadata": {},
   "outputs": [
    {
     "data": {
      "text/plain": [
       "SSI/SSDI                               12198\n",
       "SNAP                                    3967\n",
       "TennCare                                2061\n",
       "SNAP; TennCare                          1805\n",
       "SNAP; SSI/SSDI                          1792\n",
       "SNAP; TennCare; SSI/SSDI                1657\n",
       "TennCare; SSI/SSDI                      1443\n",
       "Section 8                                920\n",
       "SNAP; Section 8                          615\n",
       "SNAP; TennCare; Section 8; SSI/SSDI      523\n",
       "SNAP; TennCare; Section 8                483\n",
       "Section 8; SSI/SSDI                      443\n",
       "SNAP; Section 8; SSI/SSDI                255\n",
       "TennCare; Section 8; SSI/SSDI            227\n",
       "TennCare; Section 8                      217\n",
       "Name: demo_OtherAsst, dtype: int64"
      ]
     },
     "execution_count": 10,
     "metadata": {},
     "output_type": "execute_result"
    }
   ],
   "source": [
    "df_demo.demo_OtherAsst.value_counts()"
   ]
  },
  {
   "cell_type": "code",
   "execution_count": 11,
   "id": "03055958",
   "metadata": {},
   "outputs": [
    {
     "data": {
      "text/plain": [
       "Less than 12 months    22890\n",
       "More than 5 years      13365\n",
       "1 to 2 years           10666\n",
       "3 to 5 years            7375\n",
       "Name: demo_LastVisit, dtype: int64"
      ]
     },
     "execution_count": 11,
     "metadata": {},
     "output_type": "execute_result"
    }
   ],
   "source": [
    "df_demo['demo_LastVisit'].value_counts()"
   ]
  },
  {
   "cell_type": "code",
   "execution_count": 12,
   "id": "78ba7836",
   "metadata": {},
   "outputs": [
    {
     "data": {
      "text/plain": [
       "Female         35855\n",
       "Male           21462\n",
       "Transgender       21\n",
       "Other              1\n",
       "Name: demo_Gender, dtype: int64"
      ]
     },
     "execution_count": 12,
     "metadata": {},
     "output_type": "execute_result"
    }
   ],
   "source": [
    "df_demo['demo_Gender'].value_counts()"
   ]
  },
  {
   "cell_type": "code",
   "execution_count": 13,
   "id": "4d8c6401",
   "metadata": {},
   "outputs": [
    {
     "data": {
      "text/plain": [
       "1957    3990\n",
       "1958    3774\n",
       "1956    3659\n",
       "1959    3289\n",
       "1955    2995\n",
       "        ... \n",
       "1968       1\n",
       "1966       1\n",
       "2354       1\n",
       "2019       1\n",
       "1919       1\n",
       "Name: demo_Birth Year, Length: 124, dtype: int64"
      ]
     },
     "execution_count": 13,
     "metadata": {},
     "output_type": "execute_result"
    }
   ],
   "source": [
    "df_demo['demo_Birth Year'].value_counts()"
   ]
  },
  {
   "cell_type": "markdown",
   "id": "47c00b33",
   "metadata": {},
   "source": [
    "**Finding the unique values under Birth year column and replacing irregular information with number 1800 in order to perform aggregations"
   ]
  },
  {
   "cell_type": "code",
   "execution_count": 14,
   "id": "add33244",
   "metadata": {},
   "outputs": [
    {
     "data": {
      "text/plain": [
       "array([1960, 1959, 1942, 1955, 1958, 1948, 1961, 1945, 1956, 1953, 1935,\n",
       "       1943, 1952, 1950, 1954, 1951, 1957, 1941, 1947, 1944, 1937, 2021,\n",
       "       1938, 1949, 1940, 1946, 1939, 1932, 1931, 1929, 1930, 1934, 1900,\n",
       "       1933, 1936, 1922, 1965, 1927, 1928, 1924, 1967, 1923, 1925, 1921,\n",
       "       1926, 2354, '1944', '1947', '1960', '1958', '1951', '1953', '1955',\n",
       "       '1957', '1959', '1940', '1943', '1952', '1954', '1956', '1941',\n",
       "       '1949', '1931', '1950', '1946', '1948', '1927', '1935', '1934',\n",
       "       '1930', '1939', '1945', '1933', '1936', '1937', '1942', '1923',\n",
       "       '1926', '1938', '1932', '1900', '#NUM!', '1929', '1925', '2020',\n",
       "       '5245', '1924', '1963', '1928', '1921', 1963, 1968, 2019, 2041,\n",
       "       1964, 1962, 1920, 2020, 1919, 1978, 1971, '1961', '1962', '1922',\n",
       "       '1975', '1920', '1967', '#VALUE!', '1968', '1976', '1919', '1964',\n",
       "       '1971', '1972', '2019', '1991', '1985', '1966', 2298, 1970, 1994,\n",
       "       1918, 1983, 2018], dtype=object)"
      ]
     },
     "execution_count": 14,
     "metadata": {},
     "output_type": "execute_result"
    }
   ],
   "source": [
    "df_demo['demo_Birth Year'].unique()"
   ]
  },
  {
   "cell_type": "code",
   "execution_count": 15,
   "id": "5c1daee6",
   "metadata": {},
   "outputs": [],
   "source": [
    "df_demo['demo_Birth Year'].replace(['#NUM!','#VALUE!', 'None' ], 'Missing', inplace=True)"
   ]
  },
  {
   "cell_type": "code",
   "execution_count": 16,
   "id": "ee3e6df0",
   "metadata": {},
   "outputs": [
    {
     "ename": "ValueError",
     "evalue": "Unable to parse string \"Missing\" at position 17417",
     "output_type": "error",
     "traceback": [
      "\u001b[1;31m---------------------------------------------------------------------------\u001b[0m",
      "\u001b[1;31mValueError\u001b[0m                                Traceback (most recent call last)",
      "\u001b[1;32mpandas\\_libs\\lib.pyx\u001b[0m in \u001b[0;36mpandas._libs.lib.maybe_convert_numeric\u001b[1;34m()\u001b[0m\n",
      "\u001b[1;31mValueError\u001b[0m: Unable to parse string \"Missing\"",
      "\nDuring handling of the above exception, another exception occurred:\n",
      "\u001b[1;31mValueError\u001b[0m                                Traceback (most recent call last)",
      "\u001b[1;32m<ipython-input-16-001004de84fc>\u001b[0m in \u001b[0;36m<module>\u001b[1;34m\u001b[0m\n\u001b[1;32m----> 1\u001b[1;33m \u001b[0mdf_demo\u001b[0m\u001b[1;33m[\u001b[0m\u001b[1;34m'demo_Birth Year'\u001b[0m\u001b[1;33m]\u001b[0m\u001b[1;33m=\u001b[0m\u001b[0mpd\u001b[0m\u001b[1;33m.\u001b[0m\u001b[0mto_numeric\u001b[0m\u001b[1;33m(\u001b[0m\u001b[0mdf_demo\u001b[0m\u001b[1;33m[\u001b[0m\u001b[1;34m'demo_Birth Year'\u001b[0m\u001b[1;33m]\u001b[0m\u001b[1;33m)\u001b[0m\u001b[1;33m\u001b[0m\u001b[1;33m\u001b[0m\u001b[0m\n\u001b[0m",
      "\u001b[1;32m~\\Anaconda3\\lib\\site-packages\\pandas\\core\\tools\\numeric.py\u001b[0m in \u001b[0;36mto_numeric\u001b[1;34m(arg, errors, downcast)\u001b[0m\n\u001b[0;32m    152\u001b[0m         \u001b[0mcoerce_numeric\u001b[0m \u001b[1;33m=\u001b[0m \u001b[0merrors\u001b[0m \u001b[1;32mnot\u001b[0m \u001b[1;32min\u001b[0m \u001b[1;33m(\u001b[0m\u001b[1;34m\"ignore\"\u001b[0m\u001b[1;33m,\u001b[0m \u001b[1;34m\"raise\"\u001b[0m\u001b[1;33m)\u001b[0m\u001b[1;33m\u001b[0m\u001b[1;33m\u001b[0m\u001b[0m\n\u001b[0;32m    153\u001b[0m         \u001b[1;32mtry\u001b[0m\u001b[1;33m:\u001b[0m\u001b[1;33m\u001b[0m\u001b[1;33m\u001b[0m\u001b[0m\n\u001b[1;32m--> 154\u001b[1;33m             values = lib.maybe_convert_numeric(\n\u001b[0m\u001b[0;32m    155\u001b[0m                 \u001b[0mvalues\u001b[0m\u001b[1;33m,\u001b[0m \u001b[0mset\u001b[0m\u001b[1;33m(\u001b[0m\u001b[1;33m)\u001b[0m\u001b[1;33m,\u001b[0m \u001b[0mcoerce_numeric\u001b[0m\u001b[1;33m=\u001b[0m\u001b[0mcoerce_numeric\u001b[0m\u001b[1;33m\u001b[0m\u001b[1;33m\u001b[0m\u001b[0m\n\u001b[0;32m    156\u001b[0m             )\n",
      "\u001b[1;32mpandas\\_libs\\lib.pyx\u001b[0m in \u001b[0;36mpandas._libs.lib.maybe_convert_numeric\u001b[1;34m()\u001b[0m\n",
      "\u001b[1;31mValueError\u001b[0m: Unable to parse string \"Missing\" at position 17417"
     ]
    }
   ],
   "source": [
    "df_demo['demo_Birth Year']=pd.to_numeric(df_demo['demo_Birth Year'])"
   ]
  },
  {
   "cell_type": "code",
   "execution_count": null,
   "id": "529f79c6",
   "metadata": {},
   "outputs": [],
   "source": [
    "df_demo.describe()"
   ]
  },
  {
   "cell_type": "code",
   "execution_count": null,
   "id": "c1bd45ed",
   "metadata": {},
   "outputs": [],
   "source": [
    "df_demo['demo_NumInHouse'].unique()"
   ]
  },
  {
   "cell_type": "code",
   "execution_count": null,
   "id": "ba7c9979",
   "metadata": {},
   "outputs": [],
   "source": [
    "\n",
    "#import re\n",
    "#df_demo['demo_NumInHouse']=re.sub(r\"[^\\w\\s]\", '', df_demo['demo_NumInHouse'])\n",
    "\n",
    "df_demo = df_demo.replace('_', '')\n",
    "df_demo['demo_NumInHouse'].unique()"
   ]
  },
  {
   "cell_type": "code",
   "execution_count": null,
   "id": "f81bd40e",
   "metadata": {},
   "outputs": [],
   "source": [
    "df_demo.info()"
   ]
  },
  {
   "cell_type": "code",
   "execution_count": null,
   "id": "35e1b7d3",
   "metadata": {},
   "outputs": [],
   "source": [
    "pd.DatetimeIndex(df_demo['demo_Birth Year']).year"
   ]
  },
  {
   "cell_type": "code",
   "execution_count": null,
   "id": "a86bbd82",
   "metadata": {},
   "outputs": [],
   "source": [
    "df_demo.isna()"
   ]
  },
  {
   "cell_type": "code",
   "execution_count": null,
   "id": "5c812208",
   "metadata": {},
   "outputs": [],
   "source": [
    "df_demo['demo_NumInHouse'].unique()"
   ]
  },
  {
   "cell_type": "code",
   "execution_count": null,
   "id": "e0d54aef",
   "metadata": {},
   "outputs": [],
   "source": [
    "df_demo.info()"
   ]
  },
  {
   "cell_type": "code",
   "execution_count": null,
   "id": "d9ec529a",
   "metadata": {},
   "outputs": [],
   "source": [
    "#df_demo['demo_Income']=df_demo['demo_Income'].astype(float)\n",
    "\n",
    "#import re\n",
    "#df_demo['demo_Income']=int(float(df_demo['demo_Income']))\n",
    "#df_demo[[\"demo_Income\", \"demo_NumInHouse\"]] = df_demo[[\"demo_Income\", \"demo_NumInHouse\"]].apply(pd.to_numeric)\n",
    "#df_demo[\"demo_Income\"] = pd.to_numeric(df_demo[\"demo_Income\"])\n",
    "#df_demo[\"demo_NumInHouse\"] = df_demo[\"demo_NumInHouse\"].replace(r'\\W+', '.0')\n",
    "#df_demo[\"demo_NumInHouse\"] = pd.to_numeric(df_demo[\"demo_NumInHouse\"])"
   ]
  },
  {
   "cell_type": "code",
   "execution_count": null,
   "id": "1dd8568b",
   "metadata": {},
   "outputs": [],
   "source": [
    "pivot_demo = pd.pivot_table (data=df_demo, index='demo_Gender')#, ['demo_Birth Year'], aggfunc=np.mean)\n",
    "pivot_demo"
   ]
  },
  {
   "cell_type": "code",
   "execution_count": null,
   "id": "6a8d8b87",
   "metadata": {},
   "outputs": [],
   "source": [
    "pivot_demo = pd.pivot_table (data=df_demo, index='demo_Gender', values = 'demo_NumInHouse')"
   ]
  }
 ],
 "metadata": {
  "kernelspec": {
   "display_name": "Python 3",
   "language": "python",
   "name": "python3"
  },
  "language_info": {
   "codemirror_mode": {
    "name": "ipython",
    "version": 3
   },
   "file_extension": ".py",
   "mimetype": "text/x-python",
   "name": "python",
   "nbconvert_exporter": "python",
   "pygments_lexer": "ipython3",
   "version": "3.8.8"
  }
 },
 "nbformat": 4,
 "nbformat_minor": 5
}
