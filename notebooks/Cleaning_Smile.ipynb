{
 "cells": [
  {
   "cell_type": "code",
   "execution_count": null,
   "id": "da0bb5ae",
   "metadata": {},
   "outputs": [],
   "source": [
    "import pandas as pd\n",
    "import numpy as np\n",
    "import matplotlib.pyplot as plt\n",
    "import seaborn as sns\n",
    "%matplotlib inline"
   ]
  },
  {
   "cell_type": "code",
   "execution_count": null,
   "id": "e8350c16",
   "metadata": {},
   "outputs": [],
   "source": [
    "smile_df = pd.read_csv('../data/Smileon.2021.10.17.csv')\n",
    "smile_df.head(10)"
   ]
  },
  {
   "cell_type": "code",
   "execution_count": null,
   "id": "59b990d7",
   "metadata": {},
   "outputs": [],
   "source": [
    "print(smile_df)"
   ]
  },
  {
   "cell_type": "code",
   "execution_count": null,
   "id": "e01ee9d9",
   "metadata": {},
   "outputs": [],
   "source": [
    "print(smile_df.columns.tolist())"
   ]
  },
  {
   "cell_type": "markdown",
   "id": "89117b88",
   "metadata": {},
   "source": [
    "## Removing any collumns that only has null values"
   ]
  },
  {
   "cell_type": "code",
   "execution_count": null,
   "id": "8b6c0370",
   "metadata": {},
   "outputs": [],
   "source": [
    "smile_df.dropna(axis=1,how='all')"
   ]
  },
  {
   "cell_type": "markdown",
   "id": "085b203f",
   "metadata": {},
   "source": [
    "## Figuring out how to rename everything accordingly"
   ]
  },
  {
   "cell_type": "code",
   "execution_count": null,
   "id": "f4bc4376",
   "metadata": {},
   "outputs": [],
   "source": [
    "smile_df.columns = smile_df.columns.str.replace('Demographic Information - ', 'di_')"
   ]
  },
  {
   "cell_type": "code",
   "execution_count": null,
   "id": "92f5e774",
   "metadata": {},
   "outputs": [],
   "source": [
    "smile_df.columns = smile_df.columns.str.replace(r'SMILE ON 60\\+ ', '')\n",
    "smile_df.columns = smile_df.columns.str.replace('Oral Care Encounter - ', 'oec_')\n",
    "smile_df.columns = smile_df.columns.str.replace(' - Quantity', '')\n",
    "smile_df.columns = smile_df.columns.str.replace('Demographic Information - ', 'di_')\n",
    "smile_df.columns = smile_df.columns.str.replace('Base-line Oral and Conditions Questions - ', 'bocq_')\n",
    "smile_df.columns = smile_df.columns.str.replace('Screening - ', 'scrn_')\n",
    "smile_df.columns = smile_df.columns.str.replace('Treatment Plan - ', 'tp_')\n",
    "smile_df.columns = smile_df.columns.str.replace('Presumptive Eligibility - ', 'pe_')\n",
    "smile_df.columns = smile_df.columns.str.replace('Case Management Information - ', 'cmi_')\n",
    "smile_df.columns = smile_df.columns.str.replace('Clinic Information - ', 'ci_')\n",
    "smile_df.columns = smile_df.columns.str.replace('Verification of Eligibility - ', 'vi_')\n",
    "smile_df.columns = smile_df.columns.str.replace('Site Information - ', 'si_')\n",
    "\n"
   ]
  },
  {
   "cell_type": "code",
   "execution_count": null,
   "id": "32e7dbef",
   "metadata": {},
   "outputs": [],
   "source": [
    "smile_df.head(10)"
   ]
  },
  {
   "cell_type": "code",
   "execution_count": null,
   "id": "58a2770f",
   "metadata": {},
   "outputs": [],
   "source": []
  }
 ],
 "metadata": {
  "kernelspec": {
   "display_name": "Python 3",
   "language": "python",
   "name": "python3"
  },
  "language_info": {
   "codemirror_mode": {
    "name": "ipython",
    "version": 3
   },
   "file_extension": ".py",
   "mimetype": "text/x-python",
   "name": "python",
   "nbconvert_exporter": "python",
   "pygments_lexer": "ipython3",
   "version": "3.8.8"
  }
 },
 "nbformat": 4,
 "nbformat_minor": 5
}
