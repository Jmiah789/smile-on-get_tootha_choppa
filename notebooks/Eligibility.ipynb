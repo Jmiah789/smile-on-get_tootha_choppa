{
 "cells": [
  {
   "cell_type": "markdown",
   "id": "ac1ae0a2",
   "metadata": {},
   "source": [
    "#### Smile On 60+ is a statewide initiative in Tennessee with the goal of improving the overall health of low-income, mobile seniors age 60+ through access to oral healthcare services and community education.\n",
    "\n",
    "More information can be found:\n",
    "https://www.tn.gov/aging/administration/seniortrust-eldertrust.html\n",
    "https://interfaithdentalclinic.com/smile-on-60/\n",
    "\n",
    "___Data Questions\n",
    "For this project you are tasked with using this data to determine the effectiveness of Smile On. Use the data provided to answer these questions:\n",
    "\n",
    "1. Who has Smile On been serving (number of patients, age, gender, etc.)?\n",
    "2. Explore the impact of the Smile On program and the outcomes that are produced for clients. Are clients seeing improvement through the Smile On program?\n",
    "3. Is there any correlation between procedures given and improved outcomes?\n",
    "\n",
    "Beyond the questions outlined above, you are encouraged to continue to explore the data to understand the effectiveness of the Smile On program and to try and see how different factors can impact the clinical results (eg. how do transportation options for clinics affect outcomes?).\n",
    "\n",
    "__Smile On Data\n",
    "Information about patients is gathered during different interactions (initial visit, checkups, etc.). The data you have been given include records spanning from May of 2018 through September of 2021. There is also a data dictionary that contains some useful information about the different columns."
   ]
  },
  {
   "cell_type": "code",
   "execution_count": 1,
   "id": "d3866fad",
   "metadata": {},
   "outputs": [],
   "source": [
    "import numpy as np\n",
    "import pandas as pd\n",
    "pd.set_option('display.max_columns', None)"
   ]
  },
  {
   "cell_type": "code",
   "execution_count": 2,
   "id": "814e7c11",
   "metadata": {},
   "outputs": [
    {
     "name": "stderr",
     "output_type": "stream",
     "text": [
      "C:\\Users\\jojuk\\Anaconda3\\lib\\site-packages\\IPython\\core\\interactiveshell.py:3165: DtypeWarning: Columns (2,32,36,53,58,59,77,83,89,93,105,127,141,144) have mixed types.Specify dtype option on import or set low_memory=False.\n",
      "  has_raised = await self.run_ast_nodes(code_ast.body, cell_name,\n"
     ]
    }
   ],
   "source": [
    "df= pd.read_csv(r\"C:\\Users\\jojuk\\Documents\\git\\projects\\smile-on-get_tootha_choppa\\data\\Smileon.csv\")"
   ]
  },
  {
   "cell_type": "markdown",
   "id": "a8e43a40",
   "metadata": {},
   "source": [
    "**Creating a subset datframe using elgibility questions"
   ]
  },
  {
   "cell_type": "code",
   "execution_count": 3,
   "id": "9bc2944a",
   "metadata": {},
   "outputs": [],
   "source": [
    "df_elig = df[['SMILE ON 60+ Presumptive Eligibility - Dental Insurance?', \n",
    "              'SMILE ON 60+ Presumptive Eligibility - Do they pre-qualify for SMILE ON 60+?',\n",
    "              'SMILE ON 60+ Presumptive Eligibility - What is the next step for clients encounter, A?', \n",
    "              'SMILE ON 60+ Presumptive Eligibility - What is the next step for clients encounter, B?']]"
   ]
  },
  {
   "cell_type": "markdown",
   "id": "291ac218",
   "metadata": {},
   "source": [
    "**Renaming existing csv column headers"
   ]
  },
  {
   "cell_type": "code",
   "execution_count": 4,
   "id": "e169da19",
   "metadata": {},
   "outputs": [
    {
     "data": {
      "text/html": [
       "<div>\n",
       "<style scoped>\n",
       "    .dataframe tbody tr th:only-of-type {\n",
       "        vertical-align: middle;\n",
       "    }\n",
       "\n",
       "    .dataframe tbody tr th {\n",
       "        vertical-align: top;\n",
       "    }\n",
       "\n",
       "    .dataframe thead th {\n",
       "        text-align: right;\n",
       "    }\n",
       "</style>\n",
       "<table border=\"1\" class=\"dataframe\">\n",
       "  <thead>\n",
       "    <tr style=\"text-align: right;\">\n",
       "      <th></th>\n",
       "      <th>elig_Insurance</th>\n",
       "      <th>elig_Prequalify</th>\n",
       "      <th>elig_NextStepsA</th>\n",
       "      <th>elig_NextStepsB</th>\n",
       "    </tr>\n",
       "  </thead>\n",
       "  <tbody>\n",
       "    <tr>\n",
       "      <th>0</th>\n",
       "      <td>No</td>\n",
       "      <td>Yes</td>\n",
       "      <td>Continued with Navigation</td>\n",
       "      <td>NaN</td>\n",
       "    </tr>\n",
       "    <tr>\n",
       "      <th>1</th>\n",
       "      <td>No</td>\n",
       "      <td>Yes</td>\n",
       "      <td>Continued with Navigation</td>\n",
       "      <td>NaN</td>\n",
       "    </tr>\n",
       "    <tr>\n",
       "      <th>2</th>\n",
       "      <td>No</td>\n",
       "      <td>Yes</td>\n",
       "      <td>NaN</td>\n",
       "      <td>Continued with Navigation</td>\n",
       "    </tr>\n",
       "    <tr>\n",
       "      <th>3</th>\n",
       "      <td>No</td>\n",
       "      <td>Yes</td>\n",
       "      <td>NaN</td>\n",
       "      <td>Continued with Navigation</td>\n",
       "    </tr>\n",
       "    <tr>\n",
       "      <th>4</th>\n",
       "      <td>No</td>\n",
       "      <td>Yes</td>\n",
       "      <td>NaN</td>\n",
       "      <td>Continued with Navigation</td>\n",
       "    </tr>\n",
       "    <tr>\n",
       "      <th>...</th>\n",
       "      <td>...</td>\n",
       "      <td>...</td>\n",
       "      <td>...</td>\n",
       "      <td>...</td>\n",
       "    </tr>\n",
       "    <tr>\n",
       "      <th>57855</th>\n",
       "      <td>No</td>\n",
       "      <td>Yes</td>\n",
       "      <td>NaN</td>\n",
       "      <td>Continued with Navigation</td>\n",
       "    </tr>\n",
       "    <tr>\n",
       "      <th>57856</th>\n",
       "      <td>No</td>\n",
       "      <td>Yes</td>\n",
       "      <td>NaN</td>\n",
       "      <td>Continued with Navigation</td>\n",
       "    </tr>\n",
       "    <tr>\n",
       "      <th>57857</th>\n",
       "      <td>NaN</td>\n",
       "      <td>NaN</td>\n",
       "      <td>NaN</td>\n",
       "      <td>NaN</td>\n",
       "    </tr>\n",
       "    <tr>\n",
       "      <th>57858</th>\n",
       "      <td>No</td>\n",
       "      <td>Yes</td>\n",
       "      <td>Continued with Navigation</td>\n",
       "      <td>NaN</td>\n",
       "    </tr>\n",
       "    <tr>\n",
       "      <th>57859</th>\n",
       "      <td>No</td>\n",
       "      <td>Yes</td>\n",
       "      <td>NaN</td>\n",
       "      <td>Continued with Navigation</td>\n",
       "    </tr>\n",
       "  </tbody>\n",
       "</table>\n",
       "<p>57860 rows × 4 columns</p>\n",
       "</div>"
      ],
      "text/plain": [
       "      elig_Insurance elig_Prequalify            elig_NextStepsA  \\\n",
       "0                 No             Yes  Continued with Navigation   \n",
       "1                 No             Yes  Continued with Navigation   \n",
       "2                 No             Yes                        NaN   \n",
       "3                 No             Yes                        NaN   \n",
       "4                 No             Yes                        NaN   \n",
       "...              ...             ...                        ...   \n",
       "57855             No             Yes                        NaN   \n",
       "57856             No             Yes                        NaN   \n",
       "57857            NaN             NaN                        NaN   \n",
       "57858             No             Yes  Continued with Navigation   \n",
       "57859             No             Yes                        NaN   \n",
       "\n",
       "                 elig_NextStepsB  \n",
       "0                            NaN  \n",
       "1                            NaN  \n",
       "2      Continued with Navigation  \n",
       "3      Continued with Navigation  \n",
       "4      Continued with Navigation  \n",
       "...                          ...  \n",
       "57855  Continued with Navigation  \n",
       "57856  Continued with Navigation  \n",
       "57857                        NaN  \n",
       "57858                        NaN  \n",
       "57859  Continued with Navigation  \n",
       "\n",
       "[57860 rows x 4 columns]"
      ]
     },
     "execution_count": 4,
     "metadata": {},
     "output_type": "execute_result"
    }
   ],
   "source": [
    "df_elig = df_elig.rename(columns={'SMILE ON 60+ Presumptive Eligibility - Dental Insurance?': 'elig_Insurance', 'SMILE ON 60+ Presumptive Eligibility - Do they pre-qualify for SMILE ON 60+?': 'elig_Prequalify', 'SMILE ON 60+ Presumptive Eligibility - What is the next step for clients encounter, A?': 'elig_NextStepsA' , 'SMILE ON 60+ Presumptive Eligibility - What is the next step for clients encounter, B?': 'elig_NextStepsB'})\n",
    "df_elig"
   ]
  },
  {
   "cell_type": "code",
   "execution_count": 5,
   "id": "37927a90",
   "metadata": {},
   "outputs": [],
   "source": [
    "df_elig.replace(np.nan, 10, inplace=True) #REPLACING ALL NAN VALUES WITH 10"
   ]
  },
  {
   "cell_type": "code",
   "execution_count": 6,
   "id": "0c21ca81",
   "metadata": {},
   "outputs": [
    {
     "data": {
      "text/plain": [
       "(57860, 4)"
      ]
     },
     "execution_count": 6,
     "metadata": {},
     "output_type": "execute_result"
    }
   ],
   "source": [
    "df_elig.shape"
   ]
  },
  {
   "cell_type": "code",
   "execution_count": 7,
   "id": "2ac28076",
   "metadata": {},
   "outputs": [
    {
     "name": "stdout",
     "output_type": "stream",
     "text": [
      "<class 'pandas.core.frame.DataFrame'>\n",
      "RangeIndex: 57860 entries, 0 to 57859\n",
      "Data columns (total 4 columns):\n",
      " #   Column           Non-Null Count  Dtype \n",
      "---  ------           --------------  ----- \n",
      " 0   elig_Insurance   57860 non-null  object\n",
      " 1   elig_Prequalify  57860 non-null  object\n",
      " 2   elig_NextStepsA  57860 non-null  object\n",
      " 3   elig_NextStepsB  57860 non-null  object\n",
      "dtypes: object(4)\n",
      "memory usage: 1.8+ MB\n"
     ]
    }
   ],
   "source": [
    "df_elig.info()"
   ]
  },
  {
   "cell_type": "markdown",
   "id": "b6479974",
   "metadata": {},
   "source": [
    "**To find the number of missing values, as a percentage of each column, in the data set- first 100 rows"
   ]
  },
  {
   "cell_type": "code",
   "execution_count": 8,
   "id": "403333bb",
   "metadata": {},
   "outputs": [
    {
     "name": "stdout",
     "output_type": "stream",
     "text": [
      "elig_Insurance - 0%\n",
      "elig_Prequalify - 0%\n",
      "elig_NextStepsA - 0%\n",
      "elig_NextStepsB - 0%\n"
     ]
    }
   ],
   "source": [
    "import numpy as np\n",
    "for col in df_elig.columns:\n",
    "    pct_missing = np.mean(df_elig[col].isnull())\n",
    "    print('{} - {}%'.format(col, round(pct_missing*100)))"
   ]
  },
  {
   "cell_type": "markdown",
   "id": "cdd2ba72",
   "metadata": {},
   "source": [
    "**Missing Data Heatmap - yellow indicates missing data, y axis shows number of missing observations"
   ]
  },
  {
   "cell_type": "code",
   "execution_count": 9,
   "id": "87372f1e",
   "metadata": {},
   "outputs": [
    {
     "data": {
      "text/plain": [
       "<AxesSubplot:>"
      ]
     },
     "execution_count": 9,
     "metadata": {},
     "output_type": "execute_result"
    },
    {
     "data": {
      "image/png": "[encoded data removed]",
      "text/plain": [
       "<Figure size 432x288 with 2 Axes>"
      ]
     },
     "metadata": {
      "needs_background": "light"
     },
     "output_type": "display_data"
    }
   ],
   "source": [
    "import seaborn as sns\n",
    "figsize=(20,20)\n",
    "cols = df_elig.columns[:50]\n",
    "colours = ['#000099', '#ffff00']\n",
    "sns.heatmap(df_elig[cols].isnull(), cmap=sns.color_palette(colours))"
   ]
  },
  {
   "cell_type": "markdown",
   "id": "2e38e955",
   "metadata": {},
   "source": [
    "**Duplicates based on  Key Features - removes duplicate data based on a set of unique identifiers"
   ]
  },
  {
   "cell_type": "code",
   "execution_count": 10,
   "id": "f16cd237",
   "metadata": {},
   "outputs": [
    {
     "data": {
      "text/html": [
       "<div>\n",
       "<style scoped>\n",
       "    .dataframe tbody tr th:only-of-type {\n",
       "        vertical-align: middle;\n",
       "    }\n",
       "\n",
       "    .dataframe tbody tr th {\n",
       "        vertical-align: top;\n",
       "    }\n",
       "\n",
       "    .dataframe thead th {\n",
       "        text-align: right;\n",
       "    }\n",
       "</style>\n",
       "<table border=\"1\" class=\"dataframe\">\n",
       "  <thead>\n",
       "    <tr style=\"text-align: right;\">\n",
       "      <th></th>\n",
       "      <th>elig_Insurance</th>\n",
       "      <th>elig_Prequalify</th>\n",
       "      <th>elig_NextStepsA</th>\n",
       "      <th>elig_NextStepsB</th>\n",
       "    </tr>\n",
       "  </thead>\n",
       "  <tbody>\n",
       "    <tr>\n",
       "      <th>count</th>\n",
       "      <td>57860</td>\n",
       "      <td>57860</td>\n",
       "      <td>57860</td>\n",
       "      <td>57860</td>\n",
       "    </tr>\n",
       "    <tr>\n",
       "      <th>unique</th>\n",
       "      <td>3</td>\n",
       "      <td>3</td>\n",
       "      <td>4</td>\n",
       "      <td>4</td>\n",
       "    </tr>\n",
       "    <tr>\n",
       "      <th>top</th>\n",
       "      <td>No</td>\n",
       "      <td>Yes</td>\n",
       "      <td>10</td>\n",
       "      <td>Continued with Navigation</td>\n",
       "    </tr>\n",
       "    <tr>\n",
       "      <th>freq</th>\n",
       "      <td>53131</td>\n",
       "      <td>51555</td>\n",
       "      <td>41141</td>\n",
       "      <td>37304</td>\n",
       "    </tr>\n",
       "  </tbody>\n",
       "</table>\n",
       "</div>"
      ],
      "text/plain": [
       "       elig_Insurance elig_Prequalify  elig_NextStepsA  \\\n",
       "count           57860           57860            57860   \n",
       "unique              3               3                4   \n",
       "top                No             Yes               10   \n",
       "freq            53131           51555            41141   \n",
       "\n",
       "                  elig_NextStepsB  \n",
       "count                       57860  \n",
       "unique                          4  \n",
       "top     Continued with Navigation  \n",
       "freq                        37304  "
      ]
     },
     "execution_count": 10,
     "metadata": {},
     "output_type": "execute_result"
    }
   ],
   "source": [
    "#pd.reset_option('display.float_format')\n",
    "df_elig.describe()"
   ]
  },
  {
   "cell_type": "code",
   "execution_count": 11,
   "id": "0eb7135c",
   "metadata": {},
   "outputs": [
    {
     "data": {
      "text/plain": [
       "No     53131\n",
       "10      3539\n",
       "Yes     1190\n",
       "Name: elig_Insurance, dtype: int64"
      ]
     },
     "execution_count": 11,
     "metadata": {},
     "output_type": "execute_result"
    }
   ],
   "source": [
    "df_elig['elig_Insurance'].value_counts()"
   ]
  },
  {
   "cell_type": "code",
   "execution_count": 12,
   "id": "3a7a34a8",
   "metadata": {},
   "outputs": [
    {
     "data": {
      "text/plain": [
       "array(['No', 10, 'Yes'], dtype=object)"
      ]
     },
     "execution_count": 12,
     "metadata": {},
     "output_type": "execute_result"
    }
   ],
   "source": [
    "df_elig['elig_Insurance'].unique()"
   ]
  },
  {
   "cell_type": "code",
   "execution_count": 13,
   "id": "2535e8e2",
   "metadata": {},
   "outputs": [
    {
     "data": {
      "text/plain": [
       "Yes    51555\n",
       "10      4463\n",
       "No      1842\n",
       "Name: elig_Prequalify, dtype: int64"
      ]
     },
     "execution_count": 13,
     "metadata": {},
     "output_type": "execute_result"
    }
   ],
   "source": [
    "df_elig['elig_Prequalify'].value_counts()"
   ]
  },
  {
   "cell_type": "code",
   "execution_count": 14,
   "id": "cf4c700b",
   "metadata": {},
   "outputs": [
    {
     "data": {
      "text/plain": [
       "array(['Yes', 10, 'No'], dtype=object)"
      ]
     },
     "execution_count": 14,
     "metadata": {},
     "output_type": "execute_result"
    }
   ],
   "source": [
    "df_elig['elig_Prequalify'].unique()"
   ]
  },
  {
   "cell_type": "code",
   "execution_count": 15,
   "id": "da9c48f6",
   "metadata": {},
   "outputs": [
    {
     "data": {
      "image/png": "[encoded data removed]",
      "text/plain": [
       "<Figure size 432x288 with 1 Axes>"
      ]
     },
     "metadata": {},
     "output_type": "display_data"
    }
   ],
   "source": [
    "import matplotlib.pyplot as plt\n",
    "y = np.array([7.71, 89.10, 3.18])\n",
    "mylabels = [\"Unknown\", \"Yes\", \"No\"]\n",
    "plt.title(\"Presumptive Eligibility - Prequalification for SmileOn 60+\")\n",
    "plt.pie(y, labels = mylabels)\n",
    "plt.show() "
   ]
  },
  {
   "cell_type": "code",
   "execution_count": 16,
   "id": "5affafb9",
   "metadata": {},
   "outputs": [
    {
     "data": {
      "text/plain": [
       "10                                  41141\n",
       "Continued with Navigation           15323\n",
       "No further questions from client     1286\n",
       "Refer to Health Match                 110\n",
       "Name: elig_NextStepsA, dtype: int64"
      ]
     },
     "execution_count": 16,
     "metadata": {},
     "output_type": "execute_result"
    }
   ],
   "source": [
    "df_elig['elig_NextStepsA'].value_counts()"
   ]
  },
  {
   "cell_type": "code",
   "execution_count": 17,
   "id": "adc4b301",
   "metadata": {},
   "outputs": [
    {
     "data": {
      "text/plain": [
       "array(['Continued with Navigation', 10,\n",
       "       'No further questions from client', 'Refer to Health Match'],\n",
       "      dtype=object)"
      ]
     },
     "execution_count": 17,
     "metadata": {},
     "output_type": "execute_result"
    }
   ],
   "source": [
    "df_elig['elig_NextStepsA'].unique()"
   ]
  },
  {
   "cell_type": "code",
   "execution_count": 18,
   "id": "7fa45693",
   "metadata": {},
   "outputs": [
    {
     "data": {
      "text/plain": [
       "Continued with Navigation           37304\n",
       "10                                  19746\n",
       "No further questions from client      727\n",
       "Refer to Health Match                  83\n",
       "Name: elig_NextStepsB, dtype: int64"
      ]
     },
     "execution_count": 18,
     "metadata": {},
     "output_type": "execute_result"
    }
   ],
   "source": [
    "df_elig['elig_NextStepsB'].value_counts()"
   ]
  }
 ],
 "metadata": {
  "kernelspec": {
   "display_name": "Python 3",
   "language": "python",
   "name": "python3"
  },
  "language_info": {
   "codemirror_mode": {
    "name": "ipython",
    "version": 3
   },
   "file_extension": ".py",
   "mimetype": "text/x-python",
   "name": "python",
   "nbconvert_exporter": "python",
   "pygments_lexer": "ipython3",
   "version": "3.8.8"
  }
 },
 "nbformat": 4,
 "nbformat_minor": 5
}
